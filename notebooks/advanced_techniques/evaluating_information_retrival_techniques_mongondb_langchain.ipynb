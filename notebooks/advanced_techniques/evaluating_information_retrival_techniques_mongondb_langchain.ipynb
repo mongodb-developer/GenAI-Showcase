{
  "cells": [
    {
      "cell_type": "markdown",
      "metadata": {
        "id": "oB0TFkwoNsv7"
      },
      "source": [
        "# Information Retrieval Evaluation With BEIR Benchmark and LangChain and MongoDB\n",
        "\n",
        "\n",
        "---\n",
        "\n"
      ]
    },
    {
      "cell_type": "markdown",
      "metadata": {
        "id": "TScxhzzCoi9q"
      },
      "source": [
        "# **Step 1: Install Libraires and Set Environment Variables**"
      ]
    },
    {
      "cell_type": "code",
      "execution_count": null,
      "metadata": {
        "id": "PqqPt3h_UbeG"
      },
      "outputs": [],
      "source": [
        "!pip install -q openai pymongo langchain langchain_mongodb langchain_openai beir"
      ]
    },
    {
      "cell_type": "code",
      "execution_count": null,
      "metadata": {
        "colab": {
          "base_uri": "https://localhost:8080/"
        },
        "id": "Bs3Safw_Uj00",
        "outputId": "5644eb4e-1132-483c-a8ac-b8fce85da591"
      },
      "outputs": [
        {
          "name": "stdout",
          "output_type": "stream",
          "text": [
            "Enter OpenAI API Key: ··········\n"
          ]
        }
      ],
      "source": [
        "import getpass\n",
        "import os\n",
        "\n",
        "OPENAI_API_KEY = getpass.getpass(\"Enter OpenAI API Key: \")\n",
        "os.environ[\"OPENAI_API_KEY\"] = OPENAI_API_KEY\n",
        "\n",
        "GPT_MODEL = \"gpt-4o-2024-08-06\"\n",
        "\n",
        "# Areas for optimisation of RAG Pipelines associated with chunking strategy\n",
        "EMBEDDING_MODEL = \"text-embedding-3-small\"\n",
        "EMBEDDING_DIMENSION_SIZE = 256"
      ]
    },
    {
      "cell_type": "code",
      "execution_count": null,
      "metadata": {
        "colab": {
          "base_uri": "https://localhost:8080/"
        },
        "id": "g0GJ9efPUtfA",
        "outputId": "1bc3addc-a31e-4a16-9dba-d3486679a419"
      },
      "outputs": [
        {
          "name": "stdout",
          "output_type": "stream",
          "text": [
            "Enter MongoDB URI: ··········\n"
          ]
        }
      ],
      "source": [
        "MONGO_URI = getpass.getpass(\"Enter MongoDB URI: \")\n",
        "os.environ[\"MONGO_URI\"] = MONGO_URI"
      ]
    },
    {
      "cell_type": "code",
      "execution_count": null,
      "metadata": {
        "id": "qa2Bn-N-pp9a"
      },
      "outputs": [],
      "source": [
        "metric_names = [\"NDCG\", \"MAP\", \"Recall\", \"Precision\"]\n",
        "information_retrieval_search_methods = [\"Lexical\", \"Vector\", \"Hybrid\"]"
      ]
    },
    {
      "cell_type": "markdown",
      "metadata": {
        "id": "rn4FIfvSo33q"
      },
      "source": [
        "# **Step 2: Data Loading**"
      ]
    },
    {
      "cell_type": "code",
      "execution_count": null,
      "metadata": {
        "colab": {
          "base_uri": "https://localhost:8080/"
        },
        "id": "jMYkRQwiVag2",
        "outputId": "e26784b4-e0fe-48d4-b8e3-9bff5a0c3ad0"
      },
      "outputs": [
        {
          "name": "stderr",
          "output_type": "stream",
          "text": [
            "/usr/local/lib/python3.10/dist-packages/beir/util.py:2: TqdmExperimentalWarning: Using `tqdm.autonotebook.tqdm` in notebook mode. Use `tqdm.tqdm` instead to force console mode (e.g. in jupyter console)\n",
            "  from tqdm.autonotebook import tqdm\n"
          ]
        }
      ],
      "source": [
        "from beir import util\n",
        "from beir.datasets.data_loader import GenericDataLoader\n",
        "from beir.retrieval.evaluation import EvaluateRetrieval\n",
        "\n",
        "\n",
        "# Load BEIR dataset\n",
        "def load_beir_dataset(dataset_name=\"scifact\"):\n",
        "    url = f\"https://public.ukp.informatik.tu-darmstadt.de/thakur/BEIR/datasets/{dataset_name}.zip\"\n",
        "    data_path = util.download_and_unzip(url, \"datasets\")\n",
        "    corpus, queries, qrels = GenericDataLoader(data_folder=data_path).load(split=\"test\")\n",
        "    return corpus, queries, qrels"
      ]
    },
    {
      "cell_type": "code",
      "execution_count": null,
      "metadata": {
        "colab": {
          "base_uri": "https://localhost:8080/",
          "height": 81,
          "referenced_widgets": [
            "51c3a472109243c681898fb32aeda7d7",
            "f22b82b8010a4a79b0b42908966cc89e",
            "35b668058eca435a86829f32ca421859",
            "84d25add023044d68f383b81dacaf462",
            "c3375ea1a272481babcaece7f79b428e",
            "6770f34c4be644cda13221e47d00ca28",
            "c2c384a4406b4b9f9dfc57779d7246ee",
            "33ef6c005a52428cb00a9e7ccb0e6b2c",
            "b8c4d550a4fb475d8a66c1e5deefb1f2",
            "c45d82a40d2c4096b6c00b6c93290add",
            "9cbf8f18e9dd4cd3acc274ad3f4868ae",
            "73cddc3fa8bb4495b335018fae3b063e",
            "4950b546681b4c8cbec0a9c3acf08c37",
            "30ccab778b894d8c86359fb850ee76f2",
            "c25ebc49169a4fccae65c84ba71b50c7",
            "00135b96c1e34abf94352e5d14dfbfc2",
            "350c3f298a7b414c8ab6ea4492fb98c3",
            "6275b672934d4cc383cc4c18f3dfe4b7",
            "b7df766690574c09b4942e0d27151171",
            "e65a397cb2e44371886c3f51362a9bc6",
            "7350acfbe3bd4e1cb4ff49290a6cd58f",
            "5b4d7df8ac4e4a788d7684f47f1d1b76"
          ]
        },
        "id": "si-mKb3ozi11",
        "outputId": "49973c88-3d9a-485e-ceb5-c80bd4c69330"
      },
      "outputs": [
        {
          "data": {
            "application/vnd.jupyter.widget-view+json": {
              "model_id": "51c3a472109243c681898fb32aeda7d7",
              "version_major": 2,
              "version_minor": 0
            },
            "text/plain": [
              "datasets/scifact.zip:   0%|          | 0.00/2.69M [00:00<?, ?iB/s]"
            ]
          },
          "metadata": {},
          "output_type": "display_data"
        },
        {
          "data": {
            "application/vnd.jupyter.widget-view+json": {
              "model_id": "73cddc3fa8bb4495b335018fae3b063e",
              "version_major": 2,
              "version_minor": 0
            },
            "text/plain": [
              "  0%|          | 0/5183 [00:00<?, ?it/s]"
            ]
          },
          "metadata": {},
          "output_type": "display_data"
        }
      ],
      "source": [
        "DATASET = \"scifact\"\n",
        "corpus, queries, qrels = load_beir_dataset(\"scifact\")"
      ]
    },
    {
      "cell_type": "code",
      "execution_count": null,
      "metadata": {
        "colab": {
          "base_uri": "https://localhost:8080/"
        },
        "id": "HhFVqdW6pZ5s",
        "outputId": "08214a74-93c1-4d12-f8ff-41717079c797"
      },
      "outputs": [
        {
          "name": "stdout",
          "output_type": "stream",
          "text": [
            "('4983', {'text': 'Alterations of the architecture of cerebral white matter in the developing human brain can affect cortical development and result in functional disabilities. A line scan diffusion-weighted magnetic resonance imaging (MRI) sequence with diffusion tensor analysis was applied to measure the apparent diffusion coefficient, to calculate relative anisotropy, and to delineate three-dimensional fiber architecture in cerebral white matter in preterm (n = 17) and full-term infants (n = 7). To assess effects of prematurity on cerebral white matter development, early gestation preterm infants (n = 10) were studied a second time at term. In the central white matter the mean apparent diffusion coefficient at 28 wk was high, 1.8 microm2/ms, and decreased toward term to 1.2 microm2/ms. In the posterior limb of the internal capsule, the mean apparent diffusion coefficients at both times were similar (1.2 versus 1.1 microm2/ms). Relative anisotropy was higher the closer birth was to term with greater absolute values in the internal capsule than in the central white matter. Preterm infants at term showed higher mean diffusion coefficients in the central white matter (1.4 +/- 0.24 versus 1.15 +/- 0.09 microm2/ms, p = 0.016) and lower relative anisotropy in both areas compared with full-term infants (white matter, 10.9 +/- 0.6 versus 22.9 +/- 3.0%, p = 0.001; internal capsule, 24.0 +/- 4.44 versus 33.1 +/- 0.6% p = 0.006). Nonmyelinated fibers in the corpus callosum were visible by diffusion tensor MRI as early as 28 wk; full-term and preterm infants at term showed marked differences in white matter fiber organization. The data indicate that quantitative assessment of water diffusion by diffusion tensor MRI provides insight into microstructural development in cerebral white matter in living infants.', 'title': 'Microstructural development of human newborn cerebral white matter assessed in vivo by diffusion tensor magnetic resonance imaging.'})\n",
            "\n",
            "('1', '0-dimensional biomaterials show inductive properties.')\n",
            "\n",
            "('1', {'31715818': 1})\n"
          ]
        }
      ],
      "source": [
        "# print the first item in the corpus\n",
        "print(list(corpus.items())[0])\n",
        "print()\n",
        "# print the first item in the queries\n",
        "print(list(queries.items())[0])\n",
        "print()\n",
        "# print the first item in the qrels\n",
        "print(list(qrels.items())[0])"
      ]
    },
    {
      "cell_type": "markdown",
      "metadata": {
        "id": "eLH0LwjprfhE"
      },
      "source": [
        "Corpus:\n",
        "The corpus is a dictionary where each key is a document ID, and the value is another dictionary containing the document's text and title. For example:\n",
        "\n",
        "```\n",
        "'4983': {\n",
        "    'text': 'Alterations of the architecture of cerebral white matter...',\n",
        "    'title': 'Microstructural development of human newborn cerebral white matter...'\n",
        "}\n",
        "```\n",
        "\n",
        "\n",
        "This corresponds to the scientific abstracts in our earlier example.\n",
        "\n",
        "Queries:\n",
        "The queries dictionary contains the scientific claims, where the key is a query ID and the value is the claim text. For example:\n",
        "\n",
        "```\n",
        "'1': '0-dimensional biomaterials show inductive properties.'\n",
        "```\n",
        "\n",
        "Qrels:\n",
        "The qrels (query relevance) dictionary contains the ground truth relevance judgments. It's structured as a nested dictionary where the outer key is the query ID, the inner key is a document ID, and the value is the relevance score (typically 1 for relevant, 0 for non-relevant). For example:\n",
        "\n",
        "```\n",
        "'1': {'31715818': 1}\n",
        "```\n",
        "This indicates that for query '1', the document with ID '31715818' is relevant."
      ]
    },
    {
      "cell_type": "markdown",
      "metadata": {
        "id": "iZjHLTKvruD4"
      },
      "source": [
        "# **Step 3: Data Ingestion**"
      ]
    },
    {
      "cell_type": "code",
      "execution_count": null,
      "metadata": {
        "id": "RXcJeBgqU8_7"
      },
      "outputs": [],
      "source": [
        "# MongoDB and OpenAI configuration\n",
        "MONGO_URI = os.getenv(\"MONGO_URI\")\n",
        "DB_NAME = \"information_retrieval_testing\"\n",
        "CORPUS_COLLECTION_NAME = f\"{DATASET}_corpus\"\n",
        "QUERIES_COLLECTION_NAME = f\"{DATASET}_queries\"\n",
        "QRELS_COLLECTION_NAME = f\"{DATASET}_qrels\"\n",
        "ATLAS_VECTOR_SEARCH_INDEX = \"vector_index\"\n",
        "TEXT_SEARCH_INDEX = \"text_search_index\""
      ]
    },
    {
      "cell_type": "code",
      "execution_count": null,
      "metadata": {
        "id": "83WZM4zxxPZ5"
      },
      "outputs": [],
      "source": [
        "import pymongo\n",
        "\n",
        "\n",
        "def get_mongo_client(mongo_uri):\n",
        "    \"\"\"Establish and validate connection to the MongoDB.\"\"\"\n",
        "\n",
        "    client = pymongo.MongoClient(\n",
        "        mongo_uri, appname=\"devrel.showcase.information_retrieval_eval.python\"\n",
        "    )\n",
        "\n",
        "    # Validate the connection\n",
        "    ping_result = client.admin.command(\"ping\")\n",
        "    if ping_result.get(\"ok\") == 1.0:\n",
        "        # Connection successful\n",
        "        print(\"Connection to MongoDB successful\")\n",
        "        return client\n",
        "    print(\"Connection to MongoDB failed\")\n",
        "    return None\n",
        "\n",
        "\n",
        "if not MONGO_URI:\n",
        "    print(\"MONGO_URI not set in environment variables\")"
      ]
    },
    {
      "cell_type": "code",
      "execution_count": null,
      "metadata": {
        "id": "UdnqDPk4xSex"
      },
      "outputs": [],
      "source": [
        "def ingest_data(db, corpus=None, corpus_collection_name=\"\", queries=None, qrels=None):\n",
        "    \"\"\"Ingest data into MongoDB collections.\"\"\"\n",
        "    # Ingest corpus\n",
        "    if corpus and corpus_collection_name:\n",
        "        corpus_docs = [\n",
        "            {\"_id\": doc_id, \"text\": doc[\"text\"], \"title\": doc[\"title\"]}\n",
        "            for doc_id, doc in corpus.items()\n",
        "        ]\n",
        "        db[corpus_collection_name].insert_many(corpus_docs)\n",
        "        print(f\"Ingested {len(corpus_docs)} documents into {corpus_collection_name}\")\n",
        "\n",
        "    # Ingest queries\n",
        "    if queries:\n",
        "        query_docs = [\n",
        "            {\"_id\": query_id, \"text\": query_text}\n",
        "            for query_id, query_text in queries.items()\n",
        "        ]\n",
        "        db[QUERIES_COLLECTION_NAME].insert_many(query_docs)\n",
        "        print(f\"Ingested {len(query_docs)} queries into {QUERIES_COLLECTION_NAME}\")\n",
        "\n",
        "    # Ingest qrels\n",
        "    if qrels:\n",
        "        qrel_docs = [\n",
        "            {\"query_id\": query_id, \"doc_id\": doc_id, \"relevance\": relevance}\n",
        "            for query_id, relevance_dict in qrels.items()\n",
        "            for doc_id, relevance in relevance_dict.items()\n",
        "        ]\n",
        "        db[QRELS_COLLECTION_NAME].insert_many(qrel_docs)\n",
        "        print(\n",
        "            f\"Ingested {len(qrel_docs)} relevance judgments into {QRELS_COLLECTION_NAME}\"\n",
        "        )"
      ]
    },
    {
      "cell_type": "code",
      "execution_count": null,
      "metadata": {
        "id": "jE8QdJsSrSBD"
      },
      "outputs": [],
      "source": [
        "# Programmatically create vector search index for both colelctions\n",
        "from pymongo.operations import SearchIndexModel\n",
        "\n",
        "\n",
        "def setup_vector_search_index_with_filter(\n",
        "    collection, index_definition, index_name=\"vector_index\"\n",
        "):\n",
        "    \"\"\"\n",
        "    Setup a vector search index for a MongoDB collection.\n",
        "\n",
        "    Args:\n",
        "    collection: MongoDB collection object\n",
        "    index_definition: Dictionary containing the index definition\n",
        "    index_name: Name of the index (default: \"vector_index_with_filter\")\n",
        "    \"\"\"\n",
        "    new_vector_search_index_model = SearchIndexModel(\n",
        "        definition=index_definition,\n",
        "        name=index_name,\n",
        "    )\n",
        "\n",
        "    # Create the new index\n",
        "    try:\n",
        "        result = collection.create_search_index(model=new_vector_search_index_model)\n",
        "        print(f\"Creating index '{index_name}'...\")\n",
        "        # time.sleep(20)  # Sleep for 20 seconds\n",
        "        print(f\"New index '{index_name}' created successfully:\", result)\n",
        "    except Exception as e:\n",
        "        print(f\"Error creating new vector search index '{index_name}': {e!s}\")\n",
        "\n",
        "\n",
        "def create_collection_search_index(collection, index_definition, index_name):\n",
        "    \"\"\"\n",
        "    Create a search index for a MongoDB Atlas collection.\n",
        "\n",
        "    Args:\n",
        "    collection: MongoDB collection object\n",
        "    index_definition: Dictionary defining the index mappings\n",
        "    index_name: String name for the index\n",
        "\n",
        "    Returns:\n",
        "    str: Result of the index creation operation\n",
        "    \"\"\"\n",
        "\n",
        "    try:\n",
        "        search_index_model = SearchIndexModel(\n",
        "            definition=index_definition, name=index_name\n",
        "        )\n",
        "\n",
        "        result = collection.create_search_index(model=search_index_model)\n",
        "        print(f\"Search index '{index_name}' created successfully\")\n",
        "        return result\n",
        "    except Exception as e:\n",
        "        print(f\"Error creating search index: {e!s}\")\n",
        "        return None\n",
        "\n",
        "\n",
        "def print_collection_search_indexes(collection):\n",
        "    \"\"\"\n",
        "    Print all search indexes for a given collection.\n",
        "\n",
        "    Args:\n",
        "    collection: MongoDB collection object\n",
        "    \"\"\"\n",
        "    print(f\"\\nSearch indexes for collection '{collection.name}':\")\n",
        "    for index in collection.list_search_indexes():\n",
        "        print(f\"Index: {index['name']}\")"
      ]
    },
    {
      "cell_type": "code",
      "execution_count": null,
      "metadata": {
        "id": "fVXiHE1TrSDu"
      },
      "outputs": [],
      "source": [
        "corpus_text_index_definition = {\n",
        "    \"mappings\": {\n",
        "        \"dynamic\": True,\n",
        "        \"fields\": {\"text\": {\"type\": \"string\"}, \"title\": {\"type\": \"string\"}},\n",
        "    }\n",
        "}"
      ]
    },
    {
      "cell_type": "code",
      "execution_count": null,
      "metadata": {
        "id": "-ALHxcwrPnan"
      },
      "outputs": [],
      "source": [
        "corpus_vector_search_index_definition = {\n",
        "    \"mappings\": {\n",
        "        \"dynamic\": True,\n",
        "        \"fields\": {\n",
        "            \"embedding\": {\n",
        "                \"dimensions\": 256,\n",
        "                \"similarity\": \"cosine\",\n",
        "                \"type\": \"knnVector\",\n",
        "            },\n",
        "        },\n",
        "    }\n",
        "}"
      ]
    },
    {
      "cell_type": "code",
      "execution_count": null,
      "metadata": {
        "colab": {
          "base_uri": "https://localhost:8080/"
        },
        "id": "H_aXwoOkly7c",
        "outputId": "08bbb3c4-3454-4769-f52f-560de258d762"
      },
      "outputs": [
        {
          "name": "stdout",
          "output_type": "stream",
          "text": [
            "Connection to MongoDB successful\n"
          ]
        }
      ],
      "source": [
        "mongo_client = get_mongo_client(MONGO_URI)\n",
        "\n",
        "if mongo_client:\n",
        "    db = mongo_client[DB_NAME]"
      ]
    },
    {
      "cell_type": "code",
      "execution_count": null,
      "metadata": {
        "colab": {
          "base_uri": "https://localhost:8080/"
        },
        "id": "IL9oNrmwrSKx",
        "outputId": "d4a6d519-c109-44f7-9a5f-19d376fe1348"
      },
      "outputs": [
        {
          "name": "stdout",
          "output_type": "stream",
          "text": [
            "Connection to MongoDB successful\n",
            "Ingested 5183 documents into scifact_corpus\n",
            "Ingested 300 queries into scifact_queries\n",
            "Ingested 339 relevance judgments into scifact_qrels\n",
            "Error creating search index: Duplicate Index, full error: {'ok': 0.0, 'errmsg': 'Duplicate Index', 'code': 68, 'codeName': 'IndexAlreadyExists', '$clusterTime': {'clusterTime': Timestamp(1726576877, 639), 'signature': {'hash': b'VS\\x0eI\\x1a}\\x85Gw\\xc1G\\x8d\\xa0\\xec\\x13\\xd2s\\xe4Q\\x8a', 'keyId': 7353740577831124994}}, 'operationTime': Timestamp(1726576877, 639)}\n",
            "\n",
            "Search indexes for collection 'scifact_corpus':\n",
            "Index: text_search_index\n"
          ]
        }
      ],
      "source": [
        "# Clear existing collections\n",
        "for collection in [\n",
        "    CORPUS_COLLECTION_NAME,\n",
        "    QUERIES_COLLECTION_NAME,\n",
        "    QRELS_COLLECTION_NAME,\n",
        "]:\n",
        "    db[collection].delete_many({})"
      ]
    },
    {
      "cell_type": "code",
      "execution_count": null,
      "metadata": {
        "id": "6bq7N_ossaRc"
      },
      "outputs": [],
      "source": [
        "# Ingest data\n",
        "ingest_data(db, corpus, CORPUS_COLLECTION_NAME, queries, qrels)"
      ]
    },
    {
      "cell_type": "code",
      "execution_count": null,
      "metadata": {
        "id": "S0uDUvjnseHs"
      },
      "outputs": [],
      "source": [
        "# Create Search Index for corpus collection\n",
        "create_collection_search_index(\n",
        "    db[CORPUS_COLLECTION_NAME], corpus_text_index_definition, TEXT_SEARCH_INDEX\n",
        ")"
      ]
    },
    {
      "cell_type": "code",
      "execution_count": null,
      "metadata": {
        "colab": {
          "base_uri": "https://localhost:8080/"
        },
        "id": "ryULZmjAsfTj",
        "outputId": "9ac08c5d-cda1-4aa1-c91b-65bd05e0376b"
      },
      "outputs": [
        {
          "name": "stdout",
          "output_type": "stream",
          "text": [
            "Creating index 'vector_index'...\n",
            "New index 'vector_index' created successfully: vector_index\n"
          ]
        }
      ],
      "source": [
        "# Create Vector Search Index for corpus collection\n",
        "setup_vector_search_index_with_filter(\n",
        "    db[CORPUS_COLLECTION_NAME], corpus_vector_search_index_definition\n",
        ")"
      ]
    },
    {
      "cell_type": "code",
      "execution_count": null,
      "metadata": {
        "id": "wa-ZcsuZsgtV"
      },
      "outputs": [],
      "source": [
        "# Verify Index creation\n",
        "print_collection_search_indexes(db[CORPUS_COLLECTION_NAME])"
      ]
    },
    {
      "cell_type": "markdown",
      "metadata": {
        "id": "QKWTwCffLUXt"
      },
      "source": [
        "# **Step 4: Embedding Generation**"
      ]
    },
    {
      "cell_type": "code",
      "execution_count": null,
      "metadata": {
        "id": "tXgkBeppL7xt"
      },
      "outputs": [],
      "source": [
        "import openai\n",
        "from tqdm import tqdm\n",
        "\n",
        "\n",
        "def generate_and_store_embeddings(corpus, db, collection_name):\n",
        "    collection = db[collection_name]\n",
        "\n",
        "    print(\"Checking for documents without embeddings...\")\n",
        "\n",
        "    # Get all document IDs from the corpus\n",
        "    all_doc_ids = set(corpus.keys())\n",
        "\n",
        "    # Query for documents that have embeddings in a single operation\n",
        "    docs_with_embeddings = set(\n",
        "        doc[\"_id\"]\n",
        "        for doc in collection.find(\n",
        "            {\"_id\": {\"$in\": list(all_doc_ids)}, \"embedding\": {\"$exists\": True}},\n",
        "            projection={\"_id\": 1},\n",
        "        )\n",
        "    )\n",
        "\n",
        "    # Find documents that need embeddings\n",
        "    documents_to_embed = []\n",
        "    for doc_id in tqdm(all_doc_ids, desc=\"Identifying documents to embed\"):\n",
        "        if doc_id not in docs_with_embeddings:\n",
        "            documents_to_embed.append((doc_id, corpus[doc_id]))\n",
        "\n",
        "    print(\n",
        "        f\"Found {len(documents_to_embed)} documents without embeddings out of {len(corpus)} total documents.\"\n",
        "    )\n",
        "\n",
        "    if documents_to_embed:\n",
        "        print(\"Generating embeddings for documents without them...\")\n",
        "        for doc_id, doc in tqdm(documents_to_embed, desc=\"Embedding documents\"):\n",
        "            content = f\"{doc.get('title', '')} {doc.get('text', '')}\"\n",
        "            try:\n",
        "                embedding = (\n",
        "                    openai.embeddings.create(\n",
        "                        input=content,\n",
        "                        model=EMBEDDING_MODEL,\n",
        "                        dimensions=EMBEDDING_DIMENSION_SIZE,\n",
        "                    )\n",
        "                    .data[0]\n",
        "                    .embedding\n",
        "                )\n",
        "\n",
        "                collection.update_one(\n",
        "                    {\"_id\": doc_id}, {\"$set\": {\"embedding\": embedding}}, upsert=True\n",
        "                )\n",
        "            except Exception as e:\n",
        "                print(f\"Error generating embedding for document {doc_id}: {e!s}\")\n",
        "\n",
        "        print(\"New embeddings generated and stored successfully.\")\n",
        "    else:\n",
        "        print(\n",
        "            \"All documents already have embeddings. No new embeddings were generated.\"\n",
        "        )\n",
        "\n",
        "    # Verify the number of documents with embeddings\n",
        "    docs_with_embeddings = collection.count_documents({\"embedding\": {\"$exists\": True}})\n",
        "    print(f\"Total documents with embeddings: {docs_with_embeddings}\")"
      ]
    },
    {
      "cell_type": "code",
      "execution_count": null,
      "metadata": {
        "colab": {
          "base_uri": "https://localhost:8080/"
        },
        "id": "7uquQeozNVO4",
        "outputId": "402a70fd-4b45-4c79-d115-63f942f7b99e"
      },
      "outputs": [
        {
          "name": "stdout",
          "output_type": "stream",
          "text": [
            "Checking for documents without embeddings...\n"
          ]
        },
        {
          "name": "stderr",
          "output_type": "stream",
          "text": [
            "Checking documents: 100%|██████████| 5183/5183 [10:19<00:00,  8.37it/s]\n"
          ]
        },
        {
          "name": "stdout",
          "output_type": "stream",
          "text": [
            "Found 478 documents without embeddings out of 5183 total documents.\n",
            "Generating embeddings for documents without them...\n"
          ]
        },
        {
          "name": "stderr",
          "output_type": "stream",
          "text": [
            "Embedding documents: 100%|██████████| 478/478 [03:29<00:00,  2.28it/s]"
          ]
        },
        {
          "name": "stdout",
          "output_type": "stream",
          "text": [
            "New embeddings generated and stored successfully.\n",
            "Total documents with embeddings: 5183\n"
          ]
        },
        {
          "name": "stderr",
          "output_type": "stream",
          "text": [
            "\n"
          ]
        }
      ],
      "source": [
        "generate_and_store_embeddings(corpus, db, CORPUS_COLLECTION_NAME)"
      ]
    },
    {
      "cell_type": "markdown",
      "metadata": {
        "id": "H5JDJPQIBouB"
      },
      "source": [
        "# **Step 5: Testing Information Retrieval Mechanisms**"
      ]
    },
    {
      "cell_type": "code",
      "execution_count": null,
      "metadata": {
        "colab": {
          "base_uri": "https://localhost:8080/"
        },
        "id": "XXRlz-HKrSNH",
        "outputId": "116ecda2-84ce-4380-96f2-e83a0fc42ef8"
      },
      "outputs": [
        {
          "name": "stdout",
          "output_type": "stream",
          "text": [
            "Number of documents in scifact_corpus: 5183\n",
            "Number of queries in scifact_queries: 300\n",
            "Number of relevance judgments in scifact_qrels: 339\n",
            "\n",
            "Sample document from corpus:\n",
            "{'_id': '4983', 'text': 'Alterations of the architecture of cerebral white matter in the developing human brain can affect cortical development and result in functional disabilities. A line scan diffusion-weighted magnetic resonance imaging (MRI) sequence with diffusion tensor analysis was applied to measure the apparent diffusion coefficient, to calculate relative anisotropy, and to delineate three-dimensional fiber architecture in cerebral white matter in preterm (n = 17) and full-term infants (n = 7). To assess effects of prematurity on cerebral white matter development, early gestation preterm infants (n = 10) were studied a second time at term. In the central white matter the mean apparent diffusion coefficient at 28 wk was high, 1.8 microm2/ms, and decreased toward term to 1.2 microm2/ms. In the posterior limb of the internal capsule, the mean apparent diffusion coefficients at both times were similar (1.2 versus 1.1 microm2/ms). Relative anisotropy was higher the closer birth was to term with greater absolute values in the internal capsule than in the central white matter. Preterm infants at term showed higher mean diffusion coefficients in the central white matter (1.4 +/- 0.24 versus 1.15 +/- 0.09 microm2/ms, p = 0.016) and lower relative anisotropy in both areas compared with full-term infants (white matter, 10.9 +/- 0.6 versus 22.9 +/- 3.0%, p = 0.001; internal capsule, 24.0 +/- 4.44 versus 33.1 +/- 0.6% p = 0.006). Nonmyelinated fibers in the corpus callosum were visible by diffusion tensor MRI as early as 28 wk; full-term and preterm infants at term showed marked differences in white matter fiber organization. The data indicate that quantitative assessment of water diffusion by diffusion tensor MRI provides insight into microstructural development in cerebral white matter in living infants.', 'title': 'Microstructural development of human newborn cerebral white matter assessed in vivo by diffusion tensor magnetic resonance imaging.', 'embedding': [0.04606284201145172, 0.08591383695602417, 0.09022205322980881, 0.048893239349126816, -0.06587562710046768, -0.013738700188696384, 0.055606041103601456, 0.002784998621791601, -0.03574316203594208, -0.051347922533750534, 0.033012956380844116, 0.055455755442380905, -0.06297008693218231, 0.012718003243207932, 0.04223053529858589, -0.04864276200532913, 0.0244215726852417, -0.02259308658540249, 0.06602591276168823, 0.01981278322637081, 0.09733562171459198, 0.044159211218357086, -0.054253462702035904, 0.023156659677624702, 0.03376438841223717, -0.07589473575353622, 0.05826110392808914, 0.004818564280867577, -0.01693229004740715, 0.056958623230457306, -0.026024630293250084, -0.014151988551020622, 0.019174065440893173, -0.033789437264204025, -0.06637658178806305, 0.0949811339378357, -0.03336362540721893, 0.02305646985769272, -0.02945617400109768, -0.03140990063548088, -0.008841861970722675, -0.02790321223437786, -0.06717810779809952, 0.02732711285352707, -0.05490470677614212, -0.01709510013461113, -0.03426534682512283, 0.028103593736886978, -0.00209931586869061, 0.11872641742229462, -0.05265040695667267, 0.02152855508029461, 0.004887445364147425, -0.038798991590738297, -0.12774361670017242, 0.023068992421030998, -0.004311346914619207, -0.01922416128218174, -0.039450231939554214, -0.09788667410612106, 0.07614520937204361, 0.011597116477787495, 0.03138485178351402, 0.014089369215071201, -0.022655704990029335, -0.04851752519607544, -0.08486183732748032, 0.0019725116435438395, 0.10289622843265533, -0.0467391312122345, -0.04929400607943535, -0.002121232682839036, 0.041429005563259125, -0.0016938552726060152, -0.09087330102920532, 0.007107303943485022, 0.0032311619725078344, -0.08796776086091995, 0.019449591636657715, 0.06221865117549896, 0.00033207860542461276, -0.03383953124284744, -0.02990703284740448, -0.028153689578175545, -0.051498208194971085, -0.0503460131585598, 0.031359802931547165, -0.022016987204551697, 0.04969476908445358, -0.031234566122293472, 0.03772193565964699, -0.00132596620824188, -0.07995247095823288, 0.06036511808633804, 0.05846148729324341, -0.07113565504550934, -0.012599026784300804, -0.02424623817205429, -0.00929272174835205, 0.0521494522690773, -0.05480451509356499, 0.047991521656513214, 0.0500454381108284, 0.05079687014222145, -0.015930378809571266, -0.05107239633798599, 0.016393763944506645, -0.09182511270046234, -0.08816813677549362, -0.011415519751608372, 0.11231418699026108, 0.0647234320640564, 0.011897689662873745, 0.0854128822684288, 0.016130762174725533, 0.031334757804870605, -0.20428958535194397, -0.12113100290298462, -0.015128850936889648, 0.11221399903297424, 0.0038260463625192642, 0.0976862907409668, 0.0006848998600617051, -0.06988327205181122, 0.07945151627063751, -0.028128642588853836, -0.003635057248175144, -0.012548930943012238, -0.052249640226364136, 0.052850786596536636, 0.08736661076545715, 0.05720910057425499, 0.11111189424991608, -0.04476035758852959, -0.03584335371851921, 0.0332634337246418, 0.025824246928095818, 0.039901092648506165, -0.0533517450094223, -0.009223840199410915, 0.058962441980838776, -0.007983976043760777, 0.21561117470264435, 0.01709510013461113, 0.11802507936954498, 0.05320145562291145, 0.043407779186964035, 0.10590195655822754, 0.06487371772527695, 0.06297008693218231, -0.04152919724583626, 0.09147444367408752, -0.030132463201880455, -0.132452592253685, 0.04909362271428108, 0.02563638985157013, 0.09553218632936478, 0.058211009949445724, -0.027502447366714478, -0.04425940290093422, -0.06542477011680603, 0.05480451509356499, 0.016731908544898033, -0.011640950106084347, 0.07574445009231567, 0.06582552939653397, -0.0824071541428566, -0.01846020482480526, -0.1816464066505432, -0.029681604355573654, 0.012849504128098488, -0.014627896249294281, -0.056658048182725906, 0.007245066575706005, 0.0409030020236969, 0.02181660570204258, -0.039274897426366806, -0.18024373054504395, 0.060465309768915176, -0.03246190771460533, -0.05475441738963127, 0.08100447803735733, -0.01227340567857027, 0.12093061953783035, -0.10990960150957108, 0.0007573035545647144, -0.09022205322980881, 0.11892680078744888, 0.06056550145149231, -0.038222894072532654, 0.03095903992652893, -0.07489282637834549, 0.08536279201507568, -0.02667587250471115, 0.037296123802661896, -0.03995118662714958, 0.11562049388885498, 0.016356192529201508, -0.08726642280817032, 0.010081726126372814, 0.06021483242511749, -0.010037892498075962, -0.06286989152431488, -0.03065846674144268, -0.03373934328556061, 0.04698961228132248, 0.08140524476766586, 0.006719063501805067, -0.0778985545039177, -0.03829803690314293, 0.07384081929922104, -0.009424222633242607, -0.014101892709732056, 0.11211380362510681, -0.1267417073249817, -0.035167064517736435, -0.0839100182056427, -0.025235624983906746, 0.09793677181005478, -0.013851415365934372, -0.05109744518995285, 0.008779242634773254, 0.005053387023508549, 0.13024838268756866, -0.08521250635385513, 0.04992019757628441, 0.014101892709732056, 0.0010747057385742664, -0.022179797291755676, -0.027051588520407677, 0.18425136804580688, 0.05555594712495804, -0.09132415801286697, 0.02060178853571415, 0.019011255353689194, 0.015416900627315044, 0.0016609800513833761, -0.03965061530470848, 0.06297008693218231, -0.04425940290093422, 0.06302018463611603, 0.04786628112196922, -0.024684574455022812, 0.04007642716169357, -0.07935132831335068, 0.0635211393237114, -0.022330084815621376, -0.06392189860343933, -0.044785406440496445, -0.03541754186153412, -0.0262250117957592, -0.1771378070116043, 0.021866699680685997, -0.01402674987912178, -0.04045214504003525, 0.0409030020236969]}\n",
            "\n",
            "Sample query:\n",
            "{'_id': '1', 'text': '0-dimensional biomaterials show inductive properties.'}\n",
            "\n",
            "Sample relevance judgment:\n",
            "{'_id': ObjectId('66e978ed10117d8d102d48b9'), 'query_id': '1', 'doc_id': '31715818', 'relevance': 1}\n"
          ]
        }
      ],
      "source": [
        "# You can add this cell to verify that the data was ingested correctly\n",
        "print(\n",
        "    f\"Number of documents in {CORPUS_COLLECTION_NAME}: {db[CORPUS_COLLECTION_NAME].count_documents({})}\"\n",
        ")\n",
        "print(\n",
        "    f\"Number of queries in {QUERIES_COLLECTION_NAME}: {db[QUERIES_COLLECTION_NAME].count_documents({})}\"\n",
        ")\n",
        "print(\n",
        "    f\"Number of relevance judgments in {QRELS_COLLECTION_NAME}: {db[QRELS_COLLECTION_NAME].count_documents({})}\"\n",
        ")\n",
        "\n",
        "# Display a sample document from each collection\n",
        "print(\"\\nSample document from corpus:\")\n",
        "print(db[CORPUS_COLLECTION_NAME].find_one())\n",
        "print(\"\\nSample query:\")\n",
        "print(db[QUERIES_COLLECTION_NAME].find_one())\n",
        "print(\"\\nSample relevance judgment:\")\n",
        "print(db[QRELS_COLLECTION_NAME].find_one())"
      ]
    },
    {
      "cell_type": "markdown",
      "metadata": {
        "id": "1N4JMyhjCSqr"
      },
      "source": [
        "### Full text search MongoDB Aggregation Pipeline Integration"
      ]
    },
    {
      "cell_type": "code",
      "execution_count": null,
      "metadata": {
        "id": "SdPIeV51CYKA"
      },
      "outputs": [],
      "source": [
        "def full_text_search_aggregation_pipeline():\n",
        "    pass"
      ]
    },
    {
      "cell_type": "markdown",
      "metadata": {
        "id": "yiACYciRB8uJ"
      },
      "source": [
        "### Full text search with LangChain<>MongoDB Integration"
      ]
    },
    {
      "cell_type": "code",
      "execution_count": null,
      "metadata": {
        "id": "_a_inIiFAhBo"
      },
      "outputs": [],
      "source": [
        "# Test lexical search with MongoDB Atlas\n",
        "from typing import Any, List, Tuple\n",
        "\n",
        "from langchain.schema import Document\n",
        "from langchain_mongodb.retrievers import MongoDBAtlasFullTextSearchRetriever\n",
        "\n",
        "\n",
        "def full_text_search(collection, query: str, top_k: int = 10) -> List[Document]:\n",
        "    full_text_search = MongoDBAtlasFullTextSearchRetriever(\n",
        "        collection=collection,\n",
        "        search_index_name=TEXT_SEARCH_INDEX,\n",
        "        search_field=\"text\",\n",
        "        top_k=top_k,\n",
        "    )\n",
        "    return full_text_search.get_relevant_documents(query)"
      ]
    },
    {
      "cell_type": "code",
      "execution_count": null,
      "metadata": {
        "colab": {
          "base_uri": "https://localhost:8080/"
        },
        "id": "TCaTEr5eBCaL",
        "outputId": "07fa1703-0874-4798-bbd5-89c62d9ce9fa"
      },
      "outputs": [
        {
          "name": "stderr",
          "output_type": "stream",
          "text": [
            "<ipython-input-17-c56d97b5b0bd>:13: LangChainDeprecationWarning: The method `BaseRetriever.get_relevant_documents` was deprecated in langchain-core 0.1.46 and will be removed in 1.0. Use :meth:`~invoke` instead.\n",
            "  return full_text_search.get_relevant_documents(query)\n"
          ]
        },
        {
          "data": {
            "text/plain": [
              "[Document(metadata={'_id': '10608397', 'title': 'High-performance neuroprosthetic control by an individual with tetraplegia.', 'embedding': [0.04973480477929115, 0.03962016850709915, 0.039430856704711914, 0.05847017467021942, -0.008748890832066536, -0.015090822242200375, -0.013170663267374039, 0.11856301873922348, 0.07177606225013733, 0.06485266983509064, 0.035752806812524796, -0.035211917012929916, -0.020391540601849556, -0.038754746317863464, 0.09503431618213654, -0.13619601726531982, 0.06528538465499878, -0.10163316875696182, -4.650911796488799e-05, 0.03134455531835556, 0.1062307357788086, -0.06025511026382446, -0.0011722093913704157, -0.03283200412988663, 0.04792282357811928, -0.02377210184931755, 0.008437879383563995, -0.055495280772447586, -0.04043150320649147, 0.01054734829813242, 0.02690926194190979, -0.02799104154109955, -0.09589973837137222, -0.07139743864536285, -0.006781404372304678, 0.022406354546546936, 0.028045129030942917, 0.014374143444001675, -0.02072959765791893, 0.03994470089673996, 0.086001455783844, -0.09708969295024872, 0.0025235884822905064, 0.10974651575088501, -0.055765725672245026, -0.04302777349948883, -0.05495439097285271, 0.004340639803558588, -0.03715911880135536, 0.12548640370368958, -0.03913336619734764, 0.09384436160326004, -0.02708505094051361, 0.06755711883306503, -0.03783523291349411, 0.12018568813800812, 0.016240213066339493, -0.05078953877091408, -0.04805804789066315, 0.04527246579527855, -0.06193186715245247, -0.05400783568620682, 0.056090258061885834, -0.06409543007612228, -0.09243804216384888, 0.020526763051748276, -0.09449342638254166, 0.03840316832065582, 0.005557641386985779, 0.032886091619729996, -0.06571809202432632, 0.06371680647134781, -0.023082466796040535, 0.044569309800863266, -0.10687980055809021, 0.07805038243532181, -0.033913783729076385, 0.06560991704463959, 0.0519254095852375, 0.006835493259131908, -0.05495439097285271, -0.09730605036020279, -0.008863830007612705, 0.007038326933979988, -0.13727779686450958, 0.004482623189687729, -0.05506256967782974, -0.12721724808216095, -0.08562283217906952, -0.06085008755326271, 0.007457516621798277, -0.021513886749744415, -0.046597644686698914, 0.055549368262290955, 0.09005813300609589, -0.1271090805530548, -0.026652337983250618, -0.013799447566270828, 0.050167515873909, 0.0689634308218956, -0.03031686693429947, 0.03710503131151199, 0.03294018283486366, -0.023258255794644356, 0.09844192117452621, 0.021730242297053337, -0.02100004069507122, 0.036564141511917114, 0.05998466536402702, 0.045921534299850464, 0.05619843676686287, -0.029965287074446678, -0.03669936582446098, -0.018295593559741974, 0.09081537276506424, -0.06945023685693741, 0.09470978379249573, -0.08107936382293701, 0.043460484594106674, -0.007890228182077408, -0.03840316832065582, 0.09968596696853638, -0.01898522675037384, -0.10877291113138199, -0.014766287989914417, -0.0935739129781723, 0.008863830007612705, -0.008681279607117176, -0.016551224514842033, -0.1318688988685608, 0.0158480666577816, 0.0950884073972702, 0.10152499377727509, -0.06858480721712112, -0.10568984597921371, 0.09752240777015686, -0.07069428265094757, -0.022135909646749496, -0.07529184222221375, -0.04567813128232956, -0.07610318064689636, -0.03702389821410179, -0.02999233268201351, -0.010811032727360725, -0.07345281541347504, -0.0031320892740041018, 0.14376847445964813, 0.1153176799416542, 0.0016091468278318644, 0.024123679846525192, -0.053980790078639984, 0.0017164795426651835, -0.018511949107050896, 0.03318358212709427, -0.01341406349092722, -0.052899010479450226, -0.08405425399541855, 0.07810446619987488, -0.028937596827745438, -0.12581093609333038, -0.023393478244543076, 0.018457859754562378, 0.06160733476281166, -0.00996589194983244, 0.07312828302383423, 0.14387665688991547, -0.06707032024860382, 0.08735368400812149, -0.10736659914255142, -0.06907161325216293, -0.006142478436231613, -0.06809800863265991, -0.1677839756011963, 0.015293655917048454, 0.03410309553146362, -0.08610963821411133, 0.0851360335946083, 0.011169372126460075, -0.005882175173610449, -0.16215872764587402, -0.08281020820140839, 0.016672924160957336, 0.038619522005319595, 0.08654234558343887, -0.14463390409946442, 0.026408938691020012, -0.07188423722982407, 0.06598854064941406, -0.0415673702955246, 0.003982300404459238, 0.07280375063419342, -2.120773569913581e-05, 0.08740776777267456, 0.03294018283486366, 0.05430532246828079, -0.013035440817475319, 0.1195366159081459, -0.01906636171042919, 0.014306532219052315, -0.10601437836885452, 0.020878341048955917, -0.03134455531835556, 0.009120752103626728, -0.09963187575340271, 0.038835879415273666, -0.034589894115924835, 0.030208688229322433, 0.08021394163370132, -0.014698676764965057, -0.005601588636636734, 0.0018170512048527598, -0.02834261953830719, 0.0746968612074852, -0.01227143406867981, -0.05387261137366295, -0.025908615440130234, 0.00805925577878952, 0.017673570662736893, -0.02530011534690857, -0.026260193437337875, -0.05933559685945511, -0.04143214970827103, 0.031615000218153, 0.06847663223743439, -0.08427061140537262, 0.0054021356627345085, 0.09076128900051117, 0.05373739078640938, 0.029180997982621193, -0.05484621226787567, 0.03934972360730171, -0.003162514418363571, 0.06901752203702927, -0.047706469893455505, 0.01077046524733305, 0.08654234558343887, 0.04397432878613472, -0.01687575876712799, 0.05933559685945511, -0.07085654884576797, 0.10633891075849533, 0.08610963821411133, 0.0718301460146904, -0.05051909387111664, -0.028531929478049278, 0.03139864653348923, -0.05982239916920662, -0.04343344271183014, 0.0023613215889781713, -0.005672580562531948, 0.03780818730592728, -0.028423752635717392, 0.0035259246360510588, 0.011791395023465157, -0.050573185086250305, 0.041702594608068466], 'score': 6.045361518859863}, page_content=\"BACKGROUND Paralysis or amputation of an arm results in the loss of the ability to orient the hand and grasp, manipulate, and carry objects, functions that are essential for activities of daily living. Brain-machine interfaces could provide a solution to restoring many of these lost functions. We therefore tested whether an individual with tetraplegia could rapidly achieve neurological control of a high-performance prosthetic limb using this type of an interface. METHODS We implanted two 96-channel intracortical microelectrodes in the motor cortex of a 52-year-old individual with tetraplegia. Brain-machine-interface training was done for 13 weeks with the goal of controlling an anthropomorphic prosthetic limb with seven degrees of freedom (three-dimensional translation, three-dimensional orientation, one-dimensional grasping). The participant's ability to control the prosthetic limb was assessed with clinical measures of upper limb function. This study is registered with ClinicalTrials.gov, NCT01364480. FINDINGS The participant was able to move the prosthetic limb freely in the three-dimensional workspace on the second day of training. After 13 weeks, robust seven-dimensional movements were performed routinely. Mean success rate on target-based reaching tasks was 91·6% (SD 4·4) versus median chance level 6·2% (95% CI 2·0-15·3). Improvements were seen in completion time (decreased from a mean of 148 s [SD 60] to 112 s [6]) and path efficiency (increased from 0·30 [0·04] to 0·38 [0·02]). The participant was also able to use the prosthetic limb to do skilful and coordinated reach and grasp movements that resulted in clinically significant gains in tests of upper limb function. No adverse events were reported. INTERPRETATION With continued development of neuroprosthetic limbs, individuals with long-term paralysis could recover the natural and intuitive command signals for hand placement, orientation, and reaching, allowing them to perform activities of daily living. FUNDING Defense Advanced Research Projects Agency, National Institutes of Health, Department of Veterans Affairs, and UPMC Rehabilitation Institute.\"),\n",
              " Document(metadata={'_id': '40212412', 'title': 'Periosteal bone formation--a neglected determinant of bone strength.', 'embedding': [0.1082371175289154, 0.1280379444360733, 0.1598527580499649, 0.03673721104860306, -0.029200661927461624, 0.13182012736797333, 0.09383145719766617, -0.07575485855340958, 0.017103243619203568, -0.044329386204481125, 0.03173138573765755, -0.04374537244439125, -0.0208993311971426, 0.034067437052726746, 0.04516369104385376, 0.009698791429400444, 0.09772487729787827, -0.0628509446978569, -0.055230963975191116, -0.03242664039134979, 0.044829968363046646, -0.022303743287920952, 0.0075574093498289585, -0.1303739994764328, -0.033956196159124374, 0.0214416291564703, 0.03237101808190346, -0.032927222549915314, -0.0032937650103121996, -0.037905238568782806, 0.01654704101383686, -0.04989141598343849, 0.0054925051517784595, -0.005270024295896292, -0.0731407031416893, 0.043189167976379395, 0.05108725279569626, -0.029089421033859253, 0.10273070633411407, -0.019925974309444427, 0.0005744535010308027, -0.03401181846857071, -0.06435269862413406, 0.028783509507775307, 0.012577141635119915, 0.02053779922425747, -0.009643170982599258, -0.041770849376916885, 0.026072019711136818, 0.1065128892660141, -0.04174304008483887, 0.024584176018834114, 0.07102712988853455, -0.00039064575685188174, -0.033844955265522, 0.0541185587644577, -0.03634786978363991, 0.03403962776064873, -0.027281761169433594, 0.1804322749376297, -0.06618816405534744, -0.06340715289115906, -0.033956196159124374, 0.012883054092526436, -0.07086027413606644, 0.010136800818145275, -0.15473569929599762, 0.031508903950452805, -0.05311739444732666, 0.016449706628918648, -0.06958100199699402, -0.18132220208644867, -0.038683924823999405, 0.0849878266453743, 0.044579677283763885, -0.08648958057165146, -0.003469316754490137, 0.04566427320241928, -0.017881928011775017, 0.03092489019036293, 0.01115882396697998, 0.035096414387226105, -0.10456617921590805, -0.05058667063713074, -0.06351839005947113, -0.052700240164995193, 0.07386376708745956, -0.014558615162968636, -0.13204260170459747, 0.05250557139515877, 0.04502463713288307, -0.09132854640483856, 0.03473488241434097, 0.05481381341814995, 0.014078889973461628, 0.02462589181959629, 0.02500132843852043, 0.034456782042980194, -0.027420811355113983, 0.023916732519865036, -0.007494836580008268, -0.021483343094587326, 0.025599246844649315, -0.11569023877382278, 0.15262211859226227, -0.08621147274971008, 0.006490194704383612, -0.0746980756521225, -0.021080097183585167, -0.0810944065451622, -0.03590290993452072, 0.01231989823281765, -0.06791239231824875, 0.04363413155078888, -0.00911477766931057, -0.04610923305153847, 0.013418398797512054, 0.06324028968811035, 0.0310361310839653, 0.03173138573765755, -0.011687217280268669, 0.11062879115343094, -0.04204895347356796, 0.0007208913448266685, 0.06318467110395432, -0.03860049322247505, 0.04983579367399216, 0.1074584349989891, -0.06807925552129745, -0.08365294337272644, 0.014614235609769821, 0.03904545679688454, 0.04079749435186386, -0.12303212285041809, -0.15228840708732605, 0.007108970545232296, -0.054980672895908356, 0.037543706595897675, 0.06474203616380692, 0.11980614066123962, -0.03723779693245888, 0.023916732519865036, 0.03787742927670479, 0.060514893382787704, 0.045497409999370575, 0.1253681778907776, 0.042660776525735855, 0.07753470540046692, 0.0188691895455122, -0.0015704046236351132, 0.02283213660120964, 0.021094001829624176, -0.030897080898284912, 0.07714536786079407, -0.01252152118831873, -0.04952988401055336, 0.015003577806055546, 0.016505325213074684, -0.02272089570760727, 0.021372102200984955, 0.010880722664296627, -0.012173894792795181, 0.08788008242845535, 0.039712898433208466, -0.020092835649847984, 0.002304766559973359, -0.03632006049156189, -0.06418583542108536, -0.09194036573171616, -0.007995419204235077, 0.054619140923023224, 0.01448909007012844, -0.05283929035067558, 0.0033163607586175203, 0.024820562452077866, -0.009205160662531853, -3.720694439834915e-05, -0.1249232068657875, 0.030897080898284912, -0.08365294337272644, 0.06368525326251984, 0.03815552964806557, 0.01252152118831873, 0.08504345268011093, 0.013814693316817284, 0.10534486174583435, -0.09889290481805801, 0.09182912856340408, 0.021260863170027733, 0.13938449323177338, -0.0029235424008220434, -0.011798457242548466, -0.013654785230755806, -0.07119399309158325, 0.06946976482868195, -0.1191386952996254, 0.08209557086229324, -0.002756681526079774, 0.09316401183605194, 0.05584278702735901, 0.09071671962738037, -0.010171563364565372, -0.0009073062683455646, -0.13604727387428284, 0.013147249817848206, 0.037933047860860825, -0.05662147328257561, 0.056398991495370865, 0.0056732711382210255, -0.038183342665433884, -0.008642004802823067, -0.03595852851867676, 0.07147209346294403, -0.003396315034478903, 0.012007033452391624, -0.01373126357793808, 0.08259615302085876, 0.020217981189489365, -0.07675602287054062, 0.08003762364387512, -0.08098316937685013, -0.0063372389413416386, 0.10095085948705673, 0.16230005025863647, -0.018187839537858963, -0.06479765474796295, 0.07030406594276428, -0.07047092914581299, 0.08103878796100616, -0.005283929407596588, 0.05381264537572861, -0.01835470087826252, 0.06707809120416641, -0.05181031674146652, -0.02708708867430687, -0.011659407056868076, -0.05414636805653572, 0.06318467110395432, 0.08927059173583984, -0.08415352553129196, -0.07987076044082642, 0.016102079302072525, -0.01962006278336048, 0.10389873385429382, -0.03153671324253082, 0.07186143845319748, -0.10829273611307144, 0.01732572540640831, 0.09816984087228775, 0.03423430025577545, 0.03192605450749397, -0.04872338846325874, 0.017603827640414238, -0.03242664039134979, -0.010373187251389027, 0.00214833440259099], 'score': 4.411067962646484}, page_content=\"Life forms that have low body mass can hunt for food on the undersurface of branches or along shear cliff faces quite unperturbed by gravity. For larger animals, the hunt for dinner and the struggle to avoid becoming someone else's meal require rapid movement against gravity. This need is met by the lever function of long bones, three-dimensional masterpieces of biomechanical engineering that, by their material composition and structural design, achieve the contradictory properties of stiffness and flexibility, strength and lightness.1 Material stiffness results from the encrusting of the triple-helical structure of collagen type I with hydroxyapatite crystals, which confers . . .\"),\n",
              " Document(metadata={'_id': '43385013', 'title': 'Epithelial and mesenchymal subpopulations within normal basal breast cell lines exhibit distinct stem cell/progenitor properties.', 'embedding': [0.023725250735878944, 0.03393925726413727, 0.12911297380924225, 0.07809252291917801, 0.014056653715670109, 0.019461151212453842, 0.08810819685459137, -0.016610154882073402, -0.029154540970921516, -0.018308358266949654, 0.005516058765351772, -0.05082211643457413, 0.035327568650245667, -0.00568030122667551, -0.008410440757870674, 0.10481751710176468, 0.01672171615064144, -0.04380618408322334, 0.004143242258578539, 0.09405810385942459, 0.09509933739900589, -0.0219526756554842, -0.044525131583213806, -0.07075430452823639, -0.10927994549274445, -0.003600932890549302, -0.00010575028863968328, -0.06703560799360275, -0.015234239399433136, 0.04229391738772392, 0.12177474796772003, -0.0356498546898365, -0.012637353502213955, 0.08186079561710358, -0.12772466242313385, 0.0829516127705574, 0.026774577796459198, -0.006526303477585316, 0.023018701002001762, -0.05030149966478348, 0.015321008861064911, -0.014651644043624401, -0.02620437927544117, -0.010418534278869629, 0.0044872211292386055, -0.04345910623669624, -0.08007582277059555, -0.048367779701948166, -0.004741331562399864, 0.11225490272045135, 0.014577270485460758, 0.012042362242937088, 0.04477304592728615, 0.004586386028677225, -0.1241547092795372, -0.004831199999898672, -0.05171460285782814, -0.0645069032907486, -0.07605963945388794, -0.01336249802261591, 0.024940023198723793, 0.009662399999797344, 0.059598229825496674, -0.04717779904603958, -0.02113456279039383, 0.01899011805653572, -0.13238541781902313, -0.06797768175601959, 0.059895724058151245, -0.001645520911552012, 0.005041925702244043, -0.11641983687877655, -0.010368951596319675, 0.04093039780855179, 0.0046266717836260796, -0.029997443780303, 0.05597870051860809, 0.13278207182884216, -0.11661816388368607, -0.02667541243135929, 0.09455392509698868, 0.037657950073480606, 0.03056764416396618, -0.008769913576543331, -0.050450246781110764, 0.015271426178514957, 0.002513215644285083, -0.09009149670600891, -0.11770898103713989, 0.007102700881659985, -0.02667541243135929, -0.037533991038799286, -0.0039975931867957115, 0.10342920571565628, 0.07209303230047226, 0.09450434893369675, 0.01718035526573658, -0.1742330938577652, 0.025175541639328003, 0.029427245259284973, 0.046681974083185196, 0.027741437777876854, -0.03540194407105446, -0.11403986811637878, -0.011918406002223492, 0.006296984385699034, -0.10382586717605591, -0.05107003077864647, -0.04995442181825638, 0.028584342449903488, 0.1998176872730255, -0.009067409671843052, 0.06534980237483978, 0.0669364482164383, 0.048590902239084244, -0.044054098427295685, -0.1306004375219345, 0.017725761979818344, -0.006321775261312723, 0.09490100294351578, -0.007350613363087177, 0.1059083342552185, -0.06331691890954971, -0.0445995070040226, 0.03396404907107353, -0.07834043353796005, 0.1299062818288803, 0.10481751710176468, -0.09405810385942459, -0.08686862885951996, -0.020018955692648888, -0.015011117793619633, 0.045045748353004456, -0.01735389418900013, -0.13575702905654907, -0.0363440103828907, 0.001086942502297461, 0.022745996713638306, -0.018531478941440582, 0.036071307957172394, 0.008714133873581886, -0.011106492020189762, 0.0525079220533371, -0.004849793389439583, -0.03862480819225311, -0.03993874788284302, -0.0891990140080452, 0.07938166707754135, -0.014775600284337997, 0.10600749403238297, -0.02475409023463726, 0.038228146731853485, 0.07318384945392609, -0.01018921472132206, -0.007951801642775536, 0.0008769914275035262, 0.054193731397390366, 0.03996353596448898, -0.06772976368665695, -0.081563301384449, -0.0414758063852787, 0.078241266310215, -0.07184512168169022, -0.013003024272620678, -0.0407816506922245, 0.03812898322939873, -0.021642783656716347, -0.048690065741539, -0.17681138217449188, -0.049235474318265915, -0.003889131359755993, 0.004580188076943159, -0.03983958065509796, -0.08463741838932037, -0.21340329945087433, -0.06282109767198563, -0.0695643201470375, -0.09063690900802612, -0.022027049213647842, 0.008838090114295483, 0.05374748632311821, 0.09509933739900589, 0.04891318827867508, 0.04747529327869415, 0.04826861619949341, 0.06153194606304169, -0.0306915994733572, 0.08622405678033829, 0.03924459218978882, -0.04393014311790466, -0.02258485183119774, -0.03098909556865692, 0.0021181046031415462, 0.046731557697057724, 0.007220459170639515, 0.007610921747982502, 0.17165479063987732, 0.1135440468788147, 0.03664150461554527, 0.06901891529560089, 0.0898931697010994, -0.023725250735878944, 0.05642494559288025, -0.037583574652671814, -0.002869590185582638, 0.04122789204120636, -0.04762404039502144, 0.02940245345234871, -0.03535236045718193, 0.03379051014780998, 0.06718435883522034, 0.11275072395801544, -0.013907905668020248, 0.08354660123586655, -0.03448466584086418, 0.07139887660741806, 0.005082211457192898, 0.00738160265609622, 0.05201209709048271, 0.03629442676901817, 0.02184111438691616, -0.08265411853790283, 0.08518282324075699, 0.09792554378509521, -0.012686935253441334, -0.057267848402261734, -0.01990739442408085, -0.07293593138456345, -0.07710087299346924, 0.016498593613505363, 0.008831892162561417, 0.04442596808075905, 0.007009733468294144, -0.029551200568675995, -0.017081189900636673, 0.008131538517773151, -0.05766450986266136, -0.011391591280698776, 0.07640671730041504, -0.029328079894185066, -0.03004702739417553, 0.08062122762203217, 0.03056764416396618, 0.004171132110059261, 0.04866527393460274, 0.07898500561714172, -0.036715880036354065, -0.06857267022132874, -0.04122789204120636, -0.015147469937801361, -0.04581427946686745, 0.07551422715187073, 0.03143533691763878, -0.005227860528975725, -0.06019321829080582, 0.019064491614699364], 'score': 4.344019412994385}, page_content='It has been proposed that epithelial-mesenchymal transition (EMT) in mammary epithelial cells and breast cancer cells generates stem cell features, and that the presence of EMT characteristics in claudin-low breast tumors reveals their origin in basal stem cells. It remains to be determined, however, whether EMT is an inherent property of normal basal stem cells, and if the presence of a mesenchymal-like phenotype is required for the maintenance of all their stem cell properties. We used nontumorigenic basal cell lines as models of normal stem cells/progenitors and demonstrate that these cell lines contain an epithelial subpopulation (\"EpCAM+,\" epithelial cell adhesion molecule positive [EpCAM(pos)]/CD49f(high)) that spontaneously generates mesenchymal-like cells (\"Fibros,\" EpCAM(neg)/CD49f(med/low)) through EMT. Importantly, stem cell/progenitor properties such as regenerative potential, high aldehyde dehydrogenase 1 activity, and formation of three-dimensional acini-like structures predominantly reside within EpCAM+ cells, while Fibros exhibit invasive behavior and mammosphere-forming ability. A gene expression profiling meta-analysis established that EpCAM+ cells show a luminal progenitor-like expression pattern, while Fibros most closely resemble stromal fibroblasts but not stem cells. Moreover, Fibros exhibit partial myoepithelial traits and strong similarities with claudin-low breast cancer cells. Finally, we demonstrate that Slug and Zeb1 EMT-inducers control the progenitor and mesenchymal-like phenotype in EpCAM+ cells and Fibros, respectively, by inhibiting luminal differentiation. In conclusion, nontumorigenic basal cell lines have intrinsic capacity for EMT, but a mesenchymal-like phenotype does not correlate with the acquisition of global stem cell/progenitor features. Based on our findings, we propose that EMT in normal basal cells and claudin-low breast cancers reflects aberrant/incomplete myoepithelial differentiation.'),\n",
              " Document(metadata={'_id': '10931595', 'title': 'Geometry, epistasis, and developmental patterning.', 'embedding': [0.0491923987865448, 0.05855976790189743, 0.12226885557174683, 0.09674139320850372, 0.0009851831709966063, 0.04300226271152496, 0.13486824929714203, -0.06425688415765762, -0.04122191295027733, 0.09455019980669022, 0.07723972946405411, -0.03651083633303642, 0.0463438406586647, -0.012647321447730064, 0.03412790969014168, -0.07636325061321259, 0.09811089187860489, 0.001799179008230567, -0.010462970472872257, 0.11142241954803467, 0.08271772414445877, -0.0002925163717009127, 0.02873208560049534, 0.05861454829573631, 0.0058135222643613815, -0.007326818536967039, 0.10638266801834106, 0.12303577363491058, 0.055108632892370224, -0.023418430238962173, 0.15305519104003906, -0.03514133766293526, -0.05620422959327698, -0.0005717657622881234, -0.1791304498910904, 0.06568115949630737, 0.04689163714647293, 0.06650286167860031, -0.008614147081971169, 0.09975429624319077, 0.012647321447730064, -0.02708868682384491, -0.14111316204071045, 0.06064140796661377, -0.08907220512628555, -0.015352081507444382, -0.06354474276304245, 0.025773966684937477, 0.0129280686378479, 0.06765323877334595, -0.037825558334589005, -0.0019857732113450766, 0.10643744468688965, 0.05812152847647667, -0.11470922082662582, 0.012010504491627216, -0.02544528804719448, -0.06650286167860031, -0.051986172795295715, -0.023185614496469498, 0.002949557965621352, -0.061189208179712296, 0.0013737784465774894, 0.034894827753305435, 0.040537163615226746, 0.00023281479661818594, -0.0583406500518322, -0.023897754028439522, 0.005751894786953926, 0.03670256957411766, 0.0245961993932724, -0.08759314566850662, 0.06962531805038452, 0.038428135216236115, 0.047603778541088104, -0.007819837890565395, -0.01333891786634922, 0.15930010378360748, -0.005632063839584589, 0.026540886610746384, 0.09641271829605103, -0.022131100296974182, 0.06672198325395584, -0.0807456523180008, -0.07340513914823532, -0.027882995083928108, 0.015653371810913086, -0.07187129557132721, -0.16927005350589752, -0.0331144817173481, 0.02096702717244625, -0.05089057609438896, -0.11186066269874573, 0.07795187085866928, 0.06162744760513306, 0.04974019527435303, 0.010120595805346966, -0.03829118609428406, 0.0797596126794815, -0.04048238322138786, 0.034675709903240204, -0.023829279467463493, 0.005549893714487553, -0.051986172795295715, 0.05916234850883484, -0.013058170676231384, -0.11470922082662582, 0.0668315440416336, 0.014516687020659447, -0.006036065984517336, 0.08666188269853592, 0.011175110004842281, -0.0023914873600006104, 0.04341311380267143, -0.024842707440257072, -0.13103364408016205, -0.1573280245065689, -0.034894827753305435, 0.04853503778576851, 0.07477463781833649, -0.027157161384820938, 0.0228569358587265, 0.009545406326651573, 0.023322565481066704, 0.1053418442606926, 0.0062551856972277164, -0.05773806944489479, -0.017050260677933693, -0.003974970430135727, -0.02387036383152008, -0.00985354371368885, 0.06962531805038452, -0.008874352090060711, -0.034073129296302795, -0.14023667573928833, -0.03788033500313759, -0.003509340574964881, 0.12533652782440186, -0.021240927278995514, 0.032429732382297516, -0.012325488962233067, 0.06595506519079208, 0.03462092950940132, -0.036127377301454544, -0.009107166901230812, 0.07477463781833649, -0.0038209017366170883, 0.07395293563604355, -0.06770802289247513, 0.11361362040042877, -0.02232282981276512, 0.026472412049770355, 0.04437176138162613, -0.0665576383471489, -0.012037894688546658, -0.08710012584924698, -0.07384337484836578, 0.0362643264234066, -0.05642335116863251, 0.015721846371889114, -0.05850498750805855, 0.04771333932876587, 0.029964633285999298, 0.09098950028419495, -0.06294216215610504, 0.11722909659147263, -0.09953517466783524, -0.0014987452886998653, -0.08080042898654938, 0.031087622046470642, 0.027294110506772995, -0.0012684982502833009, -0.07619891315698624, -0.0728573352098465, -0.042618803679943085, -0.06502380222082138, -0.09816567599773407, -0.11755777895450592, -0.08425156772136688, -0.12270709127187729, -0.001509016496129334, 0.05590293928980827, -0.06710544228553772, -0.01939210295677185, 0.04204361140727997, 0.04598776996135712, 0.03966068476438522, 0.07022789865732193, -0.011928334832191467, -0.04108496382832527, -0.013332070782780647, 0.038674645125865936, 0.13946975767612457, 0.02604786679148674, 0.04371440038084984, -0.031553253531455994, 0.11071028560400009, 0.006289423443377018, 0.08836006373167038, -0.10709480941295624, 0.050123654305934906, 0.011209347285330296, 0.07828055322170258, -0.06896796077489853, -0.0463438406586647, 0.011209347285330296, -0.06989921629428864, -0.05163010582327843, -0.033634889870882034, 0.06140832602977753, 0.03924983739852905, -0.0782257691025734, -0.02834862470626831, 0.03938678652048111, -0.037414707243442535, -0.0020679431036114693, -0.0800882875919342, -0.0012308370787650347, 0.0334157720208168, 0.012188538908958435, -0.04127669334411621, 0.019337322562932968, 0.021391570568084717, 0.033881399780511856, -0.06343518197536469, -0.004341311287134886, 0.03683951869606972, -0.0435226708650589, -0.03308708965778351, 0.010106900706887245, 0.03560696914792061, 0.07723972946405411, 0.011757147498428822, 0.0030128974467515945, -0.06124398484826088, 0.04018109664320946, -0.03670256957411766, 0.026294376701116562, 0.01105185505002737, -0.05168488621711731, -0.03725036606192589, 0.05538253113627434, -0.04938412830233574, 0.06518813967704773, -0.03081372380256653, 0.08463502675294876, -0.029307274147868156, -0.057409390807151794, -0.15710890293121338, -0.07351469248533249, -0.005056874360889196, 0.05631379038095474, 0.06376386433839798, 0.022473474964499474, -0.029690733179450035, -0.011031312867999077], 'score': 4.270141124725342}, page_content='Developmental signaling networks are composed of dozens of components whose interactions are very difficult to quantify in an embryo. Geometric reasoning enumerates a discrete hierarchy of phenotypic models with a few composite variables whose parameters may be defined by in vivo data. Vulval development in the nematode Caenorhabditis elegans is a classic model for the integration of two signaling pathways; induction by EGF and lateral signaling through Notch. Existing data for the relative probabilities of the three possible terminal cell types in diverse genetic backgrounds as well as timed ablation of the inductive signal favor one geometric model and suffice to fit most of its parameters. The model is fully dynamic and encompasses both signaling and commitment. It then predicts the correlated cell fate probabilities for a cross between any two backgrounds/conditions. The two signaling pathways are combined additively, without interactions, and epistasis only arises from the nonlinear dynamical flow in the landscape defined by the geometric model. In this way, the model quantitatively fits genetic experiments purporting to show mutual pathway repression. The model quantifies the contributions of extrinsic vs. intrinsic sources of noise in the penetrance of mutant phenotypes in signaling hypomorphs and explains available experiments with no additional parameters. Data for anchor cell ablation fix the parameters needed to define Notch autocrine signaling.'),\n",
              " Document(metadata={'_id': '27049238', 'title': 'Large deformation of red blood cell ghosts in a simple shear flow.', 'embedding': [0.05452635511755943, 0.04289012402296066, 0.15307152271270752, 0.14737433195114136, -0.0037488548550754786, -0.009466194547712803, -0.005717339459806681, -0.004434129223227501, -0.02102852240204811, -0.01877114735543728, 0.011300311423838139, -0.0030518232379108667, -0.1063116118311882, 0.060572896152734756, 0.0384022481739521, 0.10840774327516556, 0.05863800272345543, -0.028002198785543442, -0.04452940821647644, 0.03399499133229256, 0.06422769278287888, 0.004235937260091305, 0.025005802512168884, 0.11018139868974686, -0.010796433314681053, -0.013356135226786137, 0.10389299690723419, 0.037703536450862885, 0.01842179149389267, -0.10480669140815735, 0.05933671444654465, -0.05011909827589989, 0.05084468424320221, -0.06304525583982468, -0.058799244463443756, 0.13544249534606934, -0.016030048951506615, 0.1063116118311882, -0.055789411067962646, -0.0007440603221766651, 0.06530263274908066, 0.020356684923171997, -0.011804189532995224, 0.12146827578544617, 0.012166982516646385, 0.03160325065255165, -0.012200574390590191, -0.05350515991449356, 0.03665547072887421, 0.09636840969324112, -0.036951079964637756, 0.036279238760471344, 0.03848286718130112, -0.00543516781181097, -0.10975141823291779, -0.0017434190958738327, -0.01842179149389267, 0.046141818165779114, -0.03945031389594078, -0.05557442083954811, -0.03595675900578499, -0.013154583983123302, -0.10545165836811066, -0.02308434620499611, -0.027088498696684837, 0.006389177404344082, -0.18574970960617065, -0.01831429824233055, 0.015371648594737053, 0.07959934324026108, -0.023662127554416656, -0.04057900235056877, -0.015317901968955994, -0.036870457231998444, -0.09077872335910797, -0.060626640915870667, 0.024495204910635948, 0.03649422898888588, 0.014310144819319248, 0.08723141998052597, 0.04834544658660889, -0.09228363633155823, 0.038348499685525894, -0.014242961071431637, -0.049044158309698105, -0.022036278620362282, 0.10760153830051422, -0.02581200748682022, -0.07191351801156998, -0.018878642469644547, -0.027478165924549103, 0.049527883529663086, -0.07169853150844574, -0.0010589843150228262, -0.07922311127185822, 0.058208025991916656, -0.04735112562775612, -0.06637757271528244, 0.041895803064107895, 0.017803700640797615, 0.04111647233366966, 0.03678983822464943, -0.0250998605042696, 0.03455933555960655, 0.058208025991916656, -0.040122151374816895, -0.03359188884496689, -0.01877114735543728, 0.009728210978209972, -0.002736059483140707, 0.1754302829504013, -0.07368716597557068, 0.02645697258412838, -0.0478348508477211, 0.09072497487068176, -0.06997862458229065, -0.07761070132255554, -0.0009069810039363801, -0.10894521325826645, 0.03058205544948578, -0.012059488333761692, 0.008324069902300835, 0.08099676668643951, -0.017199046909809113, 0.08056678622961044, -0.05992792919278145, 0.054902583360672, -0.07809442281723022, -0.08793012797832489, -0.04834544658660889, 0.0041485982947051525, -0.008995908312499523, 0.018059000372886658, -0.13318511843681335, -0.0933048352599144, 0.0006290081073530018, 0.02875465713441372, 0.07411714643239975, 0.09255237132310867, -0.03872473165392876, 0.0069803944788873196, 0.06573260575532913, 0.10706406831741333, 7.762875611661002e-05, -0.01225432101637125, 0.0762132778763771, -0.014068283140659332, 0.07814817130565643, 0.021458499133586884, 0.043427594006061554, -0.011051731184124947, 0.08637146651744843, 0.020826971158385277, 0.011851218529045582, 0.019348928704857826, -0.064980149269104, 0.11050388216972351, -0.0034095768351107836, -0.004773407708853483, 0.04498625919222832, -0.0703011080622673, -0.02179441787302494, -0.07363342493772507, -0.10727905482053757, -0.11050388216972351, 0.020679166540503502, -0.032167594879865646, -0.03335002809762955, -0.04627618566155434, 0.019335491582751274, 0.04286324977874756, -0.03171074390411377, -0.08723141998052597, -0.08991876989603043, -0.020504489541053772, 0.050468456000089645, 0.0206657312810421, -0.09712087363004684, 0.01800525188446045, 0.08465155959129333, 0.038885969668626785, 0.032167594879865646, -0.0286471638828516, 0.006795639172196388, -0.03348439559340477, 0.07212850451469421, 0.08948879688978195, 0.08260917663574219, -0.001447810442186892, -0.027625970542430878, -0.08492029458284378, 0.060196664184331894, 0.03372625634074211, -0.08400660008192062, -0.11233127862215042, -0.07056984305381775, 0.06815122812986374, 0.0011312068672850728, -0.02604043297469616, -0.04740487411618233, 0.1174909919500351, -0.004995114170014858, 0.05345141515135765, -0.14318206906318665, -0.05275270342826843, 0.001909698941744864, -0.06401270627975464, 0.038348499685525894, 0.0277603380382061, 0.04976974427700043, 0.09975447505712509, 0.03052830882370472, -0.03087766468524933, 0.02402491867542267, -0.0419495515525341, -0.09932450205087662, 0.02551640011370182, 0.06691504269838333, -0.001196711091324687, 0.019120503216981888, -0.07218225300312042, 0.0602504126727581, 0.18295486271381378, 0.14952421188354492, -0.1494167298078537, -0.014175777323544025, 0.12480058521032333, 0.008848103694617748, -0.10222683846950531, 0.022708117961883545, 0.043669454753398895, -0.0037454955745488405, 0.0010312709491699934, 0.008230012841522694, -0.0014637665590271354, -0.013530813157558441, -0.06637757271528244, 0.05568191409111023, -0.0011228088987991214, -0.08744640648365021, -0.055843155831098557, 0.07309595495462418, -0.022170646116137505, -0.11082635819911957, -0.02491174452006817, 0.02958773635327816, -0.05232272669672966, -0.05089842900633812, 0.09088621288537979, -0.014189214445650578, -0.04702864587306976, -0.010762841440737247, 0.06858120113611221, -0.05393513664603233, -0.03920845314860344, 0.0036010504700243473], 'score': 4.082460880279541}, page_content='Red blood cells are known to change shape in response to local flow conditions. Deformability affects red blood cell physiological function and the hydrodynamic properties of blood. The immersed boundary method is used to simulate three-dimensional membrane-fluid flow interactions for cells with the same internal and external fluid viscosities. The method has been validated for small deformations of an initially spherical capsule in simple shear flow for both neo-Hookean and the Evans-Skalak membrane models. Initially oblate spheroidal capsules are simulated and it is shown that the red blood cell membrane exhibits asymptotic behavior as the ratio of the dilation modulus to the extensional modulus is increased and a good approximation of local area conservation is obtained. Tank treading behavior is observed and its period calculated.'),\n",
              " Document(metadata={'_id': '95764370', 'title': 'Modification in the chemical bath deposition apparatus, growth and characterization of CdS semiconducting thin films for photovoltaic applications', 'embedding': [0.035667359828948975, -0.017749670892953873, 0.037035487592220306, 0.08981645852327347, 0.006480610463768244, 0.05136483907699585, -0.012877212837338448, -0.1198192834854126, 0.05976562947034836, -0.10004141926765442, 0.055493228137493134, -0.04894061014056206, -0.09236069768667221, -0.03890766575932503, 0.12874813377857208, 0.08501600474119186, -0.03938771039247513, 0.03249906003475189, 0.013453267514705658, -0.013885308057069778, 0.05899755656719208, 0.03876364976167679, -0.026618506759405136, 0.011263060383498669, -0.04015578329563141, -0.09048852324485779, 0.1407492607831955, 0.020845962688326836, 0.07762330770492554, -0.05885354429483414, -0.0011761108180508018, -0.06259789317846298, -0.046972423791885376, -0.03998776525259018, -0.15092621743679047, 0.11597892642021179, 0.034491248428821564, 0.020773956552147865, -0.0627899169921875, -0.03300310671329498, 0.036315418779850006, 0.00783073715865612, -0.025010354816913605, 0.011695101857185364, -0.06576619297266006, 0.010338974185287952, -0.09341679513454437, 0.10052146762609482, 0.04853257164359093, 0.012721198610961437, -0.08568806946277618, 0.06043769419193268, 0.07603916525840759, -0.05126882717013359, 0.028034640476107597, -0.03269108012318611, -0.055925268679857254, 0.022946162149310112, -0.013741293922066689, -0.046804409474134445, 0.05011672154068947, -0.07757530361413956, -0.024674324318766594, -0.0016486552776768804, -0.04930064454674721, -0.03185100108385086, -0.013345257379114628, 0.05405309051275253, 0.08151167631149292, -0.026642508804798126, 0.06019767001271248, 0.04229198396205902, 0.0038643640000373125, 0.07301487773656845, -0.057173386216163635, 0.0043534100987017155, 0.0037863566540181637, -0.035643357783555984, -0.017089609056711197, 0.08957643806934357, -0.004590432159602642, -0.047308456152677536, -0.05112481489777565, -0.025826431810855865, -0.03974774479866028, -0.07018261402845383, 0.12711597979068756, 0.0018616752931848168, -0.11530686169862747, -0.001717661740258336, 0.011089044623076916, 0.03218703344464302, -0.08386389911174774, 0.036867473274469376, -0.04915662854909897, -0.04322807118296623, -0.03317112475633621, -0.028538687154650688, -0.006684629712253809, 0.09116058796644211, 0.055493228137493134, 0.03398720175027847, 0.005010472144931555, -0.02909073978662491, 0.045844316482543945, 0.011473081074655056, -0.044980235397815704, -0.013009225018322468, 0.011839115060865879, -0.05477315932512283, 0.17281627655029297, -0.01688558980822563, 0.08031156659126282, 0.06307794153690338, 0.014221339486539364, -0.019429830834269524, -0.03115493431687355, 0.014713386073708534, -0.0750790685415268, 0.12769202888011932, -0.09346480667591095, 0.11722704023122787, 0.06725433468818665, -0.024362294003367424, 0.0789194330573082, -0.008004753850400448, -0.015229434706270695, -0.13921311497688293, -0.044140156358480453, 0.03468326851725578, 0.020821960642933846, -0.011209055781364441, 0.05203690007328987, -0.18174511194229126, -0.05952560529112816, -0.12231551855802536, 0.035835374146699905, 0.006348597817122936, 0.035355329513549805, -0.0046984427608549595, 0.11261861026287079, 0.06211785227060318, 0.11261861026287079, 0.09740117192268372, -0.054581139236688614, -0.07099868357181549, 0.044812221080064774, -0.011785110458731651, -0.044860225170850754, 0.06576619297266006, -0.0603896863758564, 0.04934864863753319, 0.09917733818292618, -0.05045275017619133, 0.011557088233530521, -0.01455737091600895, -0.019285816699266434, 0.07594314962625504, -0.035787370055913925, 0.09610505402088165, 0.05328501760959625, 0.02133801020681858, 0.0016801581950858235, -0.0654301643371582, -0.03285909444093704, -0.036939479410648346, 0.001304372912272811, 0.035763368010520935, -0.06307794153690338, 0.028850717470049858, 0.05347703769803047, -0.08856834471225739, 0.03348315507173538, -0.001587149454280734, -0.05155685544013977, -0.022502118721604347, 0.012961220927536488, -0.06499812006950378, -0.08794428408145905, 0.012553182430565357, 0.04831654950976372, -0.011695101857185364, -0.06912650913000107, -0.10426582396030426, 0.009624906815588474, -0.12202749401330948, -0.03782756254076958, 0.036651451140642166, 0.007554711773991585, -0.055877264589071274, -0.03281109035015106, -0.05078878253698349, 0.057317398488521576, -0.015625471249222755, -0.056597329676151276, -0.008736822754144669, 0.09370482712984085, 0.11722704023122787, -0.002305717207491398, -0.07047063857316971, -0.014761390164494514, 0.004653438460081816, -0.03062688559293747, 0.11002635955810547, -0.07992752641439438, -0.046300359070301056, -0.12154744565486908, -0.03089090995490551, 0.06840644031763077, -0.06034168228507042, 0.03276308625936508, 0.09634507447481155, -0.058037467300891876, -0.004578431136906147, -0.03785156458616257, 0.024554312229156494, -0.004920463543385267, -0.03348315507173538, 0.04238799214363098, 0.007710726466029882, -0.05184488371014595, 0.021686041727662086, 0.036915477365255356, -0.00846679788082838, -0.005127483047544956, 0.07618317753076553, -0.1164589673280716, 0.027002543210983276, 0.05434111878275871, -0.1445896178483963, -0.00472244480624795, 0.022658133879303932, -0.08410391956567764, 0.0998494029045105, -0.02213008515536785, -0.009354881010949612, 0.026162464171648026, 0.09135260432958603, -0.10935430228710175, -0.05338102951645851, -0.0844399556517601, -0.017989695072174072, -0.008070760406553745, 0.07647120207548141, -0.0377795584499836, 0.08520802855491638, -0.03885966166853905, -0.10340174287557602, 0.00032440555514767766, 0.05904556065797806, -0.13066831231117249, -0.03386719152331352, -0.09226468950510025, -0.11473080515861511, -0.09111258387565613, -0.09567300975322723], 'score': 3.966486930847168}, page_content='Abstract In this paper, growth and characterization of CdS thin films by Chemical Bath Deposition (CBD) technique using the reaction between CdCl 2 , (NH 2 ) 2 CS and NH 3 in an aqueous solution has been reported. The parameters actively involved in the process of deposition have been identified. A commonly available CBD system has been sucessfully modified to obtain the precious control over the pH of the solution at 90°C during the deposition and studies have been made to understand the fundamental parameters like concentrations of the solution, pH and temperature of the solution involved in the chemical bath deposition of CdS. It is confirmed that the pH of the solution plays a vital role in the quality of the CBD–CdS films. Structural, optical and electrical properties have been analysed for the as-deposited and annealed films. XRD studies on the CBD–CdS films reveal that the change in Cadmium ion concentration in the bath results in the change in crystallization from cubic phase with (1 1 1) predominant orientation to a hexagonal phase with (0 0 2) predominant orientation. The structural changes due to varying cadmium ion concentration in the bath affects the optical and electrical properties. Optimum electrical resistivity, band gap and refractive index value are observed for the annealed films deposited from 0.8 M cadmium ion concentration. The films are suitable for solar cell fabrication. Further on, annealing the samples at 350°C in H 2 for 30 min resulted in an increased diffraction intensity as well as shifts in the peak towards lower scattering angles due to enlarged CdS unit cell. This in turn brought about an increase in the lattice parameters and narrowing in the band-gap values. The results are compared with the analysis of previous work.'),\n",
              " Document(metadata={'_id': '803312', 'title': 'Cerebral organoids model human brain development and microcephaly', 'embedding': [0.011010420508682728, -0.014564870856702328, 0.06692420691251755, 0.1460077464580536, -0.06117963790893555, -0.10455112159252167, 0.038536470383405685, 0.06668484956026077, -0.01862197183072567, -0.029010063037276268, 0.03166692703962326, -0.06826460361480713, 0.023253528401255608, -0.11192331463098526, -0.0015618042089045048, -0.07362619787454605, 0.012626079842448235, -0.07668997347354889, 0.06558381021022797, 0.08851420134305954, 0.08253028243780136, 0.01463667768985033, 0.01928020268678665, 0.020201727747917175, 0.06701994687318802, 0.010441947728395462, 0.026065973564982414, -0.004093003924936056, 0.009861506521701813, 0.037196069955825806, 0.030948854982852936, -0.03463495150208473, 0.005340652074664831, 0.030350463464856148, -0.10435963422060013, 0.014421257190406322, 0.0683603510260582, 0.051701102405786514, -0.08339196443557739, 0.1357632726430893, 0.09033332020044327, -0.06338172405958176, 0.12322096526622772, 0.11010420322418213, -0.05198833346366882, 0.042078953236341476, -0.10388091951608658, -0.021362608298659325, -0.0616583526134491, 0.12389115989208221, -0.03657374531030655, 0.030733434483408928, 0.06007859855890274, 0.022894492372870445, -0.0929662436246872, 0.04483155906200409, -0.01707811839878559, -0.016754986718297005, -0.07262089848518372, -0.011471182107925415, 0.03391687944531441, -0.0036382258404046297, 0.10589151829481125, 0.056392498314380646, 0.004006237257272005, -0.02640107274055481, -0.09066841751337051, -0.10426389425992966, 0.10052992403507233, 0.04195927456021309, -0.056871213018894196, -0.049786247313022614, -0.02697552926838398, -0.04796713590621948, 0.05270640179514885, -0.04653099179267883, 0.028100507333874702, 0.05442977324128151, 0.09095564484596252, 0.11747639626264572, 0.044687945395708084, -0.03592747822403908, 0.10455112159252167, -0.05969562754034996, -0.015809526666998863, -0.0036591694224625826, 0.03587960824370384, 0.031427569687366486, -0.07769527286291122, -0.021147187799215317, -0.027095207944512367, -0.056966956704854965, -0.03410836681723595, 0.09713105112314224, 0.027286693453788757, -0.056871213018894196, -0.005119246896356344, -0.09909377992153168, 0.1312633603811264, 0.10780637711286545, -0.024534087628126144, -0.012865436263382435, -0.03942209109663963, 0.031714797019958496, 0.005241917446255684, 0.07549318671226501, -0.0073003871366381645, -0.013080857694149017, -0.035759929567575455, 0.06323810666799545, 0.1440928876399994, -0.020177790895104408, 0.02295433171093464, 0.0033420214895159006, 0.04645918682217598, -0.011309616267681122, -0.09210456162691116, -0.028531350195407867, -0.0010688784532248974, 0.028052635490894318, 0.017736351117491722, 0.06117963790893555, 0.08099839836359024, -0.04748842120170593, 0.04873307794332504, -0.07429639995098114, 0.07003584504127502, 0.040164098143577576, 0.03312700241804123, -0.05825948342680931, -0.002552143530920148, 0.056966956704854965, -0.04174385219812393, -0.07544531673192978, -0.12465710192918777, 0.043539032340049744, -0.09861506521701813, 0.07147198915481567, -0.017508961260318756, -0.0969395712018013, -0.00879038404673338, 0.00045216025318950415, 0.08798761665821075, -0.05280214548110962, 0.01658743806183338, 0.03504185751080513, 0.020225662738084793, 0.11240202933549881, -0.14131635427474976, 0.13921000063419342, 0.005241917446255684, 0.018071450293064117, 0.04997773468494415, -0.04502304270863533, -0.055530816316604614, 0.07132837176322937, 0.07003584504127502, 0.06678058952093124, -0.07305174320936203, -0.09928526729345322, 0.018574099987745285, 0.03516153618693352, -0.01959136687219143, 0.0037938079331070185, -0.08578553795814514, 0.0980406105518341, -0.07372194528579712, 0.009939298033714294, -0.08779612928628922, -0.043156061321496964, -0.04835010692477226, -0.016180530190467834, -0.13040167093276978, 0.008951949886977673, -0.07017946243286133, 0.03765084967017174, -0.04959476366639137, 0.019603334367275238, -0.0023397142067551613, -0.056488242000341415, 0.052084073424339294, 0.08339196443557739, -0.06496147811412811, 0.10876379907131195, 0.04277309030294418, 0.015630008652806282, -0.10416814684867859, -0.054669130593538284, 0.008700625039637089, -0.013356118462979794, -0.016443822532892227, -0.14074189960956573, 0.058403097093105316, 0.053711701184511185, 0.07089753448963165, -0.03252860903739929, 0.10512557625770569, 0.034299854189157486, 0.023959631100296974, -0.06826460361480713, 0.04107365384697914, 0.028818577527999878, -0.025371838361024857, -0.0894237607717514, 0.09267901629209518, 0.06132325157523155, 0.03324668109416962, 0.057828642427921295, 0.02879464253783226, 0.10388091951608658, 0.07597190141677856, -0.01650366187095642, 0.01774831861257553, 0.08401429653167725, -0.030015362426638603, -0.11948699504137039, -0.06156260892748833, -0.026736171916127205, -0.006731914356350899, -0.0014174419920891523, -0.007072998210787773, 0.01382286474108696, 0.04437677934765816, 0.06400404870510101, 0.014612742699682713, -0.03310306742787361, -0.028435606509447098, -0.032600417733192444, -0.01862197183072567, -0.016264304518699646, 0.12733790278434753, 0.024725573137402534, 0.0036681455094367266, -0.007527776528149843, 0.07448788732290268, 0.0374593660235405, 0.0012887875782325864, -0.058690328150987625, -0.010232510045170784, -0.1169019415974617, 0.04014016315340996, 0.06634975224733353, -0.056105270981788635, 0.006725930608808994, 0.108285091817379, 0.05749354138970375, 0.0081022335216403, -0.12762513756752014, -0.046602800488471985, -0.061466868966817856, -0.007444001268595457, -0.04502304270863533, 0.07238154113292694, -0.042557667940855026, -0.08008883893489838, 0.030565883964300156], 'score': 3.780266761779785}, page_content='The complexity of the human brain has made it difficult to study many brain disorders in model organisms, highlighting the need for an in vitro model of human brain development. Here we have developed a human pluripotent stem cell-derived three-dimensional organoid culture system, termed cerebral organoids, that develop various discrete, although interdependent, brain regions. These include a cerebral cortex containing progenitor populations that organize and produce mature cortical neuron subtypes. Furthermore, cerebral organoids are shown to recapitulate features of human cortical development, namely characteristic progenitor zone organization with abundant outer radial glial stem cells. Finally, we use RNA interference and patient-specific induced pluripotent stem cells to model microcephaly, a disorder that has been difficult to recapitulate in mice. We demonstrate premature neuronal differentiation in patient organoids, a defect that could help to explain the disease phenotype. Together, these data show that three-dimensional organoids can recapitulate development and disease even in this most complex human tissue.'),\n",
              " Document(metadata={'_id': '10906636', 'title': 'The carboxyl terminus of human cytomegalovirus-encoded 7 transmembrane receptor US28 camouflages agonism by mediating constitutive endocytosis.', 'embedding': [-0.031789202243089676, 0.04996145889163017, 0.0008426404092460871, 0.10550684481859207, -0.11373579502105713, 0.0509410984814167, 0.07332579046487808, -0.058974117040634155, 0.03852420300245285, -0.08126084506511688, 0.05481066182255745, -0.0001735410769470036, 0.027699220925569534, 0.04616536945104599, 0.05564335361123085, -0.12000546604394913, -0.053439170122146606, 0.023229630663990974, -0.02718491293489933, 0.08326909691095352, 0.0722481906414032, 0.05123498663306236, -0.03338111191987991, 0.10511499643325806, -0.08390586078166962, -0.009686155244708061, 0.014204729348421097, 0.016482383012771606, -0.055447425693273544, 0.027821676805615425, 0.04626333341002464, -0.05236157029867172, 0.0005981139838695526, -0.09595539420843124, -0.13264277577400208, 0.07131753861904144, 0.03583020344376564, 0.03431176766753197, 0.0005747710820287466, 0.05392898619174957, 0.0661744475364685, -0.043275441974401474, 0.020180512219667435, -0.0013913899892941117, -0.08160372078418732, -0.05152887850999832, -0.15008030831813812, 0.01611502096056938, 0.03443422168493271, 0.03073609434068203, 0.028923766687512398, -0.01082498300820589, 0.03734863921999931, 0.084346704185009, -0.12098510563373566, -0.008296296000480652, 0.039871204644441605, 0.044671423733234406, -0.02551952935755253, -0.04449998587369919, 0.028825802728533745, -0.07856684178113937, -0.025299111381173134, -0.06029662489891052, -0.04915326088666916, -0.06073746085166931, -0.10119644552469254, -0.015208856202661991, 0.0386221669614315, -0.015429274179041386, 0.0014679239830002189, -0.045822497457265854, -0.05314527824521065, 0.04606740549206734, 0.034483205527067184, -0.0457245334982872, 0.02877682074904442, 0.035609785467386246, -0.059268005192279816, -0.08488550037145615, 0.0208785030990839, -0.0004622659762389958, 0.042001914232969284, -0.029927894473075867, 0.028972748667001724, -0.001702118432149291, 0.0653417557477951, -0.0745503380894661, -0.022543884813785553, 0.07082771509885788, -0.02461336739361286, 0.09972698986530304, -0.13264277577400208, 0.09193888306617737, -0.048100151121616364, 0.042981550097465515, -0.052753422409296036, -0.0849834606051445, 0.050353314727544785, 0.017633456736803055, -0.056427061557769775, -0.024735821411013603, -0.007488096132874489, -0.0031746344175189734, -0.009086128324270248, 0.04307951405644417, -0.0920858308672905, 0.045234713703393936, 0.0620109885931015, -0.03771600499749184, 0.3113284707069397, -0.019641710445284843, -0.0595129169523716, 0.10344961285591125, -0.01634768396615982, -0.08993063122034073, -0.10766205191612244, 0.04817362502217293, 0.013127128593623638, 0.02618078514933586, -0.03609960526227951, 0.06294164061546326, 0.04533267766237259, 0.020474402233958244, -0.04378975182771683, 0.032352495938539505, 0.08738357573747635, -0.0004974716575816274, -0.08243641257286072, -0.04498980566859245, 0.126960888504982, -0.0563780777156353, -0.0668112114071846, 0.0171191468834877, -0.07440339028835297, 0.008804482407867908, 0.021637720987200737, -0.06588055193424225, -0.08468957245349884, 0.0628436803817749, -0.011265819892287254, 0.029682984575629234, -0.013714910484850407, 0.0008931529591791332, -0.09091026335954666, -0.014951701276004314, -0.12206270545721054, 0.18740445375442505, 0.04621434956789017, 0.049643076956272125, 0.0793505534529686, 0.03134836629033089, 0.1208871379494667, -0.04246724024415016, -0.020180512219667435, -0.06191302463412285, -0.006563564296811819, 0.0340423658490181, -0.05059822276234627, 0.04942265897989273, 0.04690009728074074, 0.050353314727544785, -0.050206370651721954, 0.044402021914720535, 0.028384966775774956, -0.009918819181621075, -0.05525149777531624, -0.014376165345311165, -0.15634998679161072, -0.042418260127305984, -0.008694273419678211, -0.06568462401628494, -0.1380307823419571, -0.05187175050377846, -0.10589870065450668, 0.07352171838283539, 0.015943583101034164, -0.008994287811219692, -0.028409458696842194, 0.033772967755794525, 0.02288675680756569, 0.05907208099961281, 0.07190531492233276, -0.028703348711133003, 0.05099007859826088, -0.021429548040032387, -0.052165642380714417, 0.09620030224323273, -0.06700713187456131, 0.021454038098454475, -0.022372448816895485, -0.04244275018572807, 0.14625972509384155, 0.043422386050224304, -0.03147082030773163, 0.005388000514358282, 0.04065491259098053, 0.017804892733693123, 0.00404100026935339, -0.12020139396190643, -0.054026950150728226, 0.054712697863578796, -0.022972475737333298, -0.10638852417469025, -0.09815957397222519, 0.018221238628029823, -0.01942129246890545, 0.047928713262081146, -0.01388634741306305, -0.0417570061981678, 0.06989706307649612, 0.023388821631669998, 0.028384966775774956, 0.06783982366323471, -0.009061637334525585, -0.035879187285900116, -0.07572589814662933, 0.007910564541816711, -0.0021659149788320065, 0.013690419495105743, 0.047659315168857574, 0.048638951033353806, 0.0388425849378109, 0.017302829772233963, -0.09629826247692108, 0.012894464656710625, -0.07807702571153641, -0.11540117859840393, -0.084346704185009, 0.0014663933543488383, 0.027723712846636772, 0.04376525804400444, 0.015980320051312447, -0.09512270241975784, -0.046973567456007004, 0.044842857867479324, -0.003067486686632037, -0.00983310118317604, 0.07322783023118973, -0.04165904223918915, -0.04219784215092659, 0.022347956895828247, 0.04577351361513138, 0.1474352926015854, -0.046826623380184174, 0.006716632749885321, -0.032376985996961594, -0.0657825917005539, -0.06044356897473335, 0.002020500134676695, 0.03472811356186867, -0.01691097393631935, -0.014437392354011536, -0.0075187101028859615, -0.05270444229245186, 0.06676222383975983], 'score': 3.7103075981140137}, page_content='US28 is one of four 7 transmembrane (7TM) chemokine receptors encoded by human cytomegalovirus and has been shown to both signal and endocytose in a ligand-independent, constitutively active manner. Here we show that the constitutive activity and constitutive endocytosis properties of US28 are separable entities in this viral chemokine receptor. We generated chimeric and mutant US28 proteins that were altered in either their constitutive endocytic (US28 Delta 300, US28 Delta 317, US28-NK1-ctail, and US28-ORF74-ctail) or signaling properties (US28R129A). By using this series of mutants, we show that the cytoplasmic tail domain of US28 per se regulates receptor endocytosis, independent of the signaling ability of the core domain of US28. The constitutive endocytic property of the US28 c-tail was transposable to other 7TM receptors, the herpes virus 8-encoded ORF74 and the tachykinin NK1 receptor (ORF74-US28-ctail and NK1-US28-ctail). Deletion of the US28 C terminus resulted in reduced constitutive endocytosis and consequently enhanced signaling capacity of all receptors tested as assessed by inositol phosphate turnover, NF-kappa B, and cAMP-responsive element-binding protein transcription assays. We further show that the constitutive endocytic property of US28 affects the action of its chemokine ligand fractalkine/CX3CL1 and show that in the absence of the US28 C terminus, fractalkine/CX3CL1 acts as an agonist on US28. This demonstrates for the first time that the endocytic properties of a 7TM receptor can camouflage the agonist properties of a ligand.'),\n",
              " Document(metadata={'_id': '13231899', 'title': 'In situ regulation of DC subsets and T cells mediates tumor regression in mice.', 'embedding': [0.07147765904664993, 0.059025105088949203, 0.09424092620611191, 0.1306023895740509, -0.033123794943094254, 0.049835119396448135, 0.099271759390831, 0.07611000537872314, -0.05334674194455147, 0.07929786294698715, 0.006786641664803028, 0.033049076795578, -0.025851501151919365, 0.016860757023096085, 0.03235173597931862, -0.04368355870246887, 0.11536046117544174, 0.02443191036581993, 0.06749284267425537, 0.08652034401893616, 0.05439275503158569, 0.05018379166722298, 0.003947459626942873, -0.04418165981769562, -0.04639821499586105, -0.031106479465961456, -0.007583605125546455, 0.05718212574720383, 0.06749284267425537, 0.05025850608944893, 0.055289339274168015, -0.053645603358745575, -0.0743168443441391, -0.024506626650691032, -0.11575894057750702, 0.03671012818813324, 0.03090723790228367, 0.023734567686915398, 0.008112838491797447, 0.011605780571699142, 0.01672377996146679, -0.023099487647414207, -0.08074235916137695, 0.12691642343997955, -0.058477193117141724, -0.0939420685172081, -0.05553838983178139, -0.10639461874961853, 0.022302523255348206, -0.02353532612323761, 0.043185457587242126, 0.03705880045890808, -0.044480521231889725, 0.14086328446865082, -0.13149896264076233, 0.12054072320461273, 0.001376007217913866, 0.031006859615445137, 0.007932276464998722, -0.006936072371900082, 0.003583222394809127, -0.034941866993904114, 0.06774189323186874, -0.044928815215826035, -0.06644682586193085, -0.03877725079655647, -0.09075421094894409, -0.10450182855129242, 0.03641126677393913, -0.07267310470342636, 0.0033186054788529873, -0.039026305079460144, -0.00028660331736318767, 0.016512086614966393, 0.04612426087260246, 0.02388399839401245, 0.03778104856610298, 0.014519677497446537, -0.01290084607899189, -0.06779170036315918, 0.06515175849199295, 0.01854185201227665, 0.06679549813270569, -0.06271106004714966, -0.0575806088745594, -0.022402144968509674, 0.02209082990884781, 0.00845528393983841, -0.15341545641422272, -0.01754564791917801, 0.044281281530857086, 0.06943544000387192, -0.057829659432172775, 0.0937926322221756, -0.03561430424451828, -0.019774654880166054, -0.008498867973685265, -0.10041739046573639, 0.024830391630530357, 0.045103151351213455, 0.08059293031692505, -0.053745221346616745, 0.008218685165047646, -0.07526323199272156, 0.05030831694602966, -0.043185457587242126, -0.051105279475450516, 0.04089418798685074, 0.04981021583080292, 0.03541506454348564, 0.27873796224594116, 0.05160338431596756, 0.01148748118430376, 0.03359698876738548, -0.07456589490175247, -0.08507584780454636, -0.11546007543802261, 0.008785276673734188, 0.020471997559070587, 0.0412677638232708, -0.00971299223601818, 0.03845348581671715, 0.0015931485686451197, -0.029512552544474602, 0.020322568714618683, -0.04717027395963669, 0.09503789246082306, -0.04186548665165901, -0.11416501551866531, -0.03424452245235443, 0.09319490939378738, -0.045202769339084625, 0.07421722263097763, -0.035564493387937546, -0.12083958089351654, -0.08532489836215973, 0.03937497362494469, -0.0012374725192785263, -0.00782020390033722, 0.01790677197277546, 0.03887687250971794, -0.010472597554326057, 0.0038135945796966553, -0.006030149292200804, -0.08871199190616608, -0.13558340072631836, 0.04844043403863907, 0.017944129183888435, 0.030683092772960663, 0.05235053598880768, -0.00859226193279028, 0.11426463723182678, 0.15660332143306732, 0.09663181751966476, -0.02125651016831398, -0.07351987808942795, 0.02018558979034424, 0.12920770049095154, -0.0047973464243113995, -0.08213704824447632, -0.08313325047492981, 0.04505334049463272, -0.07491456717252731, -0.02724618837237358, 0.06271106004714966, 0.0012631559511646628, -0.004349054303020239, 0.09244775772094727, -0.11057867854833603, -0.05324712023139, -0.05289844796061516, -0.1077893078327179, -0.09857441484928131, 0.027096757665276527, -0.08378078043460846, -0.023385895416140556, 0.06878791004419327, 0.09100326150655746, -0.034842245280742645, 0.0015853657387197018, 0.0014732928248122334, 0.06440460681915283, 0.022738363593816757, 0.05058227479457855, -0.03952440619468689, 0.04652274027466774, 0.014009122736752033, 0.042836785316467285, -0.0730217769742012, 0.016935473307967186, 0.03725804015994072, -0.04734461009502411, 0.03790557384490967, -0.00612976960837841, 0.020048610866069794, -0.005566291511058807, 0.06071865186095238, 0.0008919141837395728, 0.05768023058772087, -0.08114083856344223, 0.0769069716334343, -0.00020721828332170844, -0.1525188833475113, 0.0041840579360723495, -0.04203982278704643, -0.005510255228728056, -0.05499047785997391, 0.10499993711709976, -0.016424918547272682, -0.019139574840664864, 0.03842858225107193, 0.017408670857548714, -0.005027718376368284, -0.013286874629557133, 0.0066185323521494865, -0.02926350198686123, -0.10888513177633286, 0.010933342389762402, 0.04385789483785629, 0.05708250775933266, 0.08472717553377151, -0.02552773617208004, 0.016462275758385658, -0.0041840579360723495, -0.0058153425343334675, -0.019139574840664864, 0.0379553847014904, -0.059025105088949203, -0.027022041380405426, -0.0029870562721043825, -0.04071985185146332, -0.01570267044007778, 0.022514216601848602, -0.09593447297811508, -0.074466273188591, -0.035215821117162704, 0.03407018631696701, 0.024481721222400665, 0.11625704169273376, -0.06619777530431747, 0.017744889482855797, -0.013324232771992683, 0.043733369559049606, 0.0688377171754837, -0.0799453929066658, 0.06629739701747894, -0.005077528767287731, -0.13100086152553558, -0.11057867854833603, 0.015403809025883675, -0.023933809250593185, 0.018043750897049904, 0.04669707641005516, -0.054641805589199066, -0.041915297508239746, 0.04480428993701935], 'score': 3.52976655960083}, page_content='Vaccines are largely ineffective for patients with established cancer, as advanced disease requires potent and sustained activation of CD8(+) cytotoxic T lymphocytes (CTLs) to kill tumor cells and clear the disease. Recent studies have found that subsets of dendritic cells (DCs) specialize in antigen cross-presentation and in the production of cytokines, which regulate both CTLs and T regulatory (Treg) cells that shut down effector T cell responses. Here, we addressed the hypothesis that coordinated regulation of a DC network, and plasmacytoid DCs (pDCs) and CD8(+) DCs in particular, could enhance host immunity in mice. We used functionalized biomaterials incorporating various combinations of an inflammatory cytokine, immune danger signal, and tumor lysates to control the activation and localization of host DC populations in situ. The numbers of pDCs and CD8(+) DCs, and the endogenous production of interleukin-12, all correlated strongly with the magnitude of protective antitumor immunity and the generation of potent CD8(+) CTLs. Vaccination by this method maintained local and systemic CTL responses for extended periods while inhibiting FoxP3 Treg activity during antigen clearance, resulting in complete regression of distant and established melanoma tumors. The efficacy of this vaccine as a monotherapy against large invasive tumors may be a result of the local activity of pDCs and CD8(+) DCs induced by persistent danger and antigen signaling at the vaccine site. These results indicate that a critical pattern of DC subsets correlates with the evolution of therapeutic antitumor responses and provide a template for future vaccine design.'),\n",
              " Document(metadata={'_id': '3770726', 'title': 'Microfluidic platform to evaluate migration of cells from patients with DYT1 dystonia.', 'embedding': [0.01717449352145195, 0.04425951838493347, 0.012141804210841656, 0.09679657965898514, -0.04856721684336662, 0.00971344392746687, -0.0068627591244876385, 0.005148828960955143, 0.023087024688720703, -0.038065437227487564, 0.05084776505827904, -0.026592310518026352, -0.009945721365511417, -0.03395482152700424, -0.018159916624426842, 0.03952949121594429, 0.045836191624403, -0.12117872387170792, 0.0071196723729372025, 0.10451102256774902, 0.11543512344360352, 0.013056838884949684, -0.014168958179652691, -0.05087592080235481, 0.05107300356030464, -0.040486760437488556, 0.06638927757740021, -0.04527309164404869, 0.011121189221739769, -0.06520676612854004, 0.025142334401607513, -0.05346617102622986, 0.01766720600426197, -0.06678344309329987, -0.05290307477116585, 0.06988048553466797, 0.09882372617721558, 0.12714757025241852, -0.06959893554449081, 0.04501969739794731, 0.050059426575899124, -0.045610953122377396, 0.00763701880350709, 0.10445471107959747, -0.03271600231528282, -0.038938239216804504, -0.030688850209116936, -0.030801469460129738, 0.060476742684841156, 0.05239628627896309, -0.023255955427885056, 0.022904017940163612, -0.05757678672671318, 0.018779324367642403, -0.06261651962995529, 0.031308259814977646, 0.009762714616954327, 0.020384153351187706, 0.0074962442740798, 0.0071407887153327465, 0.02335449680685997, -0.059913646429777145, 0.1428017020225525, -0.06137770041823387, 0.010684788227081299, 0.00864355731755495, -0.13998620212078094, 0.01542888954281807, 0.009600823745131493, 0.036319833248853683, 0.013774788938462734, -0.06323592364788055, 0.07427264750003815, -0.10670710355043411, 0.0034595343749970198, -0.030829625204205513, 0.03840329498052597, 0.055662255734205246, -0.008460549637675285, 0.09048987925052643, 0.040064435452222824, -0.10192076861858368, -0.0802977979183197, 0.011100072413682938, -0.02066570334136486, -0.00722877262160182, 0.005071402993053198, -0.11076141148805618, -0.08756176382303238, 0.012817522510886192, -0.03814990073442459, 0.014626475051045418, -0.05901268869638443, 0.1317649781703949, 0.05219919979572296, -0.011114150285720825, 0.017962832003831863, -0.07663766294717789, 0.0027890957426279783, -0.0314771868288517, 0.0634048581123352, 0.04913031682372093, -0.018385155126452446, 0.021749667823314667, 0.11380214244127274, -0.041500333696603775, -0.12478255480527878, -0.00424435269087553, 0.020933175459504128, 0.08035410940647125, 0.1545141339302063, -0.020158914849162102, -0.028267528861761093, 0.09538882970809937, 0.06931738555431366, -0.048933230340480804, -0.03851591423153877, -0.0691484585404396, -0.0069437045603990555, 0.04462553188204765, -0.07810171693563461, 0.076975516974926, 0.04797596484422684, -0.009882372803986073, 0.08677342534065247, -0.09172869473695755, -0.006341893225908279, 0.006764216814190149, -0.20327843725681305, -0.09364322572946548, 0.0516924113035202, -0.012479662895202637, 0.009537475183606148, -0.059237927198410034, -0.10186445713043213, -0.0012669708812609315, 0.016020143404603004, 0.13390474021434784, -0.03640429675579071, 0.08300066739320755, -0.023396728560328484, -0.039247941225767136, 0.10817115753889084, 0.047807034105062485, -0.03857222571969032, 0.0009871814399957657, 0.010325812734663486, 0.13615714013576508, 0.07404740899801254, 0.1146467849612236, 0.01304979994893074, 0.0031111175194382668, 0.01592160016298294, 0.006711426191031933, 0.03260338306427002, -0.003283566329628229, 0.08823748677968979, 0.1264718472957611, -0.019469119608402252, -0.12512041628360748, -0.08142399787902832, -0.019131259992718697, -0.0855909213423729, -0.03280046954751015, -0.0315898060798645, 0.09268596023321152, -0.08209971338510513, -0.03035099245607853, -0.10693234205245972, -0.04676530510187149, -0.045864347368478775, -0.02835199236869812, -0.126359224319458, 0.009403739124536514, -0.06013888493180275, -0.08722390979528427, 0.0009739839006215334, -0.0033662712667137384, -0.014823559671640396, 0.03372957929968834, -0.027366571128368378, 0.09696550667285919, 0.058731138706207275, -0.02241130731999874, -0.02372051030397415, -0.007313237525522709, -0.0031498305033892393, 0.12455731630325317, -0.00918553862720728, 0.0010672470089048147, -0.009157383814454079, 0.04558279737830162, 0.05695737898349762, -0.008573169820010662, -0.0031551094725728035, -0.038684844970703125, 0.15237437188625336, 0.04003627970814705, 0.031139329075813293, -0.06706499308347702, 0.02947818860411644, -0.04769441485404968, -0.07956577092409134, -0.08423949033021927, -0.04045860469341278, 0.06948631256818771, -0.0025568176060914993, 0.03646060824394226, -0.0014930899487808347, 0.0032342951744794846, 0.035306256264448166, 0.08812486380338669, -0.06278544664382935, 0.06503783911466599, 0.03035099245607853, 0.003980400040745735, -0.04403427615761757, 0.0970781221985817, 0.10805854201316833, -0.05470498651266098, -0.03941687196493149, 0.06486891210079193, 0.08480258285999298, 0.17489829659461975, -0.08705497533082962, -0.017695359885692596, 0.05737970396876335, -0.03691108524799347, -0.05507100000977516, -0.05326908826828003, 0.040374137461185455, 0.07534253597259521, 0.017582740634679794, -0.06926107406616211, 0.007545515429228544, 0.030998554080724716, -0.01624538190662861, -0.05312831327319145, 0.11577298492193222, -0.08097352087497711, 0.022256454452872276, 0.0473284013569355, -0.059237927198410034, -0.10873425751924515, -0.00714782765135169, -0.04772257059812546, -0.0747794359922409, -0.05794280394911766, 0.03615090250968933, -0.045864347368478775, -0.08063565939664841, 0.08159292489290237, 0.04014889895915985, -0.047609951347112656, -0.011142305098474026, -0.004437917377799749], 'score': 3.4964065551757812}, page_content=\"BACKGROUND Microfluidic platforms for quantitative evaluation of cell biologic processes allow low cost and time efficient research studies of biological and pathological events, such as monitoring cell migration by real-time imaging. In healthy and disease states, cell migration is crucial in development and wound healing, as well as to maintain the body's homeostasis. NEW METHOD The microfluidic chambers allow precise measurements to investigate whether fibroblasts carrying a mutation in the TOR1A gene, underlying the hereditary neurologic disease--DYT1 dystonia, have decreased migration properties when compared to control cells. RESULTS We observed that fibroblasts from DYT1 patients showed abnormalities in basic features of cell migration, such as reduced velocity and persistence of movement. COMPARISON WITH EXISTING METHOD The microfluidic method enabled us to demonstrate reduced polarization of the nucleus and abnormal orientation of nuclei and Golgi inside the moving DYT1 patient cells compared to control cells, as well as vectorial movement of single cells. CONCLUSION We report here different assays useful in determining various parameters of cell migration in DYT1 patient cells as a consequence of the TOR1A gene mutation, including a microfluidic platform, which provides a means to evaluate real-time vectorial movement with single cell resolution in a three-dimensional environment.\")]"
            ]
          },
          "execution_count": 18,
          "metadata": {},
          "output_type": "execute_result"
        }
      ],
      "source": [
        "full_text_search(\n",
        "    db[CORPUS_COLLECTION_NAME], \"0-dimensional biomaterials show inductive properties\"\n",
        ")"
      ]
    },
    {
      "cell_type": "markdown",
      "metadata": {
        "id": "QFdAtnF0RQ_H"
      },
      "source": [
        "### Vector Search LangChain<>MongoDB Integration"
      ]
    },
    {
      "cell_type": "code",
      "execution_count": null,
      "metadata": {
        "id": "DrtO8trFRejZ"
      },
      "outputs": [],
      "source": [
        "from langchain_mongodb import MongoDBAtlasVectorSearch\n",
        "from langchain_openai import OpenAIEmbeddings\n",
        "\n",
        "# Initialize embeddings model\n",
        "embedding_model = OpenAIEmbeddings(\n",
        "    model=EMBEDDING_MODEL, dimensions=EMBEDDING_DIMENSION_SIZE\n",
        ")\n",
        "\n",
        "# Initialize vector store\n",
        "vector_store = MongoDBAtlasVectorSearch.from_connection_string(\n",
        "    connection_string=MONGO_URI,\n",
        "    namespace=f\"{DB_NAME}.{CORPUS_COLLECTION_NAME}\",\n",
        "    embedding=embedding_model,\n",
        "    index_name=ATLAS_VECTOR_SEARCH_INDEX,\n",
        "    text_key=\"text\",\n",
        ")"
      ]
    },
    {
      "cell_type": "code",
      "execution_count": null,
      "metadata": {
        "id": "xQrTmWl4RuQP"
      },
      "outputs": [],
      "source": [
        "# Search functions\n",
        "def vector_search(query: str, top_k: int = 10) -> List[Tuple[Any, float]]:\n",
        "    return vector_store.similarity_search_with_score(query=query, k=top_k)"
      ]
    },
    {
      "cell_type": "code",
      "execution_count": null,
      "metadata": {
        "colab": {
          "base_uri": "https://localhost:8080/"
        },
        "id": "9YJxAyprRvf8",
        "outputId": "67014648-28d1-46d8-85c7-61d1f13b946a"
      },
      "outputs": [
        {
          "data": {
            "text/plain": [
              "[(Document(metadata={'_id': '4346436', 'title': 'Nonlinear Elasticity in Biological Gels'}, page_content='Unlike most synthetic materials, biological materials often stiffen as they are deformed. This nonlinear elastic response, critical for the physiological function of some tissues, has been documented since at least the 19th century, but the molecular structure and the design principles responsible for it are unknown. Current models for this response require geometrically complex ordered structures unique to each material. In this Article we show that a much simpler molecular theory accounts for strain stiffening in a wide range of molecularly distinct biopolymer gels formed from purified cytoskeletal and extracellular proteins. This theory shows that systems of semi-flexible chains such as filamentous proteins arranged in an open crosslinked meshwork invariably stiffen at low strains without the need for a specific architecture or multiple elements with different intrinsic stiffnesses.'),\n",
              "  0.7601195573806763),\n",
              " (Document(metadata={'_id': '927561', 'title': 'Emergent structures and dynamics of cell colonies by contact inhibition of locomotion'}, page_content='Cells in tissues can organize into a broad spectrum of structures according to their function. Drastic changes of organization, such as epithelial-mesenchymal transitions or the formation of spheroidal aggregates, are often associated either to tissue morphogenesis or to cancer progression. Here, we study the organization of cell colonies by means of simulations of self-propelled particles with generic cell-like interactions. The interplay between cell softness, cell-cell adhesion, and contact inhibition of locomotion (CIL) yields structures and collective dynamics observed in several existing tissue phenotypes. These include regular distributions of cells, dynamic cell clusters, gel-like networks, collectively migrating monolayers, and 3D aggregates. We give analytical predictions for transitions between noncohesive, cohesive, and 3D cell arrangements. We explicitly show how CIL yields an effective repulsion that promotes cell dispersal, thereby hindering the formation of cohesive tissues. Yet, in continuous monolayers, CIL leads to collective cell motion, ensures tensile intercellular stresses, and opposes cell extrusion. Thus, our work highlights the prominent role of CIL in determining the emergent structures and dynamics of cell colonies.'),\n",
              "  0.7536574006080627),\n",
              " (Document(metadata={'_id': '19685306', 'title': 'Orientationally invariant indices of axon diameter and density from diffusion MRI.'}, page_content='This paper proposes and tests a technique for imaging orientationally invariant indices of axon diameter and density in white matter using diffusion magnetic resonance imaging. Such indices potentially provide more specific markers of white matter microstructure than standard indices from diffusion tensor imaging. Orientational invariance allows for combination with tractography and presents new opportunities for mapping brain connectivity and quantifying disease processes. The technique uses a four-compartment tissue model combined with an optimized multishell high-angular-resolution pulsed-gradient-spin-echo acquisition. We test the method in simulation, on fixed monkey brains using a preclinical scanner and on live human brains using a clinical 3T scanner. The human data take about one hour to acquire. The simulation experiments show that both monkey and human protocols distinguish distributions of axon diameters that occur naturally in white matter. We compare the axon diameter index with the mean axon diameter weighted by axon volume. The index differs from this mean and is protocol dependent, but correlation is good for the monkey protocol and weaker, but discernible, for the human protocol where greater diffusivity and lower gradient strength limit sensitivity to only the largest axons. Maps of axon diameter and density indices from the monkey and human data in the corpus callosum and corticospinal tract reflect known trends from histology. The results show orientationally invariant sensitivity to natural axon diameter distributions for the first time with both specialist and clinical hardware. This demonstration motivates further refinement, validation, and evaluation of the precise nature of the indices and the influence of potential confounds.'),\n",
              "  0.742658793926239),\n",
              " (Document(metadata={'_id': '17388232', 'title': 'Mechanical regulation of cell function with geometrically modulated elastomeric substrates'}, page_content='We report the establishment of a library of micromolded elastomeric micropost arrays to modulate substrate rigidity independently of effects on adhesive and other material surface properties. We demonstrated that micropost rigidity impacts cell morphology, focal adhesions, cytoskeletal contractility and stem cell differentiation. Furthermore, early changes in cytoskeletal contractility predicted later stem cell fate decisions in single cells.'),\n",
              "  0.7384290099143982),\n",
              " (Document(metadata={'_id': '14082855', 'title': 'Inflammatory Reaction as Determinant of Foreign Body Reaction Is an Early and Susceptible Event after Mesh Implantation'}, page_content='PURPOSE To investigate and relate the ultrashort-term and long-term courses of determinants for foreign body reaction as biocompatibility predictors for meshes in an animal model. MATERIALS AND METHODS Three different meshes (TVT, UltraPro, and PVDF) were implanted in sheep. Native and plasma coated meshes were placed bilaterally: (a) interaperitoneally, (b) as fascia onlay, and (c) as muscle onlay (fascia sublay). At 5 min, 20 min, 60 min, and 120 min meshes were explanted and histochemically investigated for inflammatory infiltrate, macrophage infiltration, vessel formation, myofibroblast invasion, and connective tissue accumulation. The results were related to long-term values over 24 months. RESULTS Macrophage invasion reached highest extents with up to 60% in short-term and decreased within 24 months to about 30%. Inflammatory infiltrate increased within the first 2 hours, the reached levels and the different extents and ranking among the investigated meshes remained stable during long-term follow up. For myofibroblasts, connective tissue, and CD31+ cells, no activity was detected during the first 120 min. CONCLUSION The local inflammatory reaction is an early and susceptible event after mesh implantation. It cannot be influenced by prior plasma coating and does not depend on the localisation of implantation.'),\n",
              "  0.7378800511360168),\n",
              " (Document(metadata={'_id': '28071965', 'title': 'A Balance between Secreted Inhibitors and Edge Sensing Controls Gastruloid Self-Organization.'}, page_content='The earliest aspects of human embryogenesis remain mysterious. To model patterning events in the human embryo, we used colonies of human embryonic stem cells (hESCs) grown on micropatterned substrate and differentiated with BMP4. These gastruloids recapitulate the embryonic arrangement of the mammalian germ layers and provide an assay to assess the structural and signaling mechanisms patterning the human gastrula. Structurally, high-density hESCs localize their receptors to transforming growth factor β at their lateral side in the center of the colony while maintaining apical localization of receptors at the edge. This relocalization insulates cells at the center from apically applied ligands while maintaining response to basally presented ones. In addition, BMP4 directly induces the expression of its own inhibitor, NOGGIN, generating a reaction-diffusion mechanism that underlies patterning. We develop a quantitative model that integrates edge sensing and inhibitors to predict human fate positioning in gastruloids and, potentially, the human embryo.'),\n",
              "  0.7353475689888),\n",
              " (Document(metadata={'_id': '39291138', 'title': 'Integration of Smad and MAPK pathways: a link and a linker revisited.'}, page_content='Cells develop by reading mixed signals. Nowhere is this clearer than in the highly dynamic processes that propel embryogenesis, when critical cell-fate decisions are made swiftly in response to well-orchestrated growthfactor combinations. Learning how diverse signaling pathways are integrated is therefore essential for understanding physiology. This requires the identification, in tangible molecular terms, of key nodes for pathway integration that operate in vivo. A report in this issue, on the integration of Smad and Ras/MAPK pathways during neural induction (Pera et al. 2003), provides timely insights into the relevance of one such node. Pera et al. (2003) report that FGF8 and IGF2—two growth factors that activate the Ras/MAPK pathway— favor neural differentiation and mesoderm dorsalization in Xenopus by inhibiting BMP (Bone Morphogenetic Protein) signaling. Mesoderm is formed from ectoderm in response to Nodal-related signals from the endoderm at the blastula stage and beyond (Fig. 1; for review, see De Robertis et al. 2000). BMP induces differentiation of ectoderm into epidermal cell fates at the expense of neural fates, and it ventralizes the mesoderm at the expense of dorsal fates (for review, see Weinstein and HemmatiBrivanlou 1999; De Robertis et al. 2000). Accordingly, neural differentiation and dorsal mesoderm formation are favored when BMP signaling is attenuated. Noggin, Chordin, Cerberus, and Follistatin, secreted by the Spemann organizer on the dorsal side at the gastrula stage, facilitate the formation of neural tissue by sequestering BMP (Weinstein and Hemmati-Brivanlou 1999; De Robertis et al. 2000). Experimentally blocking BMP signaling with a dominant-negative BMP receptor has a similar effect of promoting ectoderm neuralization (Weinstein and Hemmati-Brivanlou 1999). As it turns out, neural induction can also be achieved with FGF (fibroblast growth factor; Kengaku and Okamoto 1993; Lamb and Harland 1995; Hongo et al. 1999; Hardcastle et al. 2000; Streit et al. 2000; Wilson et al. 2000) and IGF (insulin-like growth factor; Pera et al. 2001; Richard-Parpaillon et al. 2002). Injection of transcripts encoding FGF8 or IFG2 into one animal-pole blastomere of a fourto eight-cell embryo results in an expanded neural plate at the injected side (Pera et al. 2003). Surprisingly, expression of a dominant-negative FGF receptor prevents neuralization of ectoderm explants by the BMP blocker Noggin (Launay et al. 1996). Likewise, the potent neuralizing effect of Chordin can be blocked by a dominant-negative FGF receptor or a morpholino oligonucleotide targeting the IGF receptor (Pera et al. 2003). Thus, the neuralizing effect of BMP inhibitors is somehow tied to FGF and IFG signaling. The question is, how? Because FGF8 and IFG2 activate MAPK, Pera et al. (2003) took heed from previous work showing that MAPK inhibits the BMP signal-transduction factor Smad1 (Kretzschmar et al. 1997a). Smad1 is directly phosphorylated by the BMP receptor, resulting in Smad1 activation (Kretzschmar et al. 1997b), and by MAPK in response to EGF, resulting in Smad1 inhibition (Kretzschmar et al. 1997a; Fig. 2). Smad transcription factors mediate gene responses to the entire TGF (Transforming Growth Factor) family, to which the BMPs belong (for review, see Massague 2000; Derynck and Zhang 2003). Smads 1, 5, and 8 act primarily downstream of BMP receptors and Smads 2 and 3 downstream of TGF , Activin and Nodal receptors. Smad proteins have two conserved globular domains—the MH1 and MH2 domains (Fig. 2). The MH1 domain is involved in DNA binding and the MH2 domain in binding to cytoplasmic retention factors, activated receptors, nucleoporins in the nuclear pore, and DNA-binding cofactors, coactivators, and corepressors in the nucleus (for review, see Shi and Massague 2003). Receptor-mediated phosphorylation occurs at the carboxy-terminal sequence SXS. This enables the nuclear accumulation of Smads and their association with the shared partner Smad4 to form transcriptional complexes that are interpreted by the cell as a function of the context (Massague 2000). Between the MH1 and MH2 domains lies a linker region of variable sequence and length. Attention was drawn to this region when it was found that EGF (epidermal growth factor), a classical activator of the Ras/ MAPK pathway, causes phosphorylation of the Smad1 linker at four MAPK sites (PXSP sequences; Kretzschmar et al. 1997a). This prevents the nuclear localization of Smad1 and inhibits BMP signaling. Mutation of these E-MAIL j-massague@ski.mskcc.org; FAX (212) 717-3298. Article and publication are at http://www.genesdev.org/cgi/doi/10.1101/ gad.1167003.'),\n",
              "  0.7275398969650269),\n",
              " (Document(metadata={'_id': '43990286', 'title': 'Cell and biomolecule delivery for tissue repair and regeneration in the central nervous system.'}, page_content='Tissue engineering frequently involves cells and scaffolds to replace damaged or diseased tissue. It originated, in part, as a means of effecting the delivery of biomolecules such as insulin or neurotrophic factors, given that cells are constitutive producers of such therapeutic agents. Thus cell delivery is intrinsic to tissue engineering. Controlled release of biomolecules is also an important tool for enabling cell delivery since the biomolecules can enable cell engraftment, modulate inflammatory response or otherwise benefit the behavior of the delivered cells. We describe advances in cell and biomolecule delivery for tissue regeneration, with emphasis on the central nervous system (CNS). In the first section, the focus is on encapsulated cell therapy. In the second section, the focus is on biomolecule delivery in polymeric nano/microspheres and hydrogels for the nerve regeneration and endogenous cell stimulation. In the third section, the focus is on combination strategies of neural stem/progenitor cell or mesenchymal stem cell and biomolecule delivery for tissue regeneration and repair. In each section, the challenges and potential solutions associated with delivery to the CNS are highlighted.'),\n",
              "  0.7260926961898804),\n",
              " (Document(metadata={'_id': '7583104', 'title': 'IDEAL in meshes for prolapse, urinary incontinence, and hernia repair.'}, page_content='PURPOSE Mesh surgeries are counted among the most frequently applied surgical procedures. Despite global spread of mesh applying surgeries, there is no current systematic analysis of incidence and possible prevention of adverse events after mesh implantation. MATERIALS AND METHODS Based on the recommendations of IDEAL an in vitro test system for biocompatibility of surgical meshes has been generated (Innovation). Coating strategies for biocompatibility optimization have been developed (Development). The native and modified alloplastic materials have been tested in an animal model over 2 years (Exploration and Assessment and Long-term study). RESULTS In 3 meshes, implanted in sheep and explanted at 4 different time points (a, 3 months; b, 6 months; c, 12 months; and d, 24 months) over 24 months, thickness of inflammatory tissue (TVT a, 35 µm; b, 32 µm; c, 33 µm; d, 28 µm; UltraPro, a, 25 µm; b, 24 µm; c, 21 µm; d, 22 µm; PVDF a, 20 µm; b, 21 µm; c, 14 µm; d, 15µm), connective tissue (TVT a, 37 µm; b, 36 µm; c, 43 µm; d, 41 µm; UltraPro a, 33 µm; b, 32 µm; c, 40 µm; d, 38 µm; PVDF a, 25 µm; b, 22 µm; c, 22 µm; d, 24 µm), and macrophage infiltration (TVT a, 36%; b, 33%; c, 23%; d, 20%; UltraPro a, 34%; b, 28%; c, 25%; d, 22%; PVDF a, 24%; b, 18%; c, 18%; d, 16%) revealed comparable ranking characteristics at every time point after explantation. The in vivo performance of these meshes in a sheep model was predictable with a previously developed in vitro test system. Coating of meshes with autologous plasma prior to implantation seems to have a positive effect on the meshes biocompatibility. CONCLUSION We have applied IDEAL criteria on a new innovation for surgical meshes. The results permit the generation of a ranking of currently available meshes with potential to optimize future meshes.'),\n",
              "  0.7255579829216003),\n",
              " (Document(metadata={'_id': '18909530', 'title': 'Contractile forces sustain and polarize hematopoiesis from stem and progenitor cells.'}, page_content='Self-renewal and differentiation of stem cells depend on asymmetric division and polarized motility processes that in other cell types are modulated by nonmuscle myosin-II (MII) forces and matrix mechanics. Here, mass spectrometry-calibrated intracellular flow cytometry of human hematopoiesis reveals MIIB to be a major isoform that is strongly polarized in hematopoietic stem cells and progenitors (HSC/Ps) and thereby downregulated in differentiated cells via asymmetric division. MIIA is constitutive and activated by dephosphorylation during cytokine-triggered differentiation of cells grown on stiff, endosteum-like matrix, but not soft, marrow-like matrix. In vivo, MIIB is required for generation of blood, while MIIA is required for sustained HSC/P engraftment. Reversible inhibition of both isoforms in culture with blebbistatin enriches for long-term hematopoietic multilineage reconstituting cells by 5-fold or more as assessed in vivo. Megakaryocytes also become more polyploid, producing 4-fold more platelets. MII is thus a multifunctional node in polarized division and niche sensing.'),\n",
              "  0.7254542708396912)]"
            ]
          },
          "execution_count": 21,
          "metadata": {},
          "output_type": "execute_result"
        }
      ],
      "source": [
        "vector_search(\"0-dimensional biomaterials show inductive properties\")"
      ]
    },
    {
      "cell_type": "markdown",
      "metadata": {
        "id": "8fdjA-VQRav-"
      },
      "source": [
        "### Hybrid Search LangChain<>MongoDB Integration"
      ]
    },
    {
      "cell_type": "code",
      "execution_count": null,
      "metadata": {
        "id": "ReA2Jpbntzmk"
      },
      "outputs": [],
      "source": [
        "from langchain_mongodb.retrievers import MongoDBAtlasHybridSearchRetriever\n",
        "\n",
        "\n",
        "def hybrid_search(query: str, top_k: int = 10) -> List[Document]:\n",
        "    hybrid_search = MongoDBAtlasHybridSearchRetriever(\n",
        "        vectorstore=vector_store, search_index_name=\"text_search_index\", top_k=top_k\n",
        "    )\n",
        "    return hybrid_search.get_relevant_documents(query)"
      ]
    },
    {
      "cell_type": "code",
      "execution_count": null,
      "metadata": {
        "colab": {
          "base_uri": "https://localhost:8080/"
        },
        "id": "mJ0Fa-6tuAoM",
        "outputId": "8b0110de-e499-4e1d-eae4-1520d9c5b286"
      },
      "outputs": [
        {
          "data": {
            "text/plain": [
              "[Document(metadata={'_id': '4346436', 'title': 'Nonlinear Elasticity in Biological Gels', 'vector_score': 0.01639344262295082, 'rank': 0, 'fulltext_score': 0, 'score': 0.01639344262295082}, page_content='Unlike most synthetic materials, biological materials often stiffen as they are deformed. This nonlinear elastic response, critical for the physiological function of some tissues, has been documented since at least the 19th century, but the molecular structure and the design principles responsible for it are unknown. Current models for this response require geometrically complex ordered structures unique to each material. In this Article we show that a much simpler molecular theory accounts for strain stiffening in a wide range of molecularly distinct biopolymer gels formed from purified cytoskeletal and extracellular proteins. This theory shows that systems of semi-flexible chains such as filamentous proteins arranged in an open crosslinked meshwork invariably stiffen at low strains without the need for a specific architecture or multiple elements with different intrinsic stiffnesses.'),\n",
              " Document(metadata={'_id': '10608397', 'title': 'High-performance neuroprosthetic control by an individual with tetraplegia.', 'score': 0.01639344262295082, 'fulltext_score': 0.01639344262295082, 'rank': 0, 'vector_score': 0}, page_content=\"BACKGROUND Paralysis or amputation of an arm results in the loss of the ability to orient the hand and grasp, manipulate, and carry objects, functions that are essential for activities of daily living. Brain-machine interfaces could provide a solution to restoring many of these lost functions. We therefore tested whether an individual with tetraplegia could rapidly achieve neurological control of a high-performance prosthetic limb using this type of an interface. METHODS We implanted two 96-channel intracortical microelectrodes in the motor cortex of a 52-year-old individual with tetraplegia. Brain-machine-interface training was done for 13 weeks with the goal of controlling an anthropomorphic prosthetic limb with seven degrees of freedom (three-dimensional translation, three-dimensional orientation, one-dimensional grasping). The participant's ability to control the prosthetic limb was assessed with clinical measures of upper limb function. This study is registered with ClinicalTrials.gov, NCT01364480. FINDINGS The participant was able to move the prosthetic limb freely in the three-dimensional workspace on the second day of training. After 13 weeks, robust seven-dimensional movements were performed routinely. Mean success rate on target-based reaching tasks was 91·6% (SD 4·4) versus median chance level 6·2% (95% CI 2·0-15·3). Improvements were seen in completion time (decreased from a mean of 148 s [SD 60] to 112 s [6]) and path efficiency (increased from 0·30 [0·04] to 0·38 [0·02]). The participant was also able to use the prosthetic limb to do skilful and coordinated reach and grasp movements that resulted in clinically significant gains in tests of upper limb function. No adverse events were reported. INTERPRETATION With continued development of neuroprosthetic limbs, individuals with long-term paralysis could recover the natural and intuitive command signals for hand placement, orientation, and reaching, allowing them to perform activities of daily living. FUNDING Defense Advanced Research Projects Agency, National Institutes of Health, Department of Veterans Affairs, and UPMC Rehabilitation Institute.\"),\n",
              " Document(metadata={'_id': '40212412', 'title': 'Periosteal bone formation--a neglected determinant of bone strength.', 'score': 0.016129032258064516, 'fulltext_score': 0.016129032258064516, 'rank': 1, 'vector_score': 0}, page_content=\"Life forms that have low body mass can hunt for food on the undersurface of branches or along shear cliff faces quite unperturbed by gravity. For larger animals, the hunt for dinner and the struggle to avoid becoming someone else's meal require rapid movement against gravity. This need is met by the lever function of long bones, three-dimensional masterpieces of biomechanical engineering that, by their material composition and structural design, achieve the contradictory properties of stiffness and flexibility, strength and lightness.1 Material stiffness results from the encrusting of the triple-helical structure of collagen type I with hydroxyapatite crystals, which confers . . .\"),\n",
              " Document(metadata={'_id': '927561', 'title': 'Emergent structures and dynamics of cell colonies by contact inhibition of locomotion', 'vector_score': 0.016129032258064516, 'rank': 1, 'fulltext_score': 0, 'score': 0.016129032258064516}, page_content='Cells in tissues can organize into a broad spectrum of structures according to their function. Drastic changes of organization, such as epithelial-mesenchymal transitions or the formation of spheroidal aggregates, are often associated either to tissue morphogenesis or to cancer progression. Here, we study the organization of cell colonies by means of simulations of self-propelled particles with generic cell-like interactions. The interplay between cell softness, cell-cell adhesion, and contact inhibition of locomotion (CIL) yields structures and collective dynamics observed in several existing tissue phenotypes. These include regular distributions of cells, dynamic cell clusters, gel-like networks, collectively migrating monolayers, and 3D aggregates. We give analytical predictions for transitions between noncohesive, cohesive, and 3D cell arrangements. We explicitly show how CIL yields an effective repulsion that promotes cell dispersal, thereby hindering the formation of cohesive tissues. Yet, in continuous monolayers, CIL leads to collective cell motion, ensures tensile intercellular stresses, and opposes cell extrusion. Thus, our work highlights the prominent role of CIL in determining the emergent structures and dynamics of cell colonies.'),\n",
              " Document(metadata={'_id': '43385013', 'title': 'Epithelial and mesenchymal subpopulations within normal basal breast cell lines exhibit distinct stem cell/progenitor properties.', 'score': 0.015873015873015872, 'fulltext_score': 0.015873015873015872, 'rank': 2, 'vector_score': 0}, page_content='It has been proposed that epithelial-mesenchymal transition (EMT) in mammary epithelial cells and breast cancer cells generates stem cell features, and that the presence of EMT characteristics in claudin-low breast tumors reveals their origin in basal stem cells. It remains to be determined, however, whether EMT is an inherent property of normal basal stem cells, and if the presence of a mesenchymal-like phenotype is required for the maintenance of all their stem cell properties. We used nontumorigenic basal cell lines as models of normal stem cells/progenitors and demonstrate that these cell lines contain an epithelial subpopulation (\"EpCAM+,\" epithelial cell adhesion molecule positive [EpCAM(pos)]/CD49f(high)) that spontaneously generates mesenchymal-like cells (\"Fibros,\" EpCAM(neg)/CD49f(med/low)) through EMT. Importantly, stem cell/progenitor properties such as regenerative potential, high aldehyde dehydrogenase 1 activity, and formation of three-dimensional acini-like structures predominantly reside within EpCAM+ cells, while Fibros exhibit invasive behavior and mammosphere-forming ability. A gene expression profiling meta-analysis established that EpCAM+ cells show a luminal progenitor-like expression pattern, while Fibros most closely resemble stromal fibroblasts but not stem cells. Moreover, Fibros exhibit partial myoepithelial traits and strong similarities with claudin-low breast cancer cells. Finally, we demonstrate that Slug and Zeb1 EMT-inducers control the progenitor and mesenchymal-like phenotype in EpCAM+ cells and Fibros, respectively, by inhibiting luminal differentiation. In conclusion, nontumorigenic basal cell lines have intrinsic capacity for EMT, but a mesenchymal-like phenotype does not correlate with the acquisition of global stem cell/progenitor features. Based on our findings, we propose that EMT in normal basal cells and claudin-low breast cancers reflects aberrant/incomplete myoepithelial differentiation.'),\n",
              " Document(metadata={'_id': '19685306', 'title': 'Orientationally invariant indices of axon diameter and density from diffusion MRI.', 'vector_score': 0.015873015873015872, 'rank': 2, 'fulltext_score': 0, 'score': 0.015873015873015872}, page_content='This paper proposes and tests a technique for imaging orientationally invariant indices of axon diameter and density in white matter using diffusion magnetic resonance imaging. Such indices potentially provide more specific markers of white matter microstructure than standard indices from diffusion tensor imaging. Orientational invariance allows for combination with tractography and presents new opportunities for mapping brain connectivity and quantifying disease processes. The technique uses a four-compartment tissue model combined with an optimized multishell high-angular-resolution pulsed-gradient-spin-echo acquisition. We test the method in simulation, on fixed monkey brains using a preclinical scanner and on live human brains using a clinical 3T scanner. The human data take about one hour to acquire. The simulation experiments show that both monkey and human protocols distinguish distributions of axon diameters that occur naturally in white matter. We compare the axon diameter index with the mean axon diameter weighted by axon volume. The index differs from this mean and is protocol dependent, but correlation is good for the monkey protocol and weaker, but discernible, for the human protocol where greater diffusivity and lower gradient strength limit sensitivity to only the largest axons. Maps of axon diameter and density indices from the monkey and human data in the corpus callosum and corticospinal tract reflect known trends from histology. The results show orientationally invariant sensitivity to natural axon diameter distributions for the first time with both specialist and clinical hardware. This demonstration motivates further refinement, validation, and evaluation of the precise nature of the indices and the influence of potential confounds.'),\n",
              " Document(metadata={'_id': '17388232', 'title': 'Mechanical regulation of cell function with geometrically modulated elastomeric substrates', 'vector_score': 0.015625, 'rank': 3, 'fulltext_score': 0, 'score': 0.015625}, page_content='We report the establishment of a library of micromolded elastomeric micropost arrays to modulate substrate rigidity independently of effects on adhesive and other material surface properties. We demonstrated that micropost rigidity impacts cell morphology, focal adhesions, cytoskeletal contractility and stem cell differentiation. Furthermore, early changes in cytoskeletal contractility predicted later stem cell fate decisions in single cells.'),\n",
              " Document(metadata={'_id': '10931595', 'title': 'Geometry, epistasis, and developmental patterning.', 'score': 0.015625, 'fulltext_score': 0.015625, 'rank': 3, 'vector_score': 0}, page_content='Developmental signaling networks are composed of dozens of components whose interactions are very difficult to quantify in an embryo. Geometric reasoning enumerates a discrete hierarchy of phenotypic models with a few composite variables whose parameters may be defined by in vivo data. Vulval development in the nematode Caenorhabditis elegans is a classic model for the integration of two signaling pathways; induction by EGF and lateral signaling through Notch. Existing data for the relative probabilities of the three possible terminal cell types in diverse genetic backgrounds as well as timed ablation of the inductive signal favor one geometric model and suffice to fit most of its parameters. The model is fully dynamic and encompasses both signaling and commitment. It then predicts the correlated cell fate probabilities for a cross between any two backgrounds/conditions. The two signaling pathways are combined additively, without interactions, and epistasis only arises from the nonlinear dynamical flow in the landscape defined by the geometric model. In this way, the model quantitatively fits genetic experiments purporting to show mutual pathway repression. The model quantifies the contributions of extrinsic vs. intrinsic sources of noise in the penetrance of mutant phenotypes in signaling hypomorphs and explains available experiments with no additional parameters. Data for anchor cell ablation fix the parameters needed to define Notch autocrine signaling.'),\n",
              " Document(metadata={'_id': '27049238', 'title': 'Large deformation of red blood cell ghosts in a simple shear flow.', 'score': 0.015384615384615385, 'fulltext_score': 0.015384615384615385, 'rank': 4, 'vector_score': 0}, page_content='Red blood cells are known to change shape in response to local flow conditions. Deformability affects red blood cell physiological function and the hydrodynamic properties of blood. The immersed boundary method is used to simulate three-dimensional membrane-fluid flow interactions for cells with the same internal and external fluid viscosities. The method has been validated for small deformations of an initially spherical capsule in simple shear flow for both neo-Hookean and the Evans-Skalak membrane models. Initially oblate spheroidal capsules are simulated and it is shown that the red blood cell membrane exhibits asymptotic behavior as the ratio of the dilation modulus to the extensional modulus is increased and a good approximation of local area conservation is obtained. Tank treading behavior is observed and its period calculated.'),\n",
              " Document(metadata={'_id': '14082855', 'title': 'Inflammatory Reaction as Determinant of Foreign Body Reaction Is an Early and Susceptible Event after Mesh Implantation', 'vector_score': 0.015384615384615385, 'rank': 4, 'fulltext_score': 0, 'score': 0.015384615384615385}, page_content='PURPOSE To investigate and relate the ultrashort-term and long-term courses of determinants for foreign body reaction as biocompatibility predictors for meshes in an animal model. MATERIALS AND METHODS Three different meshes (TVT, UltraPro, and PVDF) were implanted in sheep. Native and plasma coated meshes were placed bilaterally: (a) interaperitoneally, (b) as fascia onlay, and (c) as muscle onlay (fascia sublay). At 5 min, 20 min, 60 min, and 120 min meshes were explanted and histochemically investigated for inflammatory infiltrate, macrophage infiltration, vessel formation, myofibroblast invasion, and connective tissue accumulation. The results were related to long-term values over 24 months. RESULTS Macrophage invasion reached highest extents with up to 60% in short-term and decreased within 24 months to about 30%. Inflammatory infiltrate increased within the first 2 hours, the reached levels and the different extents and ranking among the investigated meshes remained stable during long-term follow up. For myofibroblasts, connective tissue, and CD31+ cells, no activity was detected during the first 120 min. CONCLUSION The local inflammatory reaction is an early and susceptible event after mesh implantation. It cannot be influenced by prior plasma coating and does not depend on the localisation of implantation.')]"
            ]
          },
          "execution_count": 23,
          "metadata": {},
          "output_type": "execute_result"
        }
      ],
      "source": [
        "hybrid_search(\"0-dimensional biomaterials show inductive properties\")"
      ]
    },
    {
      "cell_type": "markdown",
      "metadata": {
        "id": "28LA_rDCToLz"
      },
      "source": [
        "# Information Retrieval Evaluation Process Begins\n",
        "\n",
        "\n",
        "---\n",
        "\n",
        "\n",
        "\n",
        "---\n",
        "\n"
      ]
    },
    {
      "cell_type": "markdown",
      "metadata": {
        "id": "W4n7ELsGxWVV"
      },
      "source": [
        "# **Step 6: Custom Retrieval Class For Lexical Search**\n",
        "\n"
      ]
    },
    {
      "cell_type": "code",
      "execution_count": null,
      "metadata": {
        "id": "Y9IcUtnRvGrx"
      },
      "outputs": [],
      "source": [
        "from typing import Dict\n",
        "\n",
        "from beir.retrieval.search.base import BaseSearch\n",
        "\n",
        "\n",
        "class MongoDBSearch(BaseSearch):\n",
        "    def __init__(\n",
        "        self, collection, search_index_name, search_field=\"text\", batch_size=128\n",
        "    ):\n",
        "        self.collection = collection\n",
        "        self.search_index_name = search_index_name\n",
        "        self.search_field = search_field\n",
        "        self.batch_size = batch_size\n",
        "\n",
        "    def search(\n",
        "        self,\n",
        "        corpus: Dict[str, Dict[str, str]],\n",
        "        queries: Dict[str, str],\n",
        "        top_k: int,\n",
        "        score_function: str = \"dot\",\n",
        "        **kwargs,\n",
        "    ) -> Dict[str, Dict[str, float]]:\n",
        "        results = {}\n",
        "        for query_id, query_text in queries.items():\n",
        "            full_text_search = MongoDBAtlasFullTextSearchRetriever(\n",
        "                collection=self.collection,\n",
        "                search_index_name=self.search_index_name,\n",
        "                search_field=self.search_field,\n",
        "                top_k=top_k,\n",
        "            )\n",
        "            documents = full_text_search.get_relevant_documents(query_text)\n",
        "            results[query_id] = {\n",
        "                doc.metadata[\"_id\"]: doc.metadata[\"score\"] for doc in documents\n",
        "            }\n",
        "        return results"
      ]
    },
    {
      "cell_type": "code",
      "execution_count": null,
      "metadata": {
        "id": "OAhWdRiFx2QD"
      },
      "outputs": [],
      "source": [
        "model = MongoDBSearch(db[CORPUS_COLLECTION_NAME], TEXT_SEARCH_INDEX)"
      ]
    },
    {
      "cell_type": "code",
      "execution_count": null,
      "metadata": {
        "id": "ETzC-2k5zAwl"
      },
      "outputs": [],
      "source": [
        "retriever = EvaluateRetrieval(model)"
      ]
    },
    {
      "cell_type": "code",
      "execution_count": null,
      "metadata": {
        "id": "j7a_ORZJvG1h"
      },
      "outputs": [],
      "source": [
        "# Retrieve results\n",
        "results = retriever.retrieve(corpus, queries)"
      ]
    },
    {
      "cell_type": "code",
      "execution_count": null,
      "metadata": {
        "colab": {
          "base_uri": "https://localhost:8080/"
        },
        "id": "KvPjPmI3DxMV",
        "outputId": "d12aa9fd-1a7a-4e87-b5db-9f31e7916248"
      },
      "outputs": [
        {
          "name": "stdout",
          "output_type": "stream",
          "text": [
            "Sample of retrieved results:\n",
            "Query ID: 1\n",
            "Query text: 0-dimensional biomaterials show inductive properties.\n",
            "Top 3 retrieved documents:\n",
            "  Doc ID: 10608397, Score: 6.045361518859863\n",
            "  Doc ID: 40212412, Score: 4.411067962646484\n",
            "  Doc ID: 43385013, Score: 4.344019412994385\n",
            "\n",
            "Query ID: 3\n",
            "Query text: 1,000 genomes project enables mapping of genetic sequence variation consisting of rare variants with larger penetrance effects than common variants.\n",
            "Top 3 retrieved documents:\n",
            "  Doc ID: 3672261, Score: 14.99349308013916\n",
            "  Doc ID: 14717500, Score: 13.623835563659668\n",
            "  Doc ID: 23389795, Score: 13.595733642578125\n",
            "\n",
            "Query ID: 5\n",
            "Query text: 1/2000 in UK have abnormal PrP positivity.\n",
            "Top 3 retrieved documents:\n",
            "  Doc ID: 13734012, Score: 9.427136421203613\n",
            "  Doc ID: 18617259, Score: 7.08165979385376\n",
            "  Doc ID: 42240424, Score: 5.731115818023682\n",
            "\n",
            "Query ID: 13\n",
            "Query text: 5% of perinatal mortality is due to low birth weight.\n",
            "Top 3 retrieved documents:\n",
            "  Doc ID: 1263446, Score: 9.440444946289062\n",
            "  Doc ID: 17450673, Score: 9.43663501739502\n",
            "  Doc ID: 7662395, Score: 9.31999397277832\n",
            "\n",
            "Query ID: 36\n",
            "Query text: A deficiency of vitamin B12 increases blood levels of homocysteine.\n",
            "Top 3 retrieved documents:\n",
            "  Doc ID: 42441846, Score: 13.356172561645508\n",
            "  Doc ID: 33409100, Score: 10.587646484375\n",
            "  Doc ID: 18557974, Score: 10.070034980773926\n",
            "\n"
          ]
        }
      ],
      "source": [
        "# Print some results for inspection\n",
        "print(\"Sample of retrieved results:\")\n",
        "for query_id, doc_scores in list(results.items())[:5]:  # First 5 queries\n",
        "    print(f\"Query ID: {query_id}\")\n",
        "    print(f\"Query text: {queries[query_id]}\")\n",
        "    print(\"Top 3 retrieved documents:\")\n",
        "    for doc_id, score in list(doc_scores.items())[:3]:\n",
        "        print(f\"  Doc ID: {doc_id}, Score: {score}\")\n",
        "    print()"
      ]
    },
    {
      "cell_type": "code",
      "execution_count": null,
      "metadata": {
        "id": "6_du_owvD2r5"
      },
      "outputs": [],
      "source": [
        "# Evaluate the model\n",
        "metrics = retriever.evaluate(qrels, results, retriever.k_values)"
      ]
    },
    {
      "cell_type": "code",
      "execution_count": null,
      "metadata": {
        "colab": {
          "base_uri": "https://localhost:8080/"
        },
        "id": "-bLj2_NnEtZ_",
        "outputId": "22302b4e-d1a0-44c4-8d35-ea0633b51af1"
      },
      "outputs": [
        {
          "name": "stdout",
          "output_type": "stream",
          "text": [
            "\n",
            "NDCG:\n",
            "  NDCG@1: 0.5300\n",
            "  NDCG@3: 0.6123\n",
            "  NDCG@5: 0.6322\n",
            "  NDCG@10: 0.6506\n",
            "  NDCG@100: 0.6749\n",
            "  NDCG@1000: 0.6860\n",
            "\n",
            "MAP:\n",
            "  MAP@1: 0.5115\n",
            "  MAP@3: 0.5854\n",
            "  MAP@5: 0.5979\n",
            "  MAP@10: 0.6071\n",
            "  MAP@100: 0.6124\n",
            "  MAP@1000: 0.6129\n",
            "\n",
            "Recall:\n",
            "  Recall@1: 0.5115\n",
            "  Recall@3: 0.6673\n",
            "  Recall@5: 0.7151\n",
            "  Recall@10: 0.7676\n",
            "  Recall@100: 0.8752\n",
            "  Recall@1000: 0.9617\n",
            "\n",
            "Precision:\n",
            "  P@1: 0.5300\n",
            "  P@3: 0.2367\n",
            "  P@5: 0.1547\n",
            "  P@10: 0.0847\n",
            "  P@100: 0.0099\n",
            "  P@1000: 0.0011\n"
          ]
        }
      ],
      "source": [
        "ndcg, _map, recall, precision = metrics\n",
        "\n",
        "lexical_search_metric_dicts = [ndcg, _map, recall, precision]\n",
        "\n",
        "for name, metric_dict in zip(metric_names, lexical_search_metric_dicts):\n",
        "    print(f\"\\n{name}:\")\n",
        "    for k, score in metric_dict.items():\n",
        "        print(f\"  {k}: {score:.4f}\")"
      ]
    },
    {
      "cell_type": "markdown",
      "metadata": {
        "id": "rQZAvU1Oxzxe"
      },
      "source": [
        "# **Step 7: Custom Retrieval Class For Vector Search**\n"
      ]
    },
    {
      "cell_type": "code",
      "execution_count": null,
      "metadata": {
        "id": "hNSDBi1yx3v2"
      },
      "outputs": [],
      "source": [
        "class MongoDBVectorSearch(BaseSearch):\n",
        "    def __init__(\n",
        "        self,\n",
        "        vector_store: MongoDBAtlasVectorSearch,\n",
        "        embedding_model: OpenAIEmbeddings,\n",
        "        batch_size=128,\n",
        "    ):\n",
        "        self.vector_store = vector_store\n",
        "        self.embedding_model = embedding_model\n",
        "        self.batch_size = batch_size\n",
        "\n",
        "    def search(\n",
        "        self,\n",
        "        corpus: Dict[str, Dict[str, str]],\n",
        "        queries: Dict[str, str],\n",
        "        top_k: int,\n",
        "        score_function: str = \"dot\",\n",
        "        **kwargs,\n",
        "    ) -> Dict[str, Dict[str, float]]:\n",
        "        results = {}\n",
        "        for query_id, query_text in queries.items():\n",
        "            vector_results = self.vector_store.similarity_search_with_score(\n",
        "                query=query_text, k=top_k\n",
        "            )\n",
        "            # Convert to the format expected by BEIR\n",
        "            results[query_id] = {\n",
        "                str(doc.metadata.get(\"_id\", i)): score\n",
        "                for i, (doc, score) in enumerate(vector_results)\n",
        "            }\n",
        "        return results"
      ]
    },
    {
      "cell_type": "code",
      "execution_count": null,
      "metadata": {
        "id": "4eSbP11Gx-__"
      },
      "outputs": [],
      "source": [
        "mongodb_vector_search = MongoDBVectorSearch(vector_store, embedding_model)"
      ]
    },
    {
      "cell_type": "code",
      "execution_count": null,
      "metadata": {
        "id": "cUf0-vhlyA53"
      },
      "outputs": [],
      "source": [
        "vector_search_retriever = EvaluateRetrieval(mongodb_vector_search)"
      ]
    },
    {
      "cell_type": "code",
      "execution_count": null,
      "metadata": {
        "id": "k9YFG61zyEox"
      },
      "outputs": [],
      "source": [
        "vector_search_eval_results = vector_search_retriever.retrieve(corpus, queries)"
      ]
    },
    {
      "cell_type": "code",
      "execution_count": null,
      "metadata": {
        "colab": {
          "base_uri": "https://localhost:8080/"
        },
        "id": "S6VnMRLQikgt",
        "outputId": "1394db41-8473-498d-db55-c0a6d63b8135"
      },
      "outputs": [
        {
          "name": "stdout",
          "output_type": "stream",
          "text": [
            "Sample of retrieved results:\n",
            "Query ID: 1\n",
            "Query text: 0-dimensional biomaterials show inductive properties.\n",
            "Top 3 retrieved documents:\n",
            "  Doc ID: 4346436, Score: 0.755730390548706\n",
            "  Doc ID: 14082855, Score: 0.7475494146347046\n",
            "  Doc ID: 927561, Score: 0.7456868886947632\n",
            "\n",
            "Query ID: 3\n",
            "Query text: 1,000 genomes project enables mapping of genetic sequence variation consisting of rare variants with larger penetrance effects than common variants.\n",
            "Top 3 retrieved documents:\n",
            "  Doc ID: 2739854, Score: 0.8083912134170532\n",
            "  Doc ID: 41782935, Score: 0.8060566782951355\n",
            "  Doc ID: 1388704, Score: 0.8057119846343994\n",
            "\n",
            "Query ID: 5\n",
            "Query text: 1/2000 in UK have abnormal PrP positivity.\n",
            "Top 3 retrieved documents:\n",
            "  Doc ID: 13734012, Score: 0.8474858999252319\n",
            "  Doc ID: 18617259, Score: 0.8069760799407959\n",
            "  Doc ID: 21550246, Score: 0.8011995553970337\n",
            "\n",
            "Query ID: 13\n",
            "Query text: 5% of perinatal mortality is due to low birth weight.\n",
            "Top 3 retrieved documents:\n",
            "  Doc ID: 1263446, Score: 0.7953510284423828\n",
            "  Doc ID: 26611834, Score: 0.7630125880241394\n",
            "  Doc ID: 4791384, Score: 0.74913090467453\n",
            "\n",
            "Query ID: 36\n",
            "Query text: A deficiency of vitamin B12 increases blood levels of homocysteine.\n",
            "Top 3 retrieved documents:\n",
            "  Doc ID: 16252863, Score: 0.8435379266738892\n",
            "  Doc ID: 18557974, Score: 0.8112655282020569\n",
            "  Doc ID: 3215494, Score: 0.8056871891021729\n",
            "\n"
          ]
        }
      ],
      "source": [
        "print(\"Sample of retrieved results:\")\n",
        "for query_id, doc_scores in list(vector_search_eval_results.items())[\n",
        "    :5\n",
        "]:  # First 5 queries\n",
        "    print(f\"Query ID: {query_id}\")\n",
        "    print(f\"Query text: {queries[query_id]}\")\n",
        "    print(\"Top 3 retrieved documents:\")\n",
        "    for doc_id, score in list(doc_scores.items())[:3]:\n",
        "        print(f\"  Doc ID: {doc_id}, Score: {score}\")\n",
        "    print()"
      ]
    },
    {
      "cell_type": "code",
      "execution_count": null,
      "metadata": {
        "id": "nxQBuZEWimsy"
      },
      "outputs": [],
      "source": [
        "ndcg, _map, recall, precision = vector_search_retriever.evaluate(\n",
        "    qrels, vector_search_eval_results, vector_search_retriever.k_values\n",
        ")"
      ]
    },
    {
      "cell_type": "code",
      "execution_count": null,
      "metadata": {
        "colab": {
          "base_uri": "https://localhost:8080/"
        },
        "id": "FQjtEA49zoew",
        "outputId": "6b9c9835-a0ea-4c58-974c-896f4b4b5f1b"
      },
      "outputs": [
        {
          "name": "stdout",
          "output_type": "stream",
          "text": [
            "\n",
            "NDCG:\n",
            "  NDCG@1: 0.5800\n",
            "  NDCG@3: 0.6430\n",
            "  NDCG@5: 0.6690\n",
            "  NDCG@10: 0.6920\n",
            "  NDCG@100: 0.7202\n",
            "  NDCG@1000: 0.7265\n",
            "\n",
            "MAP:\n",
            "  MAP@1: 0.5532\n",
            "  MAP@3: 0.6165\n",
            "  MAP@5: 0.6349\n",
            "  MAP@10: 0.6460\n",
            "  MAP@100: 0.6529\n",
            "  MAP@1000: 0.6532\n",
            "\n",
            "Recall:\n",
            "  Recall@1: 0.5532\n",
            "  Recall@3: 0.6885\n",
            "  Recall@5: 0.7530\n",
            "  Recall@10: 0.8198\n",
            "  Recall@100: 0.9450\n",
            "  Recall@1000: 0.9933\n",
            "\n",
            "Precision:\n",
            "  P@1: 0.5800\n",
            "  P@3: 0.2489\n",
            "  P@5: 0.1680\n",
            "  P@10: 0.0930\n",
            "  P@100: 0.0107\n",
            "  P@1000: 0.0011\n"
          ]
        }
      ],
      "source": [
        "vector_search_metric_dicts = [ndcg, _map, recall, precision]\n",
        "\n",
        "for name, metric_dict in zip(metric_names, vector_search_metric_dicts):\n",
        "    print(f\"\\n{name}:\")\n",
        "    for k, score in metric_dict.items():\n",
        "        print(f\"  {k}: {score:.4f}\")"
      ]
    },
    {
      "cell_type": "markdown",
      "metadata": {
        "id": "ekUcNjn0xpRz"
      },
      "source": [
        "# **Step 8: Custom Retrieval Class For Hybrid Search**\n"
      ]
    },
    {
      "cell_type": "code",
      "execution_count": null,
      "metadata": {
        "id": "ZutxbNWXxrWt"
      },
      "outputs": [],
      "source": [
        "class MongoDBHybridSearch(BaseSearch):\n",
        "    def __init__(\n",
        "        self,\n",
        "        vector_store: MongoDBAtlasVectorSearch,\n",
        "        search_index_name: str,\n",
        "        batch_size=128,\n",
        "    ):\n",
        "        self.vector_store = vector_store\n",
        "        self.search_index_name = search_index_name\n",
        "        self.batch_size = batch_size\n",
        "\n",
        "    def search(\n",
        "        self,\n",
        "        corpus: Dict[str, Dict[str, str]],\n",
        "        queries: Dict[str, str],\n",
        "        top_k: int,\n",
        "        score_function: str = \"dot\",\n",
        "        **kwargs,\n",
        "    ) -> Dict[str, Dict[str, float]]:\n",
        "        results = {}\n",
        "        for query_id, query_text in queries.items():\n",
        "            hybrid_search = MongoDBAtlasHybridSearchRetriever(\n",
        "                vectorstore=self.vector_store,\n",
        "                search_index_name=self.search_index_name,\n",
        "                top_k=top_k,\n",
        "            )\n",
        "            documents = hybrid_search.get_relevant_documents(query_text)\n",
        "\n",
        "            # Convert to the format expected by BEIR\n",
        "            # Higher rank (lower index) gets a higher score\n",
        "            results[query_id] = {\n",
        "                self._get_doc_id(doc): (len(documents) - i) / len(documents)\n",
        "                for i, doc in enumerate(documents)\n",
        "            }\n",
        "\n",
        "        return results\n",
        "\n",
        "    def _get_doc_id(self, doc: Document) -> str:\n",
        "        # Attempt to get the document ID from metadata, fallback to content hash if not available\n",
        "        return str(doc.metadata.get(\"_id\", hash(doc.page_content)))"
      ]
    },
    {
      "cell_type": "code",
      "execution_count": null,
      "metadata": {
        "id": "bWxs7qXPxree"
      },
      "outputs": [],
      "source": [
        "mongodb_hybrid_search = MongoDBHybridSearch(\n",
        "    vector_store=vector_store, search_index_name=\"text_search_index\"\n",
        ")"
      ]
    },
    {
      "cell_type": "code",
      "execution_count": null,
      "metadata": {
        "id": "edM_DMC1xrgt"
      },
      "outputs": [],
      "source": [
        "hybrid_search_retriever = EvaluateRetrieval(mongodb_hybrid_search)"
      ]
    },
    {
      "cell_type": "code",
      "execution_count": null,
      "metadata": {
        "id": "Clj7uIv-yL6B"
      },
      "outputs": [],
      "source": [
        "hybrid_search_results = hybrid_search_retriever.retrieve(corpus, queries)"
      ]
    },
    {
      "cell_type": "code",
      "execution_count": null,
      "metadata": {
        "colab": {
          "base_uri": "https://localhost:8080/"
        },
        "id": "_Jqjx3LWySFt",
        "outputId": "a49b5943-d4f6-4d03-93fd-be95fb74e880"
      },
      "outputs": [
        {
          "name": "stdout",
          "output_type": "stream",
          "text": [
            "Sample of retrieved results:\n",
            "Query ID: 1\n",
            "Query text: 0-dimensional biomaterials show inductive properties.\n",
            "Top 3 retrieved documents:\n",
            "  Doc ID: 10906636, Score: 1.0\n",
            "  Doc ID: 43385013, Score: 0.999\n",
            "  Doc ID: 10931595, Score: 0.998\n",
            "\n",
            "Query ID: 3\n",
            "Query text: 1,000 genomes project enables mapping of genetic sequence variation consisting of rare variants with larger penetrance effects than common variants.\n",
            "Top 3 retrieved documents:\n",
            "  Doc ID: 2739854, Score: 1.0\n",
            "  Doc ID: 23389795, Score: 0.999\n",
            "  Doc ID: 14717500, Score: 0.998\n",
            "\n",
            "Query ID: 5\n",
            "Query text: 1/2000 in UK have abnormal PrP positivity.\n",
            "Top 3 retrieved documents:\n",
            "  Doc ID: 13734012, Score: 1.0\n",
            "  Doc ID: 18617259, Score: 0.999\n",
            "  Doc ID: 17333231, Score: 0.998\n",
            "\n",
            "Query ID: 13\n",
            "Query text: 5% of perinatal mortality is due to low birth weight.\n",
            "Top 3 retrieved documents:\n",
            "  Doc ID: 1263446, Score: 1.0\n",
            "  Doc ID: 7662395, Score: 0.999\n",
            "  Doc ID: 30786800, Score: 0.998\n",
            "\n",
            "Query ID: 36\n",
            "Query text: A deficiency of vitamin B12 increases blood levels of homocysteine.\n",
            "Top 3 retrieved documents:\n",
            "  Doc ID: 16252863, Score: 1.0\n",
            "  Doc ID: 18557974, Score: 0.999\n",
            "  Doc ID: 33409100, Score: 0.998\n",
            "\n"
          ]
        }
      ],
      "source": [
        "print(\"Sample of retrieved results:\")\n",
        "for query_id, doc_scores in list(hybrid_search_results.items())[:5]:\n",
        "    print(f\"Query ID: {query_id}\")\n",
        "    print(f\"Query text: {queries[query_id]}\")\n",
        "    print(\"Top 3 retrieved documents:\")\n",
        "    for doc_id, score in list(doc_scores.items())[:3]:\n",
        "        print(f\"  Doc ID: {doc_id}, Score: {score}\")\n",
        "    print()"
      ]
    },
    {
      "cell_type": "code",
      "execution_count": null,
      "metadata": {
        "id": "lGkJumGQyM7z"
      },
      "outputs": [],
      "source": [
        "ndcg, _map, recall, precision = hybrid_search_retriever.evaluate(\n",
        "    qrels, hybrid_search_results, hybrid_search_retriever.k_values\n",
        ")"
      ]
    },
    {
      "cell_type": "code",
      "execution_count": null,
      "metadata": {
        "colab": {
          "base_uri": "https://localhost:8080/"
        },
        "id": "V0yGPOLCybEb",
        "outputId": "36c5eb5d-28fc-4e92-e3fb-da01dc1dbda3"
      },
      "outputs": [
        {
          "name": "stdout",
          "output_type": "stream",
          "text": [
            "\n",
            "NDCG:\n",
            "  NDCG@1: 0.5933\n",
            "  NDCG@3: 0.6739\n",
            "  NDCG@5: 0.6903\n",
            "  NDCG@10: 0.7128\n",
            "  NDCG@100: 0.7423\n",
            "  NDCG@1000: 0.7473\n",
            "\n",
            "MAP:\n",
            "  MAP@1: 0.5693\n",
            "  MAP@3: 0.6464\n",
            "  MAP@5: 0.6582\n",
            "  MAP@10: 0.6695\n",
            "  MAP@100: 0.6765\n",
            "  MAP@1000: 0.6767\n",
            "\n",
            "Recall:\n",
            "  Recall@1: 0.5693\n",
            "  Recall@3: 0.7262\n",
            "  Recall@5: 0.7657\n",
            "  Recall@10: 0.8297\n",
            "  Recall@100: 0.9600\n",
            "  Recall@1000: 0.9967\n",
            "\n",
            "Precision:\n",
            "  P@1: 0.5933\n",
            "  P@3: 0.2600\n",
            "  P@5: 0.1680\n",
            "  P@10: 0.0930\n",
            "  P@100: 0.0109\n",
            "  P@1000: 0.0011\n"
          ]
        }
      ],
      "source": [
        "hybrid_search_metric_dicts = [ndcg, _map, recall, precision]\n",
        "\n",
        "for name, metric_dict in zip(metric_names, hybrid_search_metric_dicts):\n",
        "    print(f\"\\n{name}:\")\n",
        "    for k, score in metric_dict.items():\n",
        "        print(f\"  {k}: {score:.4f}\")"
      ]
    },
    {
      "cell_type": "markdown",
      "metadata": {
        "id": "TZ4cS4Yg1DZJ"
      },
      "source": [
        "# **Step 9: Evaluation Result Visualisation**"
      ]
    },
    {
      "cell_type": "code",
      "execution_count": null,
      "metadata": {
        "id": "cfA0nYdG1D3W"
      },
      "outputs": [],
      "source": [
        "import matplotlib.pyplot as plt\n",
        "import numpy as np\n",
        "\n",
        "\n",
        "def plot_search_method_comparison(\n",
        "    lexical_metrics, vector_metrics, hybrid_metrics, metric_names\n",
        "):\n",
        "    fig, axes = plt.subplots(2, 2, figsize=(20, 16))\n",
        "    fig.suptitle(\"Comparison of Search Methods\", fontsize=16)\n",
        "\n",
        "    search_methods = information_retrieval_search_methods\n",
        "    colors = [\"#1f77b4\", \"#ff7f0e\", \"#2ca02c\"]  # Blue, Orange, Green\n",
        "\n",
        "    for idx, (metric_name, ax) in enumerate(zip(metric_names, axes.flatten())):\n",
        "        lexical_data = lexical_metrics[idx]\n",
        "        vector_data = vector_metrics[idx]\n",
        "        hybrid_data = hybrid_metrics[idx]\n",
        "\n",
        "        # Ensure all dictionaries have the same keys\n",
        "        all_keys = (\n",
        "            set(lexical_data.keys()) | set(vector_data.keys()) | set(hybrid_data.keys())\n",
        "        )\n",
        "\n",
        "        x = np.arange(len(all_keys))\n",
        "        width = 0.25\n",
        "\n",
        "        for i, (method, data) in enumerate(\n",
        "            zip(search_methods, [lexical_data, vector_data, hybrid_data])\n",
        "        ):\n",
        "            values = [data.get(k, 0) for k in all_keys]\n",
        "            ax.bar(x + i * width, values, width, label=method, color=colors[i])\n",
        "\n",
        "        ax.set_ylabel(\"Score\")\n",
        "        ax.set_title(metric_name)\n",
        "        ax.set_xticks(x + width)\n",
        "        ax.set_xticklabels(all_keys, rotation=45, ha=\"right\")\n",
        "        ax.legend()\n",
        "        ax.grid(True, axis=\"y\", linestyle=\"--\", alpha=0.7)\n",
        "\n",
        "    plt.tight_layout()\n",
        "    plt.show()"
      ]
    },
    {
      "cell_type": "code",
      "execution_count": null,
      "metadata": {
        "colab": {
          "base_uri": "https://localhost:8080/",
          "height": 1000
        },
        "id": "9rd8peCB1WLB",
        "outputId": "c8c78b46-ceaf-4019-883f-d1046c43d1aa"
      },
      "outputs": [
        {
          "data": {
            "image/png": "[encoded data removed]",
            "text/plain": [
              "<Figure size 2000x1600 with 4 Axes>"
            ]
          },
          "metadata": {},
          "output_type": "display_data"
        }
      ],
      "source": [
        "plot_search_method_comparison(\n",
        "    lexical_search_metric_dicts,\n",
        "    vector_search_metric_dicts,\n",
        "    hybrid_search_metric_dicts,\n",
        "    metric_names,\n",
        ")"
      ]
    },
    {
      "cell_type": "markdown",
      "metadata": {
        "id": "oeERj6U4oMj9"
      },
      "source": [
        "# **Step 10: Storing Evaluation Results In MongoDB**"
      ]
    },
    {
      "cell_type": "code",
      "execution_count": null,
      "metadata": {
        "id": "ELaECcHDoQnI"
      },
      "outputs": [],
      "source": [
        "from datetime import datetime\n",
        "\n",
        "\n",
        "def store_evaluation_results(\n",
        "    db: Any,\n",
        "    search_method: str,\n",
        "    metrics: Dict[str, Dict[str, float]],\n",
        "    additional_info: Dict[str, Any] | None = None,\n",
        "):\n",
        "    \"\"\"\n",
        "    Store evaluation results in MongoDB.\n",
        "\n",
        "    Args\n",
        "    db: MongoDB database instance\n",
        "    search_method: Name of the search method (e.g., 'lexical', 'vector', 'hybrid')\n",
        "    metrics: Dictionary containing evaluation metrics (ndcg, map, recall, precision)\n",
        "    additional_info: Optional dictionary for any additional information to store\n",
        "    \"\"\"\n",
        "    collection = db[\"evaluation_results\"]\n",
        "\n",
        "    # Prepare the document to be inserted\n",
        "    result_doc = {\n",
        "        \"timestamp\": datetime.utcnow(),\n",
        "        \"search_method\": search_method,\n",
        "        \"metrics\": {},\n",
        "    }\n",
        "\n",
        "    # Add metrics to the document\n",
        "    for metric_name, metric_values in metrics.items():\n",
        "        result_doc[\"metrics\"][metric_name] = metric_values\n",
        "\n",
        "    # Add any additional information\n",
        "    if additional_info:\n",
        "        result_doc.update(additional_info)\n",
        "\n",
        "    # Insert the document\n",
        "    insert_result = collection.insert_one(result_doc)\n",
        "\n",
        "    print(\n",
        "        f\"Evaluation results for {search_method} stored with ID: {insert_result.inserted_id}\"\n",
        "    )"
      ]
    },
    {
      "cell_type": "code",
      "execution_count": null,
      "metadata": {
        "id": "oMcDhx-9oqQG"
      },
      "outputs": [],
      "source": [
        "metadata = {\n",
        "    \"dataset_name\": DATASET,\n",
        "    \"corpus_size\": len(corpus),\n",
        "    \"num_queries\": len(queries),\n",
        "    \"num_qrels\": sum(len(q) for q in qrels.values()),\n",
        "}\n",
        "\n",
        "information_retrieval_eval_metrics_list = [\n",
        "    lexical_search_metric_dicts,\n",
        "    vector_search_metric_dicts,\n",
        "    hybrid_search_metric_dicts,\n",
        "]\n",
        "\n",
        "# Iterate through metrics list and store evaluation results\n",
        "for search_method, metrics in zip(\n",
        "    information_retrieval_search_methods, information_retrieval_eval_metrics_list\n",
        "):\n",
        "    store_evaluation_results(db, search_method, metrics, metadata)"
      ]
    },
    {
      "cell_type": "markdown",
      "metadata": {
        "id": "lCicxbn3sZAT"
      },
      "source": [
        "# **Evaluating on the Financial Opinion Mining and Question Answering (FIQA) dataset**\n",
        "\n",
        "\n",
        "\n",
        "---\n"
      ]
    },
    {
      "cell_type": "code",
      "execution_count": null,
      "metadata": {
        "colab": {
          "base_uri": "https://localhost:8080/",
          "height": 81,
          "referenced_widgets": [
            "879141a9900d4741985af9ee5f230760",
            "5f822791ad0243d99cffb09f57b6257d",
            "f9596cf74c4b428594a0be76406d96be",
            "b014d38bd40740a18eaf90a6d2f69439",
            "6a3ffc1cb8764532b215d51cae6e44be",
            "13eec1cf9f3b4e27995eb7735bbf43aa",
            "8bda824cef9c493b83704d511554954c",
            "9903eb80686c492aa8a5e3190ccc798a",
            "148567c981e74f1a9b840fb5463f6c1f",
            "2001c71b7c0649ad94991dc00c2c1c2b",
            "0b639c296a6e42e883957f4053e08881",
            "ef9546a04f6d47e081b7021376e1fdab",
            "f2be4ffe3b984e9989af25faceb3c9fc",
            "4cbd2428f91c40d092e1c3bc80171123",
            "72b0800f217f4559aea1c0db64d6594c",
            "983b3ad86d71468c9efc7e01926c70e6",
            "e260dd2233ff479db1471ec42f0b907a",
            "b446bbe72b8344dab8c5b637ff3e48bf",
            "fbf3da22c9954c3ab5995fff682084ba",
            "6a61062dbe92469889f767985c4f5b59",
            "e71944737601445a9e8a1f39fe32d445",
            "edd9d4c3787f44e2a6d7fe43dec354f2"
          ]
        },
        "id": "KYdzVpcXshVO",
        "outputId": "a1068432-aea5-44c3-c194-ad7fa33e45dc"
      },
      "outputs": [
        {
          "data": {
            "application/vnd.jupyter.widget-view+json": {
              "model_id": "879141a9900d4741985af9ee5f230760",
              "version_major": 2,
              "version_minor": 0
            },
            "text/plain": [
              "datasets/fiqa.zip:   0%|          | 0.00/17.1M [00:00<?, ?iB/s]"
            ]
          },
          "metadata": {},
          "output_type": "display_data"
        },
        {
          "data": {
            "application/vnd.jupyter.widget-view+json": {
              "model_id": "ef9546a04f6d47e081b7021376e1fdab",
              "version_major": 2,
              "version_minor": 0
            },
            "text/plain": [
              "  0%|          | 0/57638 [00:00<?, ?it/s]"
            ]
          },
          "metadata": {},
          "output_type": "display_data"
        }
      ],
      "source": [
        "DATASET = \"fiqa\"\n",
        "corpus, queries, qrels = load_beir_dataset(DATASET)"
      ]
    },
    {
      "cell_type": "code",
      "execution_count": null,
      "metadata": {
        "colab": {
          "base_uri": "https://localhost:8080/"
        },
        "id": "1cqIkRmIst4w",
        "outputId": "a0106c74-f4be-46b9-c013-91add8bb1c6e"
      },
      "outputs": [
        {
          "name": "stdout",
          "output_type": "stream",
          "text": [
            "('3', {'text': \"I'm not saying I don't like the idea of on-the-job training too, but you can't expect the company to do that. Training workers is not their job - they're building software. Perhaps educational systems in the U.S. (or their students) should worry a little about getting marketable skills in exchange for their massive investment in education, rather than getting out with thousands in student debt and then complaining that they aren't qualified to do anything.\", 'title': ''})\n",
            "\n",
            "('8', 'How to deposit a cheque issued to an associate in my business into my business account?')\n",
            "\n",
            "('8', {'566392': 1, '65404': 1})\n"
          ]
        }
      ],
      "source": [
        "# print the first item in the corpus\n",
        "print(list(corpus.items())[0])\n",
        "print()\n",
        "# print the first item in the queries\n",
        "print(list(queries.items())[0])\n",
        "print()\n",
        "# print the first item in the qrels\n",
        "print(list(qrels.items())[0])"
      ]
    },
    {
      "cell_type": "code",
      "execution_count": null,
      "metadata": {
        "id": "oNAHyJTss4Fa"
      },
      "outputs": [],
      "source": [
        "fiqa_corpus = \"fiqa_corpus\""
      ]
    },
    {
      "cell_type": "code",
      "execution_count": null,
      "metadata": {
        "colab": {
          "base_uri": "https://localhost:8080/"
        },
        "id": "jO8li-tKtC4n",
        "outputId": "388ca10a-0006-469c-c9cb-4c7176f8e51f"
      },
      "outputs": [
        {
          "name": "stdout",
          "output_type": "stream",
          "text": [
            "Ingested 57638 documents into fiqa_corpus\n"
          ]
        }
      ],
      "source": [
        "ingest_data(db, corpus=corpus, corpus_collection_name=fiqa_corpus)"
      ]
    },
    {
      "cell_type": "code",
      "execution_count": null,
      "metadata": {
        "colab": {
          "base_uri": "https://localhost:8080/"
        },
        "id": "CnMizg7duzOz",
        "outputId": "fe4ab2b1-8863-4502-a364-a78945bc3600"
      },
      "outputs": [
        {
          "name": "stdout",
          "output_type": "stream",
          "text": [
            "Error creating new vector search index 'vector_index': Duplicate Index, full error: {'ok': 0.0, 'errmsg': 'Duplicate Index', 'code': 68, 'codeName': 'IndexAlreadyExists', '$clusterTime': {'clusterTime': Timestamp(1726862196, 68), 'signature': {'hash': b'\\x05\\xa1\\x8c\\x05\\xd4sg\\xe7\\xfe\\x0f\\xdcT\\x12\\x89_=B\\xfd\\x89=', 'keyId': 7353740577831124994}}, 'operationTime': Timestamp(1726862196, 68)}\n"
          ]
        }
      ],
      "source": [
        "setup_vector_search_index_with_filter(\n",
        "    db[fiqa_corpus], corpus_vector_search_index_definition\n",
        ")"
      ]
    },
    {
      "cell_type": "code",
      "execution_count": null,
      "metadata": {
        "colab": {
          "base_uri": "https://localhost:8080/",
          "height": 53
        },
        "id": "8Txdj2TLAWiN",
        "outputId": "d1752994-03ce-4bb3-d977-f00af05df941"
      },
      "outputs": [
        {
          "name": "stdout",
          "output_type": "stream",
          "text": [
            "Search index 'text_search_index' created successfully\n"
          ]
        },
        {
          "data": {
            "application/vnd.google.colaboratory.intrinsic+json": {
              "type": "string"
            },
            "text/plain": [
              "'text_search_index'"
            ]
          },
          "execution_count": 51,
          "metadata": {},
          "output_type": "execute_result"
        }
      ],
      "source": [
        "corpus_text_index_definition = {\n",
        "    \"mappings\": {\"dynamic\": True, \"fields\": {\"text\": {\"type\": \"string\"}}}\n",
        "}\n",
        "\n",
        "create_collection_search_index(\n",
        "    db[fiqa_corpus], corpus_text_index_definition, TEXT_SEARCH_INDEX\n",
        ")"
      ]
    },
    {
      "cell_type": "code",
      "execution_count": null,
      "metadata": {
        "colab": {
          "base_uri": "https://localhost:8080/"
        },
        "id": "44aXUJtJuqA_",
        "outputId": "f6ed0498-1875-4eb5-b870-331e14049a86"
      },
      "outputs": [
        {
          "name": "stdout",
          "output_type": "stream",
          "text": [
            "Checking for documents without embeddings...\n"
          ]
        },
        {
          "name": "stderr",
          "output_type": "stream",
          "text": [
            "Identifying documents to embed: 100%|██████████| 57638/57638 [00:00<00:00, 133048.67it/s]\n"
          ]
        },
        {
          "name": "stdout",
          "output_type": "stream",
          "text": [
            "Found 56487 documents without embeddings out of 57638 total documents.\n",
            "Generating embeddings for documents without them...\n"
          ]
        },
        {
          "name": "stderr",
          "output_type": "stream",
          "text": [
            "Embedding documents: 100%|██████████| 56487/56487 [5:25:18<00:00,  2.89it/s]\n"
          ]
        },
        {
          "name": "stdout",
          "output_type": "stream",
          "text": [
            "New embeddings generated and stored successfully.\n",
            "Total documents with embeddings: 57638\n"
          ]
        }
      ],
      "source": [
        "generate_and_store_embeddings(corpus, db, fiqa_corpus)"
      ]
    },
    {
      "cell_type": "code",
      "execution_count": null,
      "metadata": {
        "id": "p2xuo3K-vkyc"
      },
      "outputs": [],
      "source": [
        "# Define information retrieval mechanisims\n",
        "\n",
        "lexical_search = MongoDBSearch(db[fiqa_corpus], \"text_search_index\")\n",
        "\n",
        "vector_store = MongoDBAtlasVectorSearch.from_connection_string(\n",
        "    connection_string=MONGO_URI,\n",
        "    namespace=f\"{DB_NAME}.{fiqa_corpus}\",\n",
        "    embedding=embedding_model,\n",
        "    index_name=\"vector_index\",\n",
        "    text_key=\"text\",\n",
        ")\n",
        "\n",
        "vector_search = MongoDBVectorSearch(vector_store, embedding_model)\n",
        "\n",
        "hybrid_search = MongoDBHybridSearch(vector_store, \"text_search_index\")"
      ]
    },
    {
      "cell_type": "code",
      "execution_count": null,
      "metadata": {
        "id": "po0V50FUv5MJ"
      },
      "outputs": [],
      "source": [
        "def evaluate_search_method(search_method, method_name):\n",
        "    retriever = EvaluateRetrieval(search_method, score_function=\"dot\")\n",
        "    results = retriever.retrieve(corpus, queries)\n",
        "    metrics = retriever.evaluate(qrels, results, retriever.k_values)\n",
        "\n",
        "    print(\"Sample of retrieved results:\")\n",
        "    for query_id, doc_scores in list(results.items())[:5]:\n",
        "        print(f\"Query ID: {query_id}\")\n",
        "        print(f\"Query text: {queries[query_id]}\")\n",
        "        print(\"Top 3 retrieved documents:\")\n",
        "        for doc_id, score in list(doc_scores.items())[:3]:\n",
        "            print(f\"  Doc ID: {doc_id}, Score: {score}\")\n",
        "        print()\n",
        "\n",
        "    print(f\"\\nResults for {method_name}:\")\n",
        "    ndcg, _map, recall, precision = metrics\n",
        "    for metric, values in zip(\n",
        "        [\"NDCG\", \"MAP\", \"Recall\", \"Precision\"], [ndcg, _map, recall, precision]\n",
        "    ):\n",
        "        print(f\"{metric}:\")\n",
        "        for k, v in values.items():\n",
        "            print(f\"  {k}: {v:.4f}\")\n",
        "\n",
        "    # Store results in MongoDB (assuming you've defined this function)\n",
        "    store_evaluation_results(\n",
        "        db,\n",
        "        method_name,\n",
        "        {\"ndcg\": ndcg, \"map\": _map, \"recall\": recall, \"precision\": precision},\n",
        "        {\"dataset\": \"FiQA\"},\n",
        "    )\n",
        "\n",
        "    return [ndcg, _map, recall, precision]"
      ]
    },
    {
      "cell_type": "code",
      "execution_count": null,
      "metadata": {
        "colab": {
          "base_uri": "https://localhost:8080/"
        },
        "id": "LOGPKVU5v6iZ",
        "outputId": "121270e1-0477-4e7e-9d00-962fc52f1b80"
      },
      "outputs": [
        {
          "name": "stdout",
          "output_type": "stream",
          "text": [
            "Sample of retrieved results:\n",
            "Query ID: 8\n",
            "Query text: How to deposit a cheque issued to an associate in my business into my business account?\n",
            "Top 3 retrieved documents:\n",
            "  Doc ID: 65404, Score: 15.907803535461426\n",
            "  Doc ID: 318108, Score: 12.162151336669922\n",
            "  Doc ID: 508754, Score: 11.79505443572998\n",
            "\n",
            "Query ID: 15\n",
            "Query text: Can I send a money order from USPS as a business?\n",
            "Top 3 retrieved documents:\n",
            "  Doc ID: 420483, Score: 10.010725021362305\n",
            "  Doc ID: 230003, Score: 9.536849021911621\n",
            "  Doc ID: 224000, Score: 8.561530113220215\n",
            "\n",
            "Query ID: 18\n",
            "Query text: 1 EIN doing business under multiple business names\n",
            "Top 3 retrieved documents:\n",
            "  Doc ID: 377152, Score: 10.069451332092285\n",
            "  Doc ID: 348480, Score: 8.927388191223145\n",
            "  Doc ID: 203820, Score: 8.656691551208496\n",
            "\n",
            "Query ID: 26\n",
            "Query text: Applying for and receiving business credit\n",
            "Top 3 retrieved documents:\n",
            "  Doc ID: 176284, Score: 7.173275947570801\n",
            "  Doc ID: 338406, Score: 6.504555702209473\n",
            "  Doc ID: 227910, Score: 6.3861494064331055\n",
            "\n",
            "Query ID: 34\n",
            "Query text: 401k Transfer After Business Closure\n",
            "Top 3 retrieved documents:\n",
            "  Doc ID: 231449, Score: 6.630157470703125\n",
            "  Doc ID: 494783, Score: 6.015130996704102\n",
            "  Doc ID: 232049, Score: 5.856289863586426\n",
            "\n",
            "\n",
            "Results for Lexical Search:\n",
            "NDCG:\n",
            "  NDCG@1: 0.2253\n",
            "  NDCG@3: 0.2041\n",
            "  NDCG@5: 0.2144\n",
            "  NDCG@10: 0.2389\n",
            "  NDCG@100: 0.2933\n",
            "  NDCG@1000: 0.3287\n",
            "MAP:\n",
            "  MAP@1: 0.1104\n",
            "  MAP@3: 0.1543\n",
            "  MAP@5: 0.1659\n",
            "  MAP@10: 0.1791\n",
            "  MAP@100: 0.1920\n",
            "  MAP@1000: 0.1936\n",
            "Recall:\n",
            "  Recall@1: 0.1104\n",
            "  Recall@3: 0.1895\n",
            "  Recall@5: 0.2303\n",
            "  Recall@10: 0.3004\n",
            "  Recall@100: 0.5061\n",
            "  Recall@1000: 0.7272\n",
            "Precision:\n",
            "  P@1: 0.2253\n",
            "  P@3: 0.1327\n",
            "  P@5: 0.0988\n",
            "  P@10: 0.0665\n",
            "  P@100: 0.0121\n",
            "  P@1000: 0.0018\n",
            "Evaluation results for Lexical Search stored with ID: 66ee1142726b94bb9861083a\n",
            "Sample of retrieved results:\n",
            "Query ID: 8\n",
            "Query text: How to deposit a cheque issued to an associate in my business into my business account?\n",
            "Top 3 retrieved documents:\n",
            "  Doc ID: 65404, Score: 0.8552490472793579\n",
            "  Doc ID: 188893, Score: 0.8239511251449585\n",
            "  Doc ID: 590102, Score: 0.8056215643882751\n",
            "\n",
            "Query ID: 15\n",
            "Query text: Can I send a money order from USPS as a business?\n",
            "Top 3 retrieved documents:\n",
            "  Doc ID: 325273, Score: 0.8300462961196899\n",
            "  Doc ID: 284528, Score: 0.8076863884925842\n",
            "  Doc ID: 224000, Score: 0.8001105785369873\n",
            "\n",
            "Query ID: 18\n",
            "Query text: 1 EIN doing business under multiple business names\n",
            "Top 3 retrieved documents:\n",
            "  Doc ID: 377152, Score: 0.8017109632492065\n",
            "  Doc ID: 78486, Score: 0.786155104637146\n",
            "  Doc ID: 431685, Score: 0.7809617519378662\n",
            "\n",
            "Query ID: 26\n",
            "Query text: Applying for and receiving business credit\n",
            "Top 3 retrieved documents:\n",
            "  Doc ID: 500755, Score: 0.8401659727096558\n",
            "  Doc ID: 274832, Score: 0.8234261870384216\n",
            "  Doc ID: 336468, Score: 0.8188062906265259\n",
            "\n",
            "Query ID: 34\n",
            "Query text: 401k Transfer After Business Closure\n",
            "Top 3 retrieved documents:\n",
            "  Doc ID: 492659, Score: 0.8165256977081299\n",
            "  Doc ID: 458917, Score: 0.8110530376434326\n",
            "  Doc ID: 554739, Score: 0.8083138465881348\n",
            "\n",
            "\n",
            "Results for Vector Search:\n",
            "NDCG:\n",
            "  NDCG@1: 0.3858\n",
            "  NDCG@3: 0.3553\n",
            "  NDCG@5: 0.3648\n",
            "  NDCG@10: 0.3942\n",
            "  NDCG@100: 0.4652\n",
            "  NDCG@1000: 0.4963\n",
            "MAP:\n",
            "  MAP@1: 0.2005\n",
            "  MAP@3: 0.2774\n",
            "  MAP@5: 0.2978\n",
            "  MAP@10: 0.3182\n",
            "  MAP@100: 0.3371\n",
            "  MAP@1000: 0.3388\n",
            "Recall:\n",
            "  Recall@1: 0.2005\n",
            "  Recall@3: 0.3216\n",
            "  Recall@5: 0.3751\n",
            "  Recall@10: 0.4653\n",
            "  Recall@100: 0.7304\n",
            "  Recall@1000: 0.9186\n",
            "Precision:\n",
            "  P@1: 0.3858\n",
            "  P@3: 0.2325\n",
            "  P@5: 0.1688\n",
            "  P@10: 0.1093\n",
            "  P@100: 0.0184\n",
            "  P@1000: 0.0024\n",
            "Evaluation results for Vector Search stored with ID: 66ee12e0726b94bb9861083b\n",
            "Sample of retrieved results:\n",
            "Query ID: 8\n",
            "Query text: How to deposit a cheque issued to an associate in my business into my business account?\n",
            "Top 3 retrieved documents:\n",
            "  Doc ID: 65404, Score: 1.0\n",
            "  Doc ID: 590102, Score: 0.999\n",
            "  Doc ID: 261856, Score: 0.998\n",
            "\n",
            "Query ID: 15\n",
            "Query text: Can I send a money order from USPS as a business?\n",
            "Top 3 retrieved documents:\n",
            "  Doc ID: 224000, Score: 1.0\n",
            "  Doc ID: 325273, Score: 0.999\n",
            "  Doc ID: 28974, Score: 0.998\n",
            "\n",
            "Query ID: 18\n",
            "Query text: 1 EIN doing business under multiple business names\n",
            "Top 3 retrieved documents:\n",
            "  Doc ID: 377152, Score: 1.0\n",
            "  Doc ID: 431685, Score: 0.999\n",
            "  Doc ID: 203820, Score: 0.998\n",
            "\n",
            "Query ID: 26\n",
            "Query text: Applying for and receiving business credit\n",
            "Top 3 retrieved documents:\n",
            "  Doc ID: 176284, Score: 1.0\n",
            "  Doc ID: 274832, Score: 0.999\n",
            "  Doc ID: 336468, Score: 0.998\n",
            "\n",
            "Query ID: 34\n",
            "Query text: 401k Transfer After Business Closure\n",
            "Top 3 retrieved documents:\n",
            "  Doc ID: 122114, Score: 1.0\n",
            "  Doc ID: 232049, Score: 0.999\n",
            "  Doc ID: 174335, Score: 0.998\n",
            "\n",
            "\n",
            "Results for Hybrid Search:\n",
            "NDCG:\n",
            "  NDCG@1: 0.3518\n",
            "  NDCG@3: 0.3203\n",
            "  NDCG@5: 0.3386\n",
            "  NDCG@10: 0.3626\n",
            "  NDCG@100: 0.4363\n",
            "  NDCG@1000: 0.4698\n",
            "MAP:\n",
            "  MAP@1: 0.1782\n",
            "  MAP@3: 0.2458\n",
            "  MAP@5: 0.2694\n",
            "  MAP@10: 0.2859\n",
            "  MAP@100: 0.3055\n",
            "  MAP@1000: 0.3075\n",
            "Recall:\n",
            "  Recall@1: 0.1782\n",
            "  Recall@3: 0.2918\n",
            "  Recall@5: 0.3595\n",
            "  Recall@10: 0.4320\n",
            "  Recall@100: 0.7044\n",
            "  Recall@1000: 0.9081\n",
            "Precision:\n",
            "  P@1: 0.3518\n",
            "  P@3: 0.2099\n",
            "  P@5: 0.1599\n",
            "  P@10: 0.1009\n",
            "  P@100: 0.0176\n",
            "  P@1000: 0.0023\n",
            "Evaluation results for Hybrid Search stored with ID: 66ee14d9726b94bb9861083c\n"
          ]
        }
      ],
      "source": [
        "# Run evaluations\n",
        "lexical_search_metric_dicts = evaluate_search_method(lexical_search, \"Lexical Search\")\n",
        "vector_search_metric_dicts = evaluate_search_method(vector_search, \"Vector Search\")\n",
        "hybrid_search_metric_dicts = evaluate_search_method(hybrid_search, \"Hybrid Search\")"
      ]
    },
    {
      "cell_type": "code",
      "execution_count": null,
      "metadata": {
        "colab": {
          "base_uri": "https://localhost:8080/",
          "height": 1000
        },
        "id": "UbteGcX8wLPz",
        "outputId": "43432477-f8af-4bb9-c443-d247b43de06d"
      },
      "outputs": [
        {
          "data": {
            "image/png": "[encoded data removed]",
            "text/plain": [
              "<Figure size 2000x1600 with 4 Axes>"
            ]
          },
          "metadata": {},
          "output_type": "display_data"
        }
      ],
      "source": [
        "plot_search_method_comparison(\n",
        "    lexical_search_metric_dicts,\n",
        "    vector_search_metric_dicts,\n",
        "    hybrid_search_metric_dicts,\n",
        "    metric_names,\n",
        ")"
      ]
    }
  ],
  "metadata": {
    "colab": {
      "provenance": [],
      "toc_visible": true
    },
    "kernelspec": {
      "display_name": "Python 3",
      "name": "python3"
    },
    "language_info": {
      "name": "python"
    },
    "widgets": {
      "application/vnd.jupyter.widget-state+json": {
        "00135b96c1e34abf94352e5d14dfbfc2": {
          "model_module": "@jupyter-widgets/base",
          "model_module_version": "1.2.0",
          "model_name": "LayoutModel",
          "state": {
            "_model_module": "@jupyter-widgets/base",
            "_model_module_version": "1.2.0",
            "_model_name": "LayoutModel",
            "_view_count": null,
            "_view_module": "@jupyter-widgets/base",
            "_view_module_version": "1.2.0",
            "_view_name": "LayoutView",
            "align_content": null,
            "align_items": null,
            "align_self": null,
            "border": null,
            "bottom": null,
            "display": null,
            "flex": null,
            "flex_flow": null,
            "grid_area": null,
            "grid_auto_columns": null,
            "grid_auto_flow": null,
            "grid_auto_rows": null,
            "grid_column": null,
            "grid_gap": null,
            "grid_row": null,
            "grid_template_areas": null,
            "grid_template_columns": null,
            "grid_template_rows": null,
            "height": null,
            "justify_content": null,
            "justify_items": null,
            "left": null,
            "margin": null,
            "max_height": null,
            "max_width": null,
            "min_height": null,
            "min_width": null,
            "object_fit": null,
            "object_position": null,
            "order": null,
            "overflow": null,
            "overflow_x": null,
            "overflow_y": null,
            "padding": null,
            "right": null,
            "top": null,
            "visibility": null,
            "width": null
          }
        },
        "0b639c296a6e42e883957f4053e08881": {
          "model_module": "@jupyter-widgets/controls",
          "model_module_version": "1.5.0",
          "model_name": "DescriptionStyleModel",
          "state": {
            "_model_module": "@jupyter-widgets/controls",
            "_model_module_version": "1.5.0",
            "_model_name": "DescriptionStyleModel",
            "_view_count": null,
            "_view_module": "@jupyter-widgets/base",
            "_view_module_version": "1.2.0",
            "_view_name": "StyleView",
            "description_width": ""
          }
        },
        "13eec1cf9f3b4e27995eb7735bbf43aa": {
          "model_module": "@jupyter-widgets/base",
          "model_module_version": "1.2.0",
          "model_name": "LayoutModel",
          "state": {
            "_model_module": "@jupyter-widgets/base",
            "_model_module_version": "1.2.0",
            "_model_name": "LayoutModel",
            "_view_count": null,
            "_view_module": "@jupyter-widgets/base",
            "_view_module_version": "1.2.0",
            "_view_name": "LayoutView",
            "align_content": null,
            "align_items": null,
            "align_self": null,
            "border": null,
            "bottom": null,
            "display": null,
            "flex": null,
            "flex_flow": null,
            "grid_area": null,
            "grid_auto_columns": null,
            "grid_auto_flow": null,
            "grid_auto_rows": null,
            "grid_column": null,
            "grid_gap": null,
            "grid_row": null,
            "grid_template_areas": null,
            "grid_template_columns": null,
            "grid_template_rows": null,
            "height": null,
            "justify_content": null,
            "justify_items": null,
            "left": null,
            "margin": null,
            "max_height": null,
            "max_width": null,
            "min_height": null,
            "min_width": null,
            "object_fit": null,
            "object_position": null,
            "order": null,
            "overflow": null,
            "overflow_x": null,
            "overflow_y": null,
            "padding": null,
            "right": null,
            "top": null,
            "visibility": null,
            "width": null
          }
        },
        "148567c981e74f1a9b840fb5463f6c1f": {
          "model_module": "@jupyter-widgets/controls",
          "model_module_version": "1.5.0",
          "model_name": "ProgressStyleModel",
          "state": {
            "_model_module": "@jupyter-widgets/controls",
            "_model_module_version": "1.5.0",
            "_model_name": "ProgressStyleModel",
            "_view_count": null,
            "_view_module": "@jupyter-widgets/base",
            "_view_module_version": "1.2.0",
            "_view_name": "StyleView",
            "bar_color": null,
            "description_width": ""
          }
        },
        "2001c71b7c0649ad94991dc00c2c1c2b": {
          "model_module": "@jupyter-widgets/base",
          "model_module_version": "1.2.0",
          "model_name": "LayoutModel",
          "state": {
            "_model_module": "@jupyter-widgets/base",
            "_model_module_version": "1.2.0",
            "_model_name": "LayoutModel",
            "_view_count": null,
            "_view_module": "@jupyter-widgets/base",
            "_view_module_version": "1.2.0",
            "_view_name": "LayoutView",
            "align_content": null,
            "align_items": null,
            "align_self": null,
            "border": null,
            "bottom": null,
            "display": null,
            "flex": null,
            "flex_flow": null,
            "grid_area": null,
            "grid_auto_columns": null,
            "grid_auto_flow": null,
            "grid_auto_rows": null,
            "grid_column": null,
            "grid_gap": null,
            "grid_row": null,
            "grid_template_areas": null,
            "grid_template_columns": null,
            "grid_template_rows": null,
            "height": null,
            "justify_content": null,
            "justify_items": null,
            "left": null,
            "margin": null,
            "max_height": null,
            "max_width": null,
            "min_height": null,
            "min_width": null,
            "object_fit": null,
            "object_position": null,
            "order": null,
            "overflow": null,
            "overflow_x": null,
            "overflow_y": null,
            "padding": null,
            "right": null,
            "top": null,
            "visibility": null,
            "width": null
          }
        },
        "30ccab778b894d8c86359fb850ee76f2": {
          "model_module": "@jupyter-widgets/controls",
          "model_module_version": "1.5.0",
          "model_name": "FloatProgressModel",
          "state": {
            "_dom_classes": [],
            "_model_module": "@jupyter-widgets/controls",
            "_model_module_version": "1.5.0",
            "_model_name": "FloatProgressModel",
            "_view_count": null,
            "_view_module": "@jupyter-widgets/controls",
            "_view_module_version": "1.5.0",
            "_view_name": "ProgressView",
            "bar_style": "success",
            "description": "",
            "description_tooltip": null,
            "layout": "IPY_MODEL_b7df766690574c09b4942e0d27151171",
            "max": 5183,
            "min": 0,
            "orientation": "horizontal",
            "style": "IPY_MODEL_e65a397cb2e44371886c3f51362a9bc6",
            "value": 5183
          }
        },
        "33ef6c005a52428cb00a9e7ccb0e6b2c": {
          "model_module": "@jupyter-widgets/base",
          "model_module_version": "1.2.0",
          "model_name": "LayoutModel",
          "state": {
            "_model_module": "@jupyter-widgets/base",
            "_model_module_version": "1.2.0",
            "_model_name": "LayoutModel",
            "_view_count": null,
            "_view_module": "@jupyter-widgets/base",
            "_view_module_version": "1.2.0",
            "_view_name": "LayoutView",
            "align_content": null,
            "align_items": null,
            "align_self": null,
            "border": null,
            "bottom": null,
            "display": null,
            "flex": null,
            "flex_flow": null,
            "grid_area": null,
            "grid_auto_columns": null,
            "grid_auto_flow": null,
            "grid_auto_rows": null,
            "grid_column": null,
            "grid_gap": null,
            "grid_row": null,
            "grid_template_areas": null,
            "grid_template_columns": null,
            "grid_template_rows": null,
            "height": null,
            "justify_content": null,
            "justify_items": null,
            "left": null,
            "margin": null,
            "max_height": null,
            "max_width": null,
            "min_height": null,
            "min_width": null,
            "object_fit": null,
            "object_position": null,
            "order": null,
            "overflow": null,
            "overflow_x": null,
            "overflow_y": null,
            "padding": null,
            "right": null,
            "top": null,
            "visibility": null,
            "width": null
          }
        },
        "350c3f298a7b414c8ab6ea4492fb98c3": {
          "model_module": "@jupyter-widgets/base",
          "model_module_version": "1.2.0",
          "model_name": "LayoutModel",
          "state": {
            "_model_module": "@jupyter-widgets/base",
            "_model_module_version": "1.2.0",
            "_model_name": "LayoutModel",
            "_view_count": null,
            "_view_module": "@jupyter-widgets/base",
            "_view_module_version": "1.2.0",
            "_view_name": "LayoutView",
            "align_content": null,
            "align_items": null,
            "align_self": null,
            "border": null,
            "bottom": null,
            "display": null,
            "flex": null,
            "flex_flow": null,
            "grid_area": null,
            "grid_auto_columns": null,
            "grid_auto_flow": null,
            "grid_auto_rows": null,
            "grid_column": null,
            "grid_gap": null,
            "grid_row": null,
            "grid_template_areas": null,
            "grid_template_columns": null,
            "grid_template_rows": null,
            "height": null,
            "justify_content": null,
            "justify_items": null,
            "left": null,
            "margin": null,
            "max_height": null,
            "max_width": null,
            "min_height": null,
            "min_width": null,
            "object_fit": null,
            "object_position": null,
            "order": null,
            "overflow": null,
            "overflow_x": null,
            "overflow_y": null,
            "padding": null,
            "right": null,
            "top": null,
            "visibility": null,
            "width": null
          }
        },
        "35b668058eca435a86829f32ca421859": {
          "model_module": "@jupyter-widgets/controls",
          "model_module_version": "1.5.0",
          "model_name": "FloatProgressModel",
          "state": {
            "_dom_classes": [],
            "_model_module": "@jupyter-widgets/controls",
            "_model_module_version": "1.5.0",
            "_model_name": "FloatProgressModel",
            "_view_count": null,
            "_view_module": "@jupyter-widgets/controls",
            "_view_module_version": "1.5.0",
            "_view_name": "ProgressView",
            "bar_style": "success",
            "description": "",
            "description_tooltip": null,
            "layout": "IPY_MODEL_33ef6c005a52428cb00a9e7ccb0e6b2c",
            "max": 2816079,
            "min": 0,
            "orientation": "horizontal",
            "style": "IPY_MODEL_b8c4d550a4fb475d8a66c1e5deefb1f2",
            "value": 2816079
          }
        },
        "4950b546681b4c8cbec0a9c3acf08c37": {
          "model_module": "@jupyter-widgets/controls",
          "model_module_version": "1.5.0",
          "model_name": "HTMLModel",
          "state": {
            "_dom_classes": [],
            "_model_module": "@jupyter-widgets/controls",
            "_model_module_version": "1.5.0",
            "_model_name": "HTMLModel",
            "_view_count": null,
            "_view_module": "@jupyter-widgets/controls",
            "_view_module_version": "1.5.0",
            "_view_name": "HTMLView",
            "description": "",
            "description_tooltip": null,
            "layout": "IPY_MODEL_350c3f298a7b414c8ab6ea4492fb98c3",
            "placeholder": "​",
            "style": "IPY_MODEL_6275b672934d4cc383cc4c18f3dfe4b7",
            "value": "100%"
          }
        },
        "4cbd2428f91c40d092e1c3bc80171123": {
          "model_module": "@jupyter-widgets/controls",
          "model_module_version": "1.5.0",
          "model_name": "FloatProgressModel",
          "state": {
            "_dom_classes": [],
            "_model_module": "@jupyter-widgets/controls",
            "_model_module_version": "1.5.0",
            "_model_name": "FloatProgressModel",
            "_view_count": null,
            "_view_module": "@jupyter-widgets/controls",
            "_view_module_version": "1.5.0",
            "_view_name": "ProgressView",
            "bar_style": "success",
            "description": "",
            "description_tooltip": null,
            "layout": "IPY_MODEL_fbf3da22c9954c3ab5995fff682084ba",
            "max": 57638,
            "min": 0,
            "orientation": "horizontal",
            "style": "IPY_MODEL_6a61062dbe92469889f767985c4f5b59",
            "value": 57638
          }
        },
        "51c3a472109243c681898fb32aeda7d7": {
          "model_module": "@jupyter-widgets/controls",
          "model_module_version": "1.5.0",
          "model_name": "HBoxModel",
          "state": {
            "_dom_classes": [],
            "_model_module": "@jupyter-widgets/controls",
            "_model_module_version": "1.5.0",
            "_model_name": "HBoxModel",
            "_view_count": null,
            "_view_module": "@jupyter-widgets/controls",
            "_view_module_version": "1.5.0",
            "_view_name": "HBoxView",
            "box_style": "",
            "children": [
              "IPY_MODEL_f22b82b8010a4a79b0b42908966cc89e",
              "IPY_MODEL_35b668058eca435a86829f32ca421859",
              "IPY_MODEL_84d25add023044d68f383b81dacaf462"
            ],
            "layout": "IPY_MODEL_c3375ea1a272481babcaece7f79b428e"
          }
        },
        "5b4d7df8ac4e4a788d7684f47f1d1b76": {
          "model_module": "@jupyter-widgets/controls",
          "model_module_version": "1.5.0",
          "model_name": "DescriptionStyleModel",
          "state": {
            "_model_module": "@jupyter-widgets/controls",
            "_model_module_version": "1.5.0",
            "_model_name": "DescriptionStyleModel",
            "_view_count": null,
            "_view_module": "@jupyter-widgets/base",
            "_view_module_version": "1.2.0",
            "_view_name": "StyleView",
            "description_width": ""
          }
        },
        "5f822791ad0243d99cffb09f57b6257d": {
          "model_module": "@jupyter-widgets/controls",
          "model_module_version": "1.5.0",
          "model_name": "HTMLModel",
          "state": {
            "_dom_classes": [],
            "_model_module": "@jupyter-widgets/controls",
            "_model_module_version": "1.5.0",
            "_model_name": "HTMLModel",
            "_view_count": null,
            "_view_module": "@jupyter-widgets/controls",
            "_view_module_version": "1.5.0",
            "_view_name": "HTMLView",
            "description": "",
            "description_tooltip": null,
            "layout": "IPY_MODEL_13eec1cf9f3b4e27995eb7735bbf43aa",
            "placeholder": "​",
            "style": "IPY_MODEL_8bda824cef9c493b83704d511554954c",
            "value": "datasets/fiqa.zip: 100%"
          }
        },
        "6275b672934d4cc383cc4c18f3dfe4b7": {
          "model_module": "@jupyter-widgets/controls",
          "model_module_version": "1.5.0",
          "model_name": "DescriptionStyleModel",
          "state": {
            "_model_module": "@jupyter-widgets/controls",
            "_model_module_version": "1.5.0",
            "_model_name": "DescriptionStyleModel",
            "_view_count": null,
            "_view_module": "@jupyter-widgets/base",
            "_view_module_version": "1.2.0",
            "_view_name": "StyleView",
            "description_width": ""
          }
        },
        "6770f34c4be644cda13221e47d00ca28": {
          "model_module": "@jupyter-widgets/base",
          "model_module_version": "1.2.0",
          "model_name": "LayoutModel",
          "state": {
            "_model_module": "@jupyter-widgets/base",
            "_model_module_version": "1.2.0",
            "_model_name": "LayoutModel",
            "_view_count": null,
            "_view_module": "@jupyter-widgets/base",
            "_view_module_version": "1.2.0",
            "_view_name": "LayoutView",
            "align_content": null,
            "align_items": null,
            "align_self": null,
            "border": null,
            "bottom": null,
            "display": null,
            "flex": null,
            "flex_flow": null,
            "grid_area": null,
            "grid_auto_columns": null,
            "grid_auto_flow": null,
            "grid_auto_rows": null,
            "grid_column": null,
            "grid_gap": null,
            "grid_row": null,
            "grid_template_areas": null,
            "grid_template_columns": null,
            "grid_template_rows": null,
            "height": null,
            "justify_content": null,
            "justify_items": null,
            "left": null,
            "margin": null,
            "max_height": null,
            "max_width": null,
            "min_height": null,
            "min_width": null,
            "object_fit": null,
            "object_position": null,
            "order": null,
            "overflow": null,
            "overflow_x": null,
            "overflow_y": null,
            "padding": null,
            "right": null,
            "top": null,
            "visibility": null,
            "width": null
          }
        },
        "6a3ffc1cb8764532b215d51cae6e44be": {
          "model_module": "@jupyter-widgets/base",
          "model_module_version": "1.2.0",
          "model_name": "LayoutModel",
          "state": {
            "_model_module": "@jupyter-widgets/base",
            "_model_module_version": "1.2.0",
            "_model_name": "LayoutModel",
            "_view_count": null,
            "_view_module": "@jupyter-widgets/base",
            "_view_module_version": "1.2.0",
            "_view_name": "LayoutView",
            "align_content": null,
            "align_items": null,
            "align_self": null,
            "border": null,
            "bottom": null,
            "display": null,
            "flex": null,
            "flex_flow": null,
            "grid_area": null,
            "grid_auto_columns": null,
            "grid_auto_flow": null,
            "grid_auto_rows": null,
            "grid_column": null,
            "grid_gap": null,
            "grid_row": null,
            "grid_template_areas": null,
            "grid_template_columns": null,
            "grid_template_rows": null,
            "height": null,
            "justify_content": null,
            "justify_items": null,
            "left": null,
            "margin": null,
            "max_height": null,
            "max_width": null,
            "min_height": null,
            "min_width": null,
            "object_fit": null,
            "object_position": null,
            "order": null,
            "overflow": null,
            "overflow_x": null,
            "overflow_y": null,
            "padding": null,
            "right": null,
            "top": null,
            "visibility": null,
            "width": null
          }
        },
        "6a61062dbe92469889f767985c4f5b59": {
          "model_module": "@jupyter-widgets/controls",
          "model_module_version": "1.5.0",
          "model_name": "ProgressStyleModel",
          "state": {
            "_model_module": "@jupyter-widgets/controls",
            "_model_module_version": "1.5.0",
            "_model_name": "ProgressStyleModel",
            "_view_count": null,
            "_view_module": "@jupyter-widgets/base",
            "_view_module_version": "1.2.0",
            "_view_name": "StyleView",
            "bar_color": null,
            "description_width": ""
          }
        },
        "72b0800f217f4559aea1c0db64d6594c": {
          "model_module": "@jupyter-widgets/controls",
          "model_module_version": "1.5.0",
          "model_name": "HTMLModel",
          "state": {
            "_dom_classes": [],
            "_model_module": "@jupyter-widgets/controls",
            "_model_module_version": "1.5.0",
            "_model_name": "HTMLModel",
            "_view_count": null,
            "_view_module": "@jupyter-widgets/controls",
            "_view_module_version": "1.5.0",
            "_view_name": "HTMLView",
            "description": "",
            "description_tooltip": null,
            "layout": "IPY_MODEL_e71944737601445a9e8a1f39fe32d445",
            "placeholder": "​",
            "style": "IPY_MODEL_edd9d4c3787f44e2a6d7fe43dec354f2",
            "value": " 57638/57638 [00:00&lt;00:00, 91199.90it/s]"
          }
        },
        "7350acfbe3bd4e1cb4ff49290a6cd58f": {
          "model_module": "@jupyter-widgets/base",
          "model_module_version": "1.2.0",
          "model_name": "LayoutModel",
          "state": {
            "_model_module": "@jupyter-widgets/base",
            "_model_module_version": "1.2.0",
            "_model_name": "LayoutModel",
            "_view_count": null,
            "_view_module": "@jupyter-widgets/base",
            "_view_module_version": "1.2.0",
            "_view_name": "LayoutView",
            "align_content": null,
            "align_items": null,
            "align_self": null,
            "border": null,
            "bottom": null,
            "display": null,
            "flex": null,
            "flex_flow": null,
            "grid_area": null,
            "grid_auto_columns": null,
            "grid_auto_flow": null,
            "grid_auto_rows": null,
            "grid_column": null,
            "grid_gap": null,
            "grid_row": null,
            "grid_template_areas": null,
            "grid_template_columns": null,
            "grid_template_rows": null,
            "height": null,
            "justify_content": null,
            "justify_items": null,
            "left": null,
            "margin": null,
            "max_height": null,
            "max_width": null,
            "min_height": null,
            "min_width": null,
            "object_fit": null,
            "object_position": null,
            "order": null,
            "overflow": null,
            "overflow_x": null,
            "overflow_y": null,
            "padding": null,
            "right": null,
            "top": null,
            "visibility": null,
            "width": null
          }
        },
        "73cddc3fa8bb4495b335018fae3b063e": {
          "model_module": "@jupyter-widgets/controls",
          "model_module_version": "1.5.0",
          "model_name": "HBoxModel",
          "state": {
            "_dom_classes": [],
            "_model_module": "@jupyter-widgets/controls",
            "_model_module_version": "1.5.0",
            "_model_name": "HBoxModel",
            "_view_count": null,
            "_view_module": "@jupyter-widgets/controls",
            "_view_module_version": "1.5.0",
            "_view_name": "HBoxView",
            "box_style": "",
            "children": [
              "IPY_MODEL_4950b546681b4c8cbec0a9c3acf08c37",
              "IPY_MODEL_30ccab778b894d8c86359fb850ee76f2",
              "IPY_MODEL_c25ebc49169a4fccae65c84ba71b50c7"
            ],
            "layout": "IPY_MODEL_00135b96c1e34abf94352e5d14dfbfc2"
          }
        },
        "84d25add023044d68f383b81dacaf462": {
          "model_module": "@jupyter-widgets/controls",
          "model_module_version": "1.5.0",
          "model_name": "HTMLModel",
          "state": {
            "_dom_classes": [],
            "_model_module": "@jupyter-widgets/controls",
            "_model_module_version": "1.5.0",
            "_model_name": "HTMLModel",
            "_view_count": null,
            "_view_module": "@jupyter-widgets/controls",
            "_view_module_version": "1.5.0",
            "_view_name": "HTMLView",
            "description": "",
            "description_tooltip": null,
            "layout": "IPY_MODEL_c45d82a40d2c4096b6c00b6c93290add",
            "placeholder": "​",
            "style": "IPY_MODEL_9cbf8f18e9dd4cd3acc274ad3f4868ae",
            "value": " 2.69M/2.69M [00:00&lt;00:00, 6.83MiB/s]"
          }
        },
        "879141a9900d4741985af9ee5f230760": {
          "model_module": "@jupyter-widgets/controls",
          "model_module_version": "1.5.0",
          "model_name": "HBoxModel",
          "state": {
            "_dom_classes": [],
            "_model_module": "@jupyter-widgets/controls",
            "_model_module_version": "1.5.0",
            "_model_name": "HBoxModel",
            "_view_count": null,
            "_view_module": "@jupyter-widgets/controls",
            "_view_module_version": "1.5.0",
            "_view_name": "HBoxView",
            "box_style": "",
            "children": [
              "IPY_MODEL_5f822791ad0243d99cffb09f57b6257d",
              "IPY_MODEL_f9596cf74c4b428594a0be76406d96be",
              "IPY_MODEL_b014d38bd40740a18eaf90a6d2f69439"
            ],
            "layout": "IPY_MODEL_6a3ffc1cb8764532b215d51cae6e44be"
          }
        },
        "8bda824cef9c493b83704d511554954c": {
          "model_module": "@jupyter-widgets/controls",
          "model_module_version": "1.5.0",
          "model_name": "DescriptionStyleModel",
          "state": {
            "_model_module": "@jupyter-widgets/controls",
            "_model_module_version": "1.5.0",
            "_model_name": "DescriptionStyleModel",
            "_view_count": null,
            "_view_module": "@jupyter-widgets/base",
            "_view_module_version": "1.2.0",
            "_view_name": "StyleView",
            "description_width": ""
          }
        },
        "983b3ad86d71468c9efc7e01926c70e6": {
          "model_module": "@jupyter-widgets/base",
          "model_module_version": "1.2.0",
          "model_name": "LayoutModel",
          "state": {
            "_model_module": "@jupyter-widgets/base",
            "_model_module_version": "1.2.0",
            "_model_name": "LayoutModel",
            "_view_count": null,
            "_view_module": "@jupyter-widgets/base",
            "_view_module_version": "1.2.0",
            "_view_name": "LayoutView",
            "align_content": null,
            "align_items": null,
            "align_self": null,
            "border": null,
            "bottom": null,
            "display": null,
            "flex": null,
            "flex_flow": null,
            "grid_area": null,
            "grid_auto_columns": null,
            "grid_auto_flow": null,
            "grid_auto_rows": null,
            "grid_column": null,
            "grid_gap": null,
            "grid_row": null,
            "grid_template_areas": null,
            "grid_template_columns": null,
            "grid_template_rows": null,
            "height": null,
            "justify_content": null,
            "justify_items": null,
            "left": null,
            "margin": null,
            "max_height": null,
            "max_width": null,
            "min_height": null,
            "min_width": null,
            "object_fit": null,
            "object_position": null,
            "order": null,
            "overflow": null,
            "overflow_x": null,
            "overflow_y": null,
            "padding": null,
            "right": null,
            "top": null,
            "visibility": null,
            "width": null
          }
        },
        "9903eb80686c492aa8a5e3190ccc798a": {
          "model_module": "@jupyter-widgets/base",
          "model_module_version": "1.2.0",
          "model_name": "LayoutModel",
          "state": {
            "_model_module": "@jupyter-widgets/base",
            "_model_module_version": "1.2.0",
            "_model_name": "LayoutModel",
            "_view_count": null,
            "_view_module": "@jupyter-widgets/base",
            "_view_module_version": "1.2.0",
            "_view_name": "LayoutView",
            "align_content": null,
            "align_items": null,
            "align_self": null,
            "border": null,
            "bottom": null,
            "display": null,
            "flex": null,
            "flex_flow": null,
            "grid_area": null,
            "grid_auto_columns": null,
            "grid_auto_flow": null,
            "grid_auto_rows": null,
            "grid_column": null,
            "grid_gap": null,
            "grid_row": null,
            "grid_template_areas": null,
            "grid_template_columns": null,
            "grid_template_rows": null,
            "height": null,
            "justify_content": null,
            "justify_items": null,
            "left": null,
            "margin": null,
            "max_height": null,
            "max_width": null,
            "min_height": null,
            "min_width": null,
            "object_fit": null,
            "object_position": null,
            "order": null,
            "overflow": null,
            "overflow_x": null,
            "overflow_y": null,
            "padding": null,
            "right": null,
            "top": null,
            "visibility": null,
            "width": null
          }
        },
        "9cbf8f18e9dd4cd3acc274ad3f4868ae": {
          "model_module": "@jupyter-widgets/controls",
          "model_module_version": "1.5.0",
          "model_name": "DescriptionStyleModel",
          "state": {
            "_model_module": "@jupyter-widgets/controls",
            "_model_module_version": "1.5.0",
            "_model_name": "DescriptionStyleModel",
            "_view_count": null,
            "_view_module": "@jupyter-widgets/base",
            "_view_module_version": "1.2.0",
            "_view_name": "StyleView",
            "description_width": ""
          }
        },
        "b014d38bd40740a18eaf90a6d2f69439": {
          "model_module": "@jupyter-widgets/controls",
          "model_module_version": "1.5.0",
          "model_name": "HTMLModel",
          "state": {
            "_dom_classes": [],
            "_model_module": "@jupyter-widgets/controls",
            "_model_module_version": "1.5.0",
            "_model_name": "HTMLModel",
            "_view_count": null,
            "_view_module": "@jupyter-widgets/controls",
            "_view_module_version": "1.5.0",
            "_view_name": "HTMLView",
            "description": "",
            "description_tooltip": null,
            "layout": "IPY_MODEL_2001c71b7c0649ad94991dc00c2c1c2b",
            "placeholder": "​",
            "style": "IPY_MODEL_0b639c296a6e42e883957f4053e08881",
            "value": " 17.1M/17.1M [00:06&lt;00:00, 2.10MiB/s]"
          }
        },
        "b446bbe72b8344dab8c5b637ff3e48bf": {
          "model_module": "@jupyter-widgets/controls",
          "model_module_version": "1.5.0",
          "model_name": "DescriptionStyleModel",
          "state": {
            "_model_module": "@jupyter-widgets/controls",
            "_model_module_version": "1.5.0",
            "_model_name": "DescriptionStyleModel",
            "_view_count": null,
            "_view_module": "@jupyter-widgets/base",
            "_view_module_version": "1.2.0",
            "_view_name": "StyleView",
            "description_width": ""
          }
        },
        "b7df766690574c09b4942e0d27151171": {
          "model_module": "@jupyter-widgets/base",
          "model_module_version": "1.2.0",
          "model_name": "LayoutModel",
          "state": {
            "_model_module": "@jupyter-widgets/base",
            "_model_module_version": "1.2.0",
            "_model_name": "LayoutModel",
            "_view_count": null,
            "_view_module": "@jupyter-widgets/base",
            "_view_module_version": "1.2.0",
            "_view_name": "LayoutView",
            "align_content": null,
            "align_items": null,
            "align_self": null,
            "border": null,
            "bottom": null,
            "display": null,
            "flex": null,
            "flex_flow": null,
            "grid_area": null,
            "grid_auto_columns": null,
            "grid_auto_flow": null,
            "grid_auto_rows": null,
            "grid_column": null,
            "grid_gap": null,
            "grid_row": null,
            "grid_template_areas": null,
            "grid_template_columns": null,
            "grid_template_rows": null,
            "height": null,
            "justify_content": null,
            "justify_items": null,
            "left": null,
            "margin": null,
            "max_height": null,
            "max_width": null,
            "min_height": null,
            "min_width": null,
            "object_fit": null,
            "object_position": null,
            "order": null,
            "overflow": null,
            "overflow_x": null,
            "overflow_y": null,
            "padding": null,
            "right": null,
            "top": null,
            "visibility": null,
            "width": null
          }
        },
        "b8c4d550a4fb475d8a66c1e5deefb1f2": {
          "model_module": "@jupyter-widgets/controls",
          "model_module_version": "1.5.0",
          "model_name": "ProgressStyleModel",
          "state": {
            "_model_module": "@jupyter-widgets/controls",
            "_model_module_version": "1.5.0",
            "_model_name": "ProgressStyleModel",
            "_view_count": null,
            "_view_module": "@jupyter-widgets/base",
            "_view_module_version": "1.2.0",
            "_view_name": "StyleView",
            "bar_color": null,
            "description_width": ""
          }
        },
        "c25ebc49169a4fccae65c84ba71b50c7": {
          "model_module": "@jupyter-widgets/controls",
          "model_module_version": "1.5.0",
          "model_name": "HTMLModel",
          "state": {
            "_dom_classes": [],
            "_model_module": "@jupyter-widgets/controls",
            "_model_module_version": "1.5.0",
            "_model_name": "HTMLModel",
            "_view_count": null,
            "_view_module": "@jupyter-widgets/controls",
            "_view_module_version": "1.5.0",
            "_view_name": "HTMLView",
            "description": "",
            "description_tooltip": null,
            "layout": "IPY_MODEL_7350acfbe3bd4e1cb4ff49290a6cd58f",
            "placeholder": "​",
            "style": "IPY_MODEL_5b4d7df8ac4e4a788d7684f47f1d1b76",
            "value": " 5183/5183 [00:00&lt;00:00, 45467.14it/s]"
          }
        },
        "c2c384a4406b4b9f9dfc57779d7246ee": {
          "model_module": "@jupyter-widgets/controls",
          "model_module_version": "1.5.0",
          "model_name": "DescriptionStyleModel",
          "state": {
            "_model_module": "@jupyter-widgets/controls",
            "_model_module_version": "1.5.0",
            "_model_name": "DescriptionStyleModel",
            "_view_count": null,
            "_view_module": "@jupyter-widgets/base",
            "_view_module_version": "1.2.0",
            "_view_name": "StyleView",
            "description_width": ""
          }
        },
        "c3375ea1a272481babcaece7f79b428e": {
          "model_module": "@jupyter-widgets/base",
          "model_module_version": "1.2.0",
          "model_name": "LayoutModel",
          "state": {
            "_model_module": "@jupyter-widgets/base",
            "_model_module_version": "1.2.0",
            "_model_name": "LayoutModel",
            "_view_count": null,
            "_view_module": "@jupyter-widgets/base",
            "_view_module_version": "1.2.0",
            "_view_name": "LayoutView",
            "align_content": null,
            "align_items": null,
            "align_self": null,
            "border": null,
            "bottom": null,
            "display": null,
            "flex": null,
            "flex_flow": null,
            "grid_area": null,
            "grid_auto_columns": null,
            "grid_auto_flow": null,
            "grid_auto_rows": null,
            "grid_column": null,
            "grid_gap": null,
            "grid_row": null,
            "grid_template_areas": null,
            "grid_template_columns": null,
            "grid_template_rows": null,
            "height": null,
            "justify_content": null,
            "justify_items": null,
            "left": null,
            "margin": null,
            "max_height": null,
            "max_width": null,
            "min_height": null,
            "min_width": null,
            "object_fit": null,
            "object_position": null,
            "order": null,
            "overflow": null,
            "overflow_x": null,
            "overflow_y": null,
            "padding": null,
            "right": null,
            "top": null,
            "visibility": null,
            "width": null
          }
        },
        "c45d82a40d2c4096b6c00b6c93290add": {
          "model_module": "@jupyter-widgets/base",
          "model_module_version": "1.2.0",
          "model_name": "LayoutModel",
          "state": {
            "_model_module": "@jupyter-widgets/base",
            "_model_module_version": "1.2.0",
            "_model_name": "LayoutModel",
            "_view_count": null,
            "_view_module": "@jupyter-widgets/base",
            "_view_module_version": "1.2.0",
            "_view_name": "LayoutView",
            "align_content": null,
            "align_items": null,
            "align_self": null,
            "border": null,
            "bottom": null,
            "display": null,
            "flex": null,
            "flex_flow": null,
            "grid_area": null,
            "grid_auto_columns": null,
            "grid_auto_flow": null,
            "grid_auto_rows": null,
            "grid_column": null,
            "grid_gap": null,
            "grid_row": null,
            "grid_template_areas": null,
            "grid_template_columns": null,
            "grid_template_rows": null,
            "height": null,
            "justify_content": null,
            "justify_items": null,
            "left": null,
            "margin": null,
            "max_height": null,
            "max_width": null,
            "min_height": null,
            "min_width": null,
            "object_fit": null,
            "object_position": null,
            "order": null,
            "overflow": null,
            "overflow_x": null,
            "overflow_y": null,
            "padding": null,
            "right": null,
            "top": null,
            "visibility": null,
            "width": null
          }
        },
        "e260dd2233ff479db1471ec42f0b907a": {
          "model_module": "@jupyter-widgets/base",
          "model_module_version": "1.2.0",
          "model_name": "LayoutModel",
          "state": {
            "_model_module": "@jupyter-widgets/base",
            "_model_module_version": "1.2.0",
            "_model_name": "LayoutModel",
            "_view_count": null,
            "_view_module": "@jupyter-widgets/base",
            "_view_module_version": "1.2.0",
            "_view_name": "LayoutView",
            "align_content": null,
            "align_items": null,
            "align_self": null,
            "border": null,
            "bottom": null,
            "display": null,
            "flex": null,
            "flex_flow": null,
            "grid_area": null,
            "grid_auto_columns": null,
            "grid_auto_flow": null,
            "grid_auto_rows": null,
            "grid_column": null,
            "grid_gap": null,
            "grid_row": null,
            "grid_template_areas": null,
            "grid_template_columns": null,
            "grid_template_rows": null,
            "height": null,
            "justify_content": null,
            "justify_items": null,
            "left": null,
            "margin": null,
            "max_height": null,
            "max_width": null,
            "min_height": null,
            "min_width": null,
            "object_fit": null,
            "object_position": null,
            "order": null,
            "overflow": null,
            "overflow_x": null,
            "overflow_y": null,
            "padding": null,
            "right": null,
            "top": null,
            "visibility": null,
            "width": null
          }
        },
        "e65a397cb2e44371886c3f51362a9bc6": {
          "model_module": "@jupyter-widgets/controls",
          "model_module_version": "1.5.0",
          "model_name": "ProgressStyleModel",
          "state": {
            "_model_module": "@jupyter-widgets/controls",
            "_model_module_version": "1.5.0",
            "_model_name": "ProgressStyleModel",
            "_view_count": null,
            "_view_module": "@jupyter-widgets/base",
            "_view_module_version": "1.2.0",
            "_view_name": "StyleView",
            "bar_color": null,
            "description_width": ""
          }
        },
        "e71944737601445a9e8a1f39fe32d445": {
          "model_module": "@jupyter-widgets/base",
          "model_module_version": "1.2.0",
          "model_name": "LayoutModel",
          "state": {
            "_model_module": "@jupyter-widgets/base",
            "_model_module_version": "1.2.0",
            "_model_name": "LayoutModel",
            "_view_count": null,
            "_view_module": "@jupyter-widgets/base",
            "_view_module_version": "1.2.0",
            "_view_name": "LayoutView",
            "align_content": null,
            "align_items": null,
            "align_self": null,
            "border": null,
            "bottom": null,
            "display": null,
            "flex": null,
            "flex_flow": null,
            "grid_area": null,
            "grid_auto_columns": null,
            "grid_auto_flow": null,
            "grid_auto_rows": null,
            "grid_column": null,
            "grid_gap": null,
            "grid_row": null,
            "grid_template_areas": null,
            "grid_template_columns": null,
            "grid_template_rows": null,
            "height": null,
            "justify_content": null,
            "justify_items": null,
            "left": null,
            "margin": null,
            "max_height": null,
            "max_width": null,
            "min_height": null,
            "min_width": null,
            "object_fit": null,
            "object_position": null,
            "order": null,
            "overflow": null,
            "overflow_x": null,
            "overflow_y": null,
            "padding": null,
            "right": null,
            "top": null,
            "visibility": null,
            "width": null
          }
        },
        "edd9d4c3787f44e2a6d7fe43dec354f2": {
          "model_module": "@jupyter-widgets/controls",
          "model_module_version": "1.5.0",
          "model_name": "DescriptionStyleModel",
          "state": {
            "_model_module": "@jupyter-widgets/controls",
            "_model_module_version": "1.5.0",
            "_model_name": "DescriptionStyleModel",
            "_view_count": null,
            "_view_module": "@jupyter-widgets/base",
            "_view_module_version": "1.2.0",
            "_view_name": "StyleView",
            "description_width": ""
          }
        },
        "ef9546a04f6d47e081b7021376e1fdab": {
          "model_module": "@jupyter-widgets/controls",
          "model_module_version": "1.5.0",
          "model_name": "HBoxModel",
          "state": {
            "_dom_classes": [],
            "_model_module": "@jupyter-widgets/controls",
            "_model_module_version": "1.5.0",
            "_model_name": "HBoxModel",
            "_view_count": null,
            "_view_module": "@jupyter-widgets/controls",
            "_view_module_version": "1.5.0",
            "_view_name": "HBoxView",
            "box_style": "",
            "children": [
              "IPY_MODEL_f2be4ffe3b984e9989af25faceb3c9fc",
              "IPY_MODEL_4cbd2428f91c40d092e1c3bc80171123",
              "IPY_MODEL_72b0800f217f4559aea1c0db64d6594c"
            ],
            "layout": "IPY_MODEL_983b3ad86d71468c9efc7e01926c70e6"
          }
        },
        "f22b82b8010a4a79b0b42908966cc89e": {
          "model_module": "@jupyter-widgets/controls",
          "model_module_version": "1.5.0",
          "model_name": "HTMLModel",
          "state": {
            "_dom_classes": [],
            "_model_module": "@jupyter-widgets/controls",
            "_model_module_version": "1.5.0",
            "_model_name": "HTMLModel",
            "_view_count": null,
            "_view_module": "@jupyter-widgets/controls",
            "_view_module_version": "1.5.0",
            "_view_name": "HTMLView",
            "description": "",
            "description_tooltip": null,
            "layout": "IPY_MODEL_6770f34c4be644cda13221e47d00ca28",
            "placeholder": "​",
            "style": "IPY_MODEL_c2c384a4406b4b9f9dfc57779d7246ee",
            "value": "datasets/scifact.zip: 100%"
          }
        },
        "f2be4ffe3b984e9989af25faceb3c9fc": {
          "model_module": "@jupyter-widgets/controls",
          "model_module_version": "1.5.0",
          "model_name": "HTMLModel",
          "state": {
            "_dom_classes": [],
            "_model_module": "@jupyter-widgets/controls",
            "_model_module_version": "1.5.0",
            "_model_name": "HTMLModel",
            "_view_count": null,
            "_view_module": "@jupyter-widgets/controls",
            "_view_module_version": "1.5.0",
            "_view_name": "HTMLView",
            "description": "",
            "description_tooltip": null,
            "layout": "IPY_MODEL_e260dd2233ff479db1471ec42f0b907a",
            "placeholder": "​",
            "style": "IPY_MODEL_b446bbe72b8344dab8c5b637ff3e48bf",
            "value": "100%"
          }
        },
        "f9596cf74c4b428594a0be76406d96be": {
          "model_module": "@jupyter-widgets/controls",
          "model_module_version": "1.5.0",
          "model_name": "FloatProgressModel",
          "state": {
            "_dom_classes": [],
            "_model_module": "@jupyter-widgets/controls",
            "_model_module_version": "1.5.0",
            "_model_name": "FloatProgressModel",
            "_view_count": null,
            "_view_module": "@jupyter-widgets/controls",
            "_view_module_version": "1.5.0",
            "_view_name": "ProgressView",
            "bar_style": "success",
            "description": "",
            "description_tooltip": null,
            "layout": "IPY_MODEL_9903eb80686c492aa8a5e3190ccc798a",
            "max": 17948027,
            "min": 0,
            "orientation": "horizontal",
            "style": "IPY_MODEL_148567c981e74f1a9b840fb5463f6c1f",
            "value": 17948027
          }
        },
        "fbf3da22c9954c3ab5995fff682084ba": {
          "model_module": "@jupyter-widgets/base",
          "model_module_version": "1.2.0",
          "model_name": "LayoutModel",
          "state": {
            "_model_module": "@jupyter-widgets/base",
            "_model_module_version": "1.2.0",
            "_model_name": "LayoutModel",
            "_view_count": null,
            "_view_module": "@jupyter-widgets/base",
            "_view_module_version": "1.2.0",
            "_view_name": "LayoutView",
            "align_content": null,
            "align_items": null,
            "align_self": null,
            "border": null,
            "bottom": null,
            "display": null,
            "flex": null,
            "flex_flow": null,
            "grid_area": null,
            "grid_auto_columns": null,
            "grid_auto_flow": null,
            "grid_auto_rows": null,
            "grid_column": null,
            "grid_gap": null,
            "grid_row": null,
            "grid_template_areas": null,
            "grid_template_columns": null,
            "grid_template_rows": null,
            "height": null,
            "justify_content": null,
            "justify_items": null,
            "left": null,
            "margin": null,
            "max_height": null,
            "max_width": null,
            "min_height": null,
            "min_width": null,
            "object_fit": null,
            "object_position": null,
            "order": null,
            "overflow": null,
            "overflow_x": null,
            "overflow_y": null,
            "padding": null,
            "right": null,
            "top": null,
            "visibility": null,
            "width": null
          }
        },
        "state": {}
      }
    }
  },
  "nbformat": 4,
  "nbformat_minor": 0
}
