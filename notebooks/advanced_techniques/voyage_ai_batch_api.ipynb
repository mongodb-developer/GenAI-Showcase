{
  "cells": [
    {
      "cell_type": "markdown",
      "id": "68cef94a",
      "metadata": {},
      "source": [
        "# Using Voyage AI's Batch API for large workloads\n",
        "\n",
        "The Batch API allows you to create asynchronous batch jobs at half the cost of the synchronous API, efficiently processing large workloads. Batch jobs have a 12-hour completion window, making them ideal for overnight runs. You can use the Batch API with all our embedding models and rerankers.\n",
        "\n",
        "Some use cases for the Batch API include:\n",
        "\n",
        "* Bulk-embedding large corpora for semantic search, RAG, and agents\n",
        "* Processing new content during off-peak hours\n",
        "* Re-indexing data when upgrading to newer models\n",
        "* Offline model evaluation and benchmarking\n",
        "\n",
        "In this notebook, you will learn how to use the Batch API and explore some of its key capabilities."
      ]
    },
    {
      "cell_type": "markdown",
      "id": "eafe3045",
      "metadata": {},
      "source": [
        "## Install required libraries"
      ]
    },
    {
      "cell_type": "code",
      "execution_count": 1,
      "id": "9da4432e",
      "metadata": {},
      "outputs": [],
      "source": [
        "!pip install -qU datasets voyageai"
      ]
    },
    {
      "cell_type": "markdown",
      "id": "1fa2e631",
      "metadata": {},
      "source": [
        "## Setup prerequisites\n",
        "\n",
        "Follow the steps [here](https://dashboard.voyageai.com/organization/api-keys) to obtain a Voyage AI API key."
      ]
    },
    {
      "cell_type": "code",
      "execution_count": null,
      "id": "2244f2aa",
      "metadata": {},
      "outputs": [],
      "source": [
        "import getpass\n",
        "import os\n",
        "\n",
        "import voyageai"
      ]
    },
    {
      "cell_type": "code",
      "execution_count": 3,
      "id": "921add6a",
      "metadata": {},
      "outputs": [],
      "source": [
        "# Set Voyage AI API key as an environment variable\n",
        "os.environ[\"VOYAGE_API_KEY\"] = getpass.getpass(\"Enter your VoyageAI API key:\")\n",
        "# Initialize the Voyage AI client\n",
        "voyage_client = voyageai.Client()"
      ]
    },
    {
      "cell_type": "markdown",
      "id": "513cd6d1",
      "metadata": {},
      "source": [
        "## Example 1: Bulk-embedding a large corpus"
      ]
    },
    {
      "cell_type": "code",
      "execution_count": null,
      "id": "b51d15b4",
      "metadata": {},
      "outputs": [],
      "source": []
    }
  ],
  "metadata": {
    "kernelspec": {
      "display_name": ".venv",
      "language": "python",
      "name": "python3"
    },
    "language_info": {
      "codemirror_mode": {
        "name": "ipython",
        "version": 3
      },
      "file_extension": ".py",
      "mimetype": "text/x-python",
      "name": "python",
      "nbconvert_exporter": "python",
      "pygments_lexer": "ipython3",
      "version": "3.13.1"
    },
    "widgets": {
      "application/vnd.jupyter.widget-state+json": {
        "state": {}
      }
    }
  },
  "nbformat": 4,
  "nbformat_minor": 5
}
