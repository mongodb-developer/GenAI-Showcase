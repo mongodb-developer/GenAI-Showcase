{
  "cells": [
    {
      "cell_type": "markdown",
      "metadata": {
        "id": "SJ5mOR93_b7L"
      },
      "source": [
        "[![Open In Colab](https://colab.research.google.com/assets/colab-badge.svg)](https://colab.research.google.com/github/mongodb-developer/GenAI-Showcase/blob/main/notebooks/rag/self_querying_mongodb_unstructured_langgraph.ipynb)\n",
        "\n",
        "[![View Article](https://img.shields.io/badge/View%20Article-blue)](https://www.mongodb.com/developer/products/atlas/advanced-rag-self-querying-retrieval/?utm_campaign=devrel&utm_source=cross-post&utm_medium=organic_social&utm_content=https%3A%2F%2Fgithub.com%2Fmongodb-developer%2FGenAI-Showcase&utm_term=apoorva.joshi)"
      ]
    },
    {
      "cell_type": "markdown",
      "metadata": {
        "id": "6swbsMJaCw7v"
      },
      "source": [
        "# Building an Advanced RAG System with Self-Querying Retrieval\n",
        "\n",
        "This notebook shows how to incorporate self-querying retrieval into a RAG application using Unstructured, MongoDB and LangGraph."
      ]
    },
    {
      "cell_type": "markdown",
      "metadata": {
        "id": "sCD6whdjRIdw"
      },
      "source": [
        "## Step 1: Install required libraries\n",
        "\n",
        "- **langgraph**: Python package to build stateful, multi-actor applications with LLMs\n",
        "<p>\n",
        "- **openai**: Python package to interact with OpenAI APIs\n",
        "<p>\n",
        "- **pymongo**: Python package to interact with MongoDB databases and collections\n",
        "<p>\n",
        "- **sentence-transformers**: Python package for open-source language models\n",
        "<p>\n",
        "- **unstructured-ingest**: Python package for data processing using Unstructured"
      ]
    },
    {
      "cell_type": "code",
      "execution_count": null,
      "metadata": {
        "id": "MjRkV7PX9Uik"
      },
      "outputs": [],
      "source": [
        "!pip install -qU langgraph openai pymongo sentence-transformers \"unstructured-ingest[pdf, s3, mongodb, embed-huggingface]\""
      ]
    },
    {
      "cell_type": "code",
      "execution_count": null,
      "metadata": {
        "id": "qc8q6Hx6Rwm-"
      },
      "outputs": [],
      "source": [
        "import warnings\n",
        "\n",
        "warnings.filterwarnings(\"ignore\", category=UserWarning)"
      ]
    },
    {
      "cell_type": "markdown",
      "metadata": {
        "id": "yh1ZHga1HM8p"
      },
      "source": [
        "## Step 2: Setup prerequisites\n",
        "\n",
        "- **Set the Unstructured API key and URL**: Steps to obtain the API key and URL are [here](https://unstructured.io/api-key-hosted)\n",
        "\n",
        "- **Set the AWS access keys**: Steps to obtain the AWS access keys are [here](https://docs.aws.amazon.com/IAM/latest/UserGuide/id_credentials_access-keys.html)\n",
        "\n",
        "- **Set the MongoDB connection string**: Follow the steps [here](https://www.mongodb.com/docs/manual/reference/connection-string/) to get the connection string from the Atlas UI.\n",
        "\n",
        "- **Set the OpenAI API key**: Steps to obtain an API key as [here](https://help.openai.com/en/articles/4936850-where-do-i-find-my-openai-api-key)"
      ]
    },
    {
      "cell_type": "code",
      "execution_count": null,
      "metadata": {
        "id": "o4Tr1N2URwEn"
      },
      "outputs": [],
      "source": [
        "import os\n",
        "\n",
        "from openai import OpenAI\n",
        "from pymongo import MongoClient"
      ]
    },
    {
      "cell_type": "code",
      "execution_count": null,
      "metadata": {
        "ExecuteTime": {
          "end_time": "2024-08-22T20:25:13.754843Z",
          "start_time": "2024-08-22T20:25:13.752362Z"
        },
        "id": "XgVmhd7188oC"
      },
      "outputs": [],
      "source": [
        "# Your Unstructured API key and URL\n",
        "UNSTRUCTURED_API_KEY = \"\"\n",
        "UNSTRUCTURED_URL = \"\""
      ]
    },
    {
      "cell_type": "code",
      "execution_count": null,
      "metadata": {
        "id": "-CUA7sXSU0Jj"
      },
      "outputs": [],
      "source": [
        "# Your AWS authentication credentials\n",
        "AWS_KEY = \"\"\n",
        "AWS_SECRET = \"\""
      ]
    },
    {
      "cell_type": "code",
      "execution_count": null,
      "metadata": {
        "id": "YaZW_HLlU2Rp"
      },
      "outputs": [],
      "source": [
        "# S3 URI for the Access Point to the bucket with PDF files\n",
        "AWS_S3_NAME = \"\""
      ]
    },
    {
      "cell_type": "code",
      "execution_count": null,
      "metadata": {
        "id": "WzidEkTXU5zp"
      },
      "outputs": [],
      "source": [
        "# Your MongoDB connection string (uri), and collection/database names\n",
        "MONGODB_URI = \"\"\n",
        "MONGODB_DB_NAME = \"\"\n",
        "MONGODB_COLLECTION = \"\"\n",
        "# Instantiate the MongoDB client\n",
        "mongodb_client = MongoClient(\n",
        "    MONGODB_URI, appname=\"devrel.showcase.selfquery_mongodb_unstructured\"\n",
        ")"
      ]
    },
    {
      "cell_type": "code",
      "execution_count": null,
      "metadata": {
        "id": "kZ5DqBxWVE2l"
      },
      "outputs": [],
      "source": [
        "# Your OpenAI API key\n",
        "os.environ[\"OPENAI_API_KEY\"] = \"\"\n",
        "# Instantiate the OpenAI client\n",
        "openai_client = OpenAI()"
      ]
    },
    {
      "cell_type": "code",
      "execution_count": 10,
      "metadata": {
        "id": "K1iP8H9ezash"
      },
      "outputs": [],
      "source": [
        "# Embedding model to use\n",
        "EMBEDDING_MODEL_NAME = \"BAAI/bge-base-en-v1.5\""
      ]
    },
    {
      "cell_type": "code",
      "execution_count": 11,
      "metadata": {
        "id": "dRx6CT1Ezasi"
      },
      "outputs": [],
      "source": [
        "# Completion model to use\n",
        "COMPLETION_MODEL_NAME = \"gpt-4o-2024-08-06\""
      ]
    },
    {
      "cell_type": "markdown",
      "metadata": {
        "id": "4XAZrBVM9eqV"
      },
      "source": [
        "## Step 3: Partition, chunk and embed PDF files\n",
        "\n",
        "Let's set up the PDF preprocessing pipeline with Unstructured. The pipeline will:\n",
        "1. Ingest data from an S3 bucket/local directory\n",
        "2. Partition documents: extract text and metadata, split the documents into document elements, such as titles, paragraphs (narrative text), tables, images, lists, etc. Learn more about document elements in [Unstructured documentation])https://docs.unstructured.io/api-reference/api-services/document-elements).\n",
        "3. Chunk the documents.\n",
        "4. Embed the documents with the [`BAAI/bge-base-en-v1.5`](https://huggingface.co/BAAI/bge-base-en-v1.5) embedding model the Hugging Face Hub.\n",
        "5. Save the results locally."
      ]
    },
    {
      "cell_type": "code",
      "execution_count": null,
      "metadata": {
        "id": "gn5FHZI7ZJ7A"
      },
      "outputs": [],
      "source": [
        "from unstructured_ingest.v2.interfaces import ProcessorConfig\n",
        "from unstructured_ingest.v2.pipeline.pipeline import Pipeline\n",
        "from unstructured_ingest.v2.processes.chunker import ChunkerConfig\n",
        "from unstructured_ingest.v2.processes.connectors.fsspec.s3 import (\n",
        "    S3AccessConfig,\n",
        "    S3ConnectionConfig,\n",
        "    S3DownloaderConfig,\n",
        "    S3IndexerConfig,\n",
        ")\n",
        "\n",
        "# For pipeline using a local source\n",
        "# from unstructured_ingest.v2.processes.connectors.local import (\n",
        "#     LocalIndexerConfig,\n",
        "#     LocalDownloaderConfig,\n",
        "#     LocalConnectionConfig,\n",
        "# )\n",
        "from unstructured_ingest.v2.processes.connectors.local import LocalUploaderConfig\n",
        "from unstructured_ingest.v2.processes.embedder import EmbedderConfig\n",
        "from unstructured_ingest.v2.processes.partitioner import PartitionerConfig"
      ]
    },
    {
      "cell_type": "code",
      "execution_count": null,
      "metadata": {
        "ExecuteTime": {
          "end_time": "2024-08-22T20:25:18.555381Z",
          "start_time": "2024-08-22T20:25:18.553677Z"
        },
        "id": "Z5v_JWSBwbr2"
      },
      "outputs": [],
      "source": [
        "WORK_DIR = \"/content/temp\""
      ]
    },
    {
      "cell_type": "code",
      "execution_count": null,
      "metadata": {
        "ExecuteTime": {
          "end_time": "2024-08-22T21:36:12.887187Z",
          "start_time": "2024-08-22T21:22:53.915454Z"
        },
        "id": "0h020TAN9nMB"
      },
      "outputs": [],
      "source": [
        "Pipeline.from_configs(\n",
        "    context=ProcessorConfig(\n",
        "        verbose=True, tqdm=True, num_processes=5, work_dir=WORK_DIR\n",
        "    ),\n",
        "    indexer_config=S3IndexerConfig(remote_url=AWS_S3_NAME),\n",
        "    downloader_config=S3DownloaderConfig(),\n",
        "    source_connection_config=S3ConnectionConfig(\n",
        "        access_config=S3AccessConfig(key=AWS_KEY, secret=AWS_SECRET)\n",
        "    ),\n",
        "    # For pipeline using a local source\n",
        "    # indexer_config=LocalIndexerConfig(input_path=\"your_local_directory\"),\n",
        "    # downloader_config=LocalDownloaderConfig(),\n",
        "    # source_connection_config=LocalConnectionConfig(),\n",
        "    partitioner_config=PartitionerConfig(\n",
        "        partition_by_api=True,\n",
        "        api_key=UNSTRUCTURED_API_KEY,\n",
        "        partition_endpoint=UNSTRUCTURED_URL,\n",
        "        strategy=\"hi_res\",\n",
        "        additional_partition_args={\n",
        "            \"split_pdf_page\": True,\n",
        "            \"split_pdf_allow_failed\": True,\n",
        "            \"split_pdf_concurrency_level\": 15,\n",
        "        },\n",
        "    ),\n",
        "    chunker_config=ChunkerConfig(\n",
        "        chunking_strategy=\"by_title\",\n",
        "        chunk_max_characters=1500,\n",
        "        chunk_overlap=150,\n",
        "    ),\n",
        "    embedder_config=EmbedderConfig(\n",
        "        embedding_provider=\"langchain-huggingface\",\n",
        "        embedding_model_name=EMBEDDING_MODEL_NAME,\n",
        "    ),\n",
        "    uploader_config=LocalUploaderConfig(output_dir=\"/content/ingest-outputs\"),\n",
        ").run()"
      ]
    },
    {
      "cell_type": "markdown",
      "metadata": {
        "id": "ZAFAUsSB-_6p"
      },
      "source": [
        "## Step 4: Add custom metadata to the processed documents\n",
        "\n",
        "For each document, we want to add the company name and fiscal year as custom metadata, to enable smart pre-filtering for more precise document retrieval.\n",
        "\n",
        "Luckily the Form-10K documents have a more or less standard page with this information, so we can use regex to extract this information."
      ]
    },
    {
      "cell_type": "code",
      "execution_count": null,
      "metadata": {
        "id": "6WxHUHkZaJ4a"
      },
      "outputs": [],
      "source": [
        "import json\n",
        "import re"
      ]
    },
    {
      "cell_type": "code",
      "execution_count": null,
      "metadata": {
        "ExecuteTime": {
          "end_time": "2024-08-22T21:42:16.571027Z",
          "start_time": "2024-08-22T21:42:16.565939Z"
        },
        "id": "wPr1vj_BNt2j"
      },
      "outputs": [],
      "source": [
        "def get_fiscal_year(elements: dict) -> int:\n",
        "    \"\"\"\n",
        "    Extract fiscal year from document elements.\n",
        "\n",
        "    Args:\n",
        "        elements (dict): Document elements\n",
        "\n",
        "    Returns:\n",
        "        int: Year\n",
        "    \"\"\"\n",
        "    # Regular expression pattern to find the element containing the fiscal year\n",
        "    pattern = r\"for the (fiscal\\s+)?year ended.*?(\\d{4})\"\n",
        "    year = 0\n",
        "    for i in range(len(elements)):\n",
        "        match = re.search(pattern, elements[i][\"text\"], re.IGNORECASE)\n",
        "        if match:\n",
        "            year = match.group(0)[-4:]\n",
        "            try:\n",
        "                year = int(year)\n",
        "            except Exception:\n",
        "                year = 0\n",
        "    return year"
      ]
    },
    {
      "cell_type": "code",
      "execution_count": null,
      "metadata": {},
      "outputs": [],
      "source": [
        "def get_company_name(elements: dict) -> str:\n",
        "    \"\"\"\n",
        "    Extract company name from document elements.\n",
        "\n",
        "    Args:\n",
        "        elements (dict): Document elements\n",
        "\n",
        "    Returns:\n",
        "        str: Company name\n",
        "    \"\"\"\n",
        "    name = \"\"\n",
        "    # In most cases the name of the company is right before/above the following line\n",
        "    substring = \"(Exact name of registrant as specified\"\n",
        "    for i in range(len(elements)):\n",
        "        if substring.lower() in elements[i][\"text\"].lower():\n",
        "            pattern = (\n",
        "                r\"([A-Z][A-Za-z\\s&.,]+?)\\s*\\(Exact name of registrant as specified\"\n",
        "            )\n",
        "            match = re.search(pattern, elements[i][\"text\"], re.IGNORECASE)\n",
        "            if match:\n",
        "                name = match.group(1).strip()\n",
        "                name = name.split(\"\\n\\n\")[-1]\n",
        "\n",
        "    if name == \"\":\n",
        "        for i in range(len(elements)):\n",
        "            # In some cases, the name of the company is right after/below the following line\n",
        "            match = re.search(\n",
        "                r\"Exact name of registrant as specified in its charter:\\n\\n(.*?)\\n\\n\",\n",
        "                elements[i][\"text\"],\n",
        "            )\n",
        "            if match:\n",
        "                name = match.group(1)\n",
        "            else:\n",
        "                # In other cases, the name follows the \"Commission File Number [Number]\" line\n",
        "                match = re.search(\n",
        "                    r\"Commission File Number.*\\n\\n(.*?)\\n\\n\", elements[i][\"text\"]\n",
        "                )\n",
        "                if match:\n",
        "                    name = match.group(1)\n",
        "    return name"
      ]
    },
    {
      "cell_type": "markdown",
      "metadata": {
        "id": "INX733naO_kZ"
      },
      "source": [
        "We'll walk through the directory with the embedding results, and for each document find the company name and year, and add it as custom metadata to all elements of the document."
      ]
    },
    {
      "cell_type": "code",
      "execution_count": null,
      "metadata": {},
      "outputs": [],
      "source": [
        "directory = f\"{WORK_DIR}/embed\""
      ]
    },
    {
      "cell_type": "code",
      "execution_count": null,
      "metadata": {
        "ExecuteTime": {
          "end_time": "2024-08-22T21:42:17.201191Z",
          "start_time": "2024-08-22T21:42:17.197763Z"
        },
        "id": "m8guacI4wY7J"
      },
      "outputs": [],
      "source": [
        "for filename in os.listdir(directory):\n",
        "    if filename.endswith(\".json\"):\n",
        "        file_path = os.path.join(directory, filename)\n",
        "        print(f\"Processing file {filename}\")\n",
        "        try:\n",
        "            with open(file_path) as file:\n",
        "                data = json.load(file)\n",
        "\n",
        "            company_name = get_company_name(data)\n",
        "            fiscal_year = get_fiscal_year(data)\n",
        "\n",
        "            # Add custom metadata fields to each entry\n",
        "            for entry in data:\n",
        "                entry[\"metadata\"][\"custom_metadata\"] = {}\n",
        "                entry[\"metadata\"][\"custom_metadata\"][\"company\"] = company_name\n",
        "                entry[\"metadata\"][\"custom_metadata\"][\"year\"] = fiscal_year\n",
        "\n",
        "            with open(file_path, \"w\") as file:\n",
        "                json.dump(data, file, indent=2)\n",
        "\n",
        "            print(f\"Successfully updated {file_path} with custom metadata fields.\")\n",
        "        except json.JSONDecodeError as e:\n",
        "            print(f\"Error parsing JSON in {file_path}: {e}\")\n",
        "        except OSError as e:\n",
        "            print(f\"Error reading from or writing to {file_path}: {e}\")"
      ]
    },
    {
      "cell_type": "markdown",
      "metadata": {
        "id": "Y1xDPo0VyHYY"
      },
      "source": [
        "## Step 5: Write the processed documents to MongoDB\n",
        "\n",
        "To write the final processed documents to MongoDB, we will need to rerun the same pipeline, except we'll now change the destination from local to MongoDB.\n",
        "The pipeline will not repeat partitioning, chunking and embedding steps, since there are results for them already cached in the `WORK_DIR`. It will pick up the customized embedding results and load them into a MongoDB collection.\n",
        "\n"
      ]
    },
    {
      "cell_type": "code",
      "execution_count": null,
      "metadata": {
        "id": "3ybGRAFlbFOr"
      },
      "outputs": [],
      "source": [
        "from unstructured_ingest.v2.processes.connectors.mongodb import (\n",
        "    MongoDBAccessConfig,\n",
        "    MongoDBConnectionConfig,\n",
        "    MongoDBUploaderConfig,\n",
        "    MongoDBUploadStagerConfig,\n",
        ")"
      ]
    },
    {
      "cell_type": "code",
      "execution_count": null,
      "metadata": {
        "ExecuteTime": {
          "end_time": "2024-08-22T21:49:34.578823Z",
          "start_time": "2024-08-22T21:45:03.739789Z"
        },
        "id": "k7dhENwv_HHH"
      },
      "outputs": [],
      "source": [
        "Pipeline.from_configs(\n",
        "    context=ProcessorConfig(\n",
        "        verbose=True, tqdm=True, num_processes=5, work_dir=WORK_DIR\n",
        "    ),\n",
        "    indexer_config=S3IndexerConfig(remote_url=AWS_S3_NAME),\n",
        "    downloader_config=S3DownloaderConfig(),\n",
        "    source_connection_config=S3ConnectionConfig(\n",
        "        access_config=S3AccessConfig(key=AWS_KEY, secret=AWS_SECRET)\n",
        "    ),\n",
        "    partitioner_config=PartitionerConfig(\n",
        "        partition_by_api=True,\n",
        "        api_key=UNSTRUCTURED_API_KEY,\n",
        "        partition_endpoint=UNSTRUCTURED_URL,\n",
        "        strategy=\"hi_res\",\n",
        "        additional_partition_args={\n",
        "            \"split_pdf_page\": True,\n",
        "            \"split_pdf_allow_failed\": True,\n",
        "            \"split_pdf_concurrency_level\": 15,\n",
        "        },\n",
        "    ),\n",
        "    chunker_config=ChunkerConfig(\n",
        "        chunking_strategy=\"by_title\",\n",
        "        chunk_max_characters=1500,\n",
        "        chunk_overlap=150,\n",
        "    ),\n",
        "    embedder_config=EmbedderConfig(\n",
        "        embedding_provider=\"langchain-huggingface\",\n",
        "        embedding_model_name=EMBEDDING_MODEL_NAME,\n",
        "    ),\n",
        "    destination_connection_config=MongoDBConnectionConfig(\n",
        "        access_config=MongoDBAccessConfig(uri=MONGODB_URI),\n",
        "        collection=MONGODB_COLLECTION,\n",
        "        database=MONGODB_DB_NAME,\n",
        "    ),\n",
        "    stager_config=MongoDBUploadStagerConfig(),\n",
        "    uploader_config=MongoDBUploaderConfig(batch_size=100),\n",
        ").run()"
      ]
    },
    {
      "cell_type": "markdown",
      "metadata": {
        "id": "mjzSYCcoelXD"
      },
      "source": [
        "Next, we are going to use LangGraph to build our investment assistant. With LangGraph, we can build LLM systems as graphs with a shared state, conditional edges, and cyclic loops between nodes."
      ]
    },
    {
      "cell_type": "markdown",
      "metadata": {
        "id": "vwbGD1Zvoo-v"
      },
      "source": [
        "## Step 6: Define graph state\n",
        "\n",
        "Let's first define the state of our graph. The state is a mutable object that tracks different attributes as we pass through the nodes in the graph. We can include custom attributes within the state that represent parameters we want to track."
      ]
    },
    {
      "cell_type": "code",
      "execution_count": null,
      "metadata": {
        "id": "WjkvhhGvpXyX"
      },
      "outputs": [],
      "source": [
        "from typing import Annotated, Dict, List\n",
        "\n",
        "from langgraph.graph.message import add_messages\n",
        "from typing_extensions import TypedDict"
      ]
    },
    {
      "cell_type": "code",
      "execution_count": null,
      "metadata": {
        "id": "OMY4obokpZ8-"
      },
      "outputs": [],
      "source": [
        "class GraphState(TypedDict):\n",
        "    \"\"\"\n",
        "    Represents the state of the graph.\n",
        "\n",
        "    Attributes:\n",
        "        question: User query\n",
        "        metadata: Extracted metadata\n",
        "        filter: Filter definition\n",
        "        documents: List of retrieved documents from vector search\n",
        "        memory: Conversational history\n",
        "    \"\"\"\n",
        "\n",
        "    question: str\n",
        "    metadata: Dict\n",
        "    filter: Dict\n",
        "    context: List[str]\n",
        "    memory: Annotated[list, add_messages]"
      ]
    },
    {
      "cell_type": "markdown",
      "metadata": {
        "id": "1_Y0dn4Zpbrx"
      },
      "source": [
        "## Step 7: Define graph nodes\n",
        "\n",
        "Next, let's add the graph nodes. Nodes in LangGraph are functions or tools that your system has access to in order to complete the task. Each node updates one or more attributes in the graph state with its return value after it executes. Our assistant has four nodes:\n",
        "1. **Metadata Extractor**: Extract metadata from a natural language query\n",
        "2. **Filter Generator**: Generate a MongoDB Query API filter definition\n",
        "3. **MongoDB Atlas Vector Search**: Retrieve documents from MongoDB using semantic search\n",
        "4. **Answer Generator**: Generate an answer to the user question\n",
        "\n",
        "\n"
      ]
    },
    {
      "cell_type": "markdown",
      "metadata": {
        "id": "i2cdww8ys1tl"
      },
      "source": [
        "### Metadata Extractor"
      ]
    },
    {
      "cell_type": "code",
      "execution_count": null,
      "metadata": {
        "id": "wnMECC9PszGl"
      },
      "outputs": [],
      "source": [
        "from datetime import datetime\n",
        "\n",
        "from pydantic import BaseModel, Field"
      ]
    },
    {
      "cell_type": "code",
      "execution_count": null,
      "metadata": {
        "id": "_ik88ZXms5Pj"
      },
      "outputs": [],
      "source": [
        "companies = [\n",
        "    \"AT&T INC.\",\n",
        "    \"American International Group, Inc.\",\n",
        "    \"Apple Inc.\",\n",
        "    \"BERKSHIRE HATHAWAY INC.\",\n",
        "    \"Bank of America Corporation\",\n",
        "    \"CENCORA, INC.\",\n",
        "    \"CVS HEALTH CORPORATION\",\n",
        "    \"Cardinal Health, Inc.\",\n",
        "    \"Chevron Corporation\",\n",
        "    \"Citigroup Inc.\",\n",
        "    \"Costco Wholesale Corporation\",\n",
        "    \"Exxon Mobil Corporation\",\n",
        "    \"Ford Motor Company\",\n",
        "    \"GENERAL ELECTRIC COMPANY\",\n",
        "    \"GENERAL MOTORS COMPANY\",\n",
        "    \"HP Inc.\",\n",
        "    \"INTERNATIONAL BUSINESS MACHINES CORPORATION\",\n",
        "    \"JPMorgan Chase & Co.\",\n",
        "    \"MICROSOFT CORPORATION\",\n",
        "    \"MIDLAND COMPANY\",\n",
        "    \"McKESSON CORPORATION\",\n",
        "    \"THE BOEING COMPANY\",\n",
        "    \"THE HOME DEPOT, INC.\",\n",
        "    \"THE KROGER CO.\",\n",
        "    \"The Goldman Sachs Group, Inc.\",\n",
        "    \"UnitedHealth Group Incorporated\",\n",
        "    \"VALERO ENERGY CORPORATION\",\n",
        "    \"Verizon Communications Inc.\",\n",
        "    \"WALMART INC.\",\n",
        "    \"WELLS FARGO & COMPANY\",\n",
        "]"
      ]
    },
    {
      "cell_type": "code",
      "execution_count": null,
      "metadata": {
        "id": "cK3Pd9HXs7P2"
      },
      "outputs": [],
      "source": [
        "class Metadata(BaseModel):\n",
        "    \"\"\"Metadata to use for pre-filtering.\"\"\"\n",
        "\n",
        "    company: List[str] = Field(description=\"List of company names\")\n",
        "    year: List[str] = Field(description=\"List containing start year and end year\")"
      ]
    },
    {
      "cell_type": "code",
      "execution_count": null,
      "metadata": {
        "id": "jvPjpPkZtAWr"
      },
      "outputs": [],
      "source": [
        "def extract_metadata(state: Dict) -> Dict:\n",
        "    \"\"\"\n",
        "    Extract metadata from natural language query.\n",
        "\n",
        "    Args:\n",
        "        state (Dict): The current graph state\n",
        "\n",
        "    Returns:\n",
        "        Dict: New key added to state i.e. metadata containing the metadata extracted from the user query.\n",
        "    \"\"\"\n",
        "    print(\"---EXTRACTING METADATA---\")\n",
        "    question = state[\"question\"]\n",
        "    system = f\"\"\"Extract the specified metadata from the user question:\n",
        "    - company: List of company names, eg: Google, Adobe etc. Match the names to companies on this list: {companies}\n",
        "    - year: List of [start year, end year]. Guidelines for extracting dates:\n",
        "        - If a single date is found, only include that.\n",
        "        - For phrases like 'in the past X years/last year', extract the start year by subtracting X from the current year. The current year is {datetime.now().year}.\n",
        "        - If more than two dates are found, only include the smallest and the largest year.\"\"\"\n",
        "    completion = openai_client.beta.chat.completions.parse(\n",
        "        model=COMPLETION_MODEL_NAME,\n",
        "        messages=[\n",
        "            {\"role\": \"system\", \"content\": system},\n",
        "            {\"role\": \"user\", \"content\": question},\n",
        "        ],\n",
        "        response_format=Metadata,\n",
        "    )\n",
        "    result = completion.choices[0].message.parsed\n",
        "    # If no metadata is extracted return an empty dictionary\n",
        "    if len(result.company) == 0 and len(result.year) == 0:\n",
        "        return {\"metadata\": {}}\n",
        "    metadata = {\n",
        "        \"metadata.custom_metadata.company\": result.company,\n",
        "        \"metadata.custom_metadata.year\": result.year,\n",
        "    }\n",
        "    return {\"metadata\": metadata}"
      ]
    },
    {
      "cell_type": "markdown",
      "metadata": {
        "id": "EoQH0sSDtB7_"
      },
      "source": [
        "### Filter Generator"
      ]
    },
    {
      "cell_type": "code",
      "execution_count": null,
      "metadata": {
        "id": "cKgLDhGdtBFp"
      },
      "outputs": [],
      "source": [
        "def generate_filter(state: Dict) -> Dict:\n",
        "    \"\"\"\n",
        "    Generate MongoDB Query API filter definition.\n",
        "\n",
        "    Args:\n",
        "        state (Dict): The current graph state\n",
        "\n",
        "    Returns:\n",
        "        Dict: New key added to state i.e. filter.\n",
        "    \"\"\"\n",
        "    print(\"---GENERATING FILTER DEFINITION---\")\n",
        "    metadata = state[\"metadata\"]\n",
        "    system = \"\"\"Generate a MongoDB filter definition from the provided fields. Follow the guidelines below:\n",
        "    - Respond in JSON with the filter assigned to a `filter` key.\n",
        "    - The field `metadata.custom_metadata.company` is a list of companies.\n",
        "    - The field `metadata.custom_metadata.year` is a list of one or more years.\n",
        "    - If any of the provided fields are empty lists, DO NOT include them in the filter.\n",
        "    - If both the metadata fields are empty lists, return an empty dictionary {{}}.\n",
        "    - The filter should only contain the fields `metadata.custom_metadata.company` and `metadata.custom_metadata.year`\n",
        "    - The filter can only contain the following MongoDB Query API match expressions:\n",
        "        - $gt: Greater than\n",
        "        - $lt: Lesser than\n",
        "        - $gte: Greater than or equal to\n",
        "        - $lte: Less than or equal to\n",
        "        - $eq: Equal to\n",
        "        - $ne: Not equal to\n",
        "        - $in: Specified field value equals any value in the specified array\n",
        "        - $nin: Specified field value is not present in the specified array\n",
        "        - $nor: Logical NOR operation\n",
        "        - $and: Logical AND operation\n",
        "        - $or: Logical OR operation\n",
        "    - If the `metadata.custom_metadata.year` field has multiple dates, create a date range filter using expressions such as $gt, $lt, $lte and $gte\n",
        "    - If the `metadata.custom_metadata.company` field contains a single company, use the $eq expression\n",
        "    - If the `metadata.custom_metadata.company` field contains multiple companies, use the $in expression\n",
        "    - To combine date range and company filters, use the $and operator\n",
        "    \"\"\"\n",
        "    completion = openai_client.chat.completions.create(\n",
        "        model=COMPLETION_MODEL_NAME,\n",
        "        temperature=0,\n",
        "        messages=[\n",
        "            {\"role\": \"system\", \"content\": system},\n",
        "            {\"role\": \"user\", \"content\": f\"Fields: {metadata}\"},\n",
        "        ],\n",
        "        response_format={\"type\": \"json_object\"},\n",
        "    )\n",
        "    result = json.loads(completion.choices[0].message.content)\n",
        "    return {\"filter\": result.get(\"filter\", {})}"
      ]
    },
    {
      "cell_type": "markdown",
      "metadata": {
        "id": "U1nFUwqbtGtS"
      },
      "source": [
        "### MongoDB Atlas Vector Search"
      ]
    },
    {
      "cell_type": "code",
      "execution_count": null,
      "metadata": {
        "id": "ECTcQQo_t7Zl"
      },
      "outputs": [],
      "source": [
        "from sentence_transformers import SentenceTransformer"
      ]
    },
    {
      "cell_type": "code",
      "execution_count": null,
      "metadata": {
        "id": "A36BU562tFwD"
      },
      "outputs": [],
      "source": [
        "embedding_model = SentenceTransformer(EMBEDDING_MODEL_NAME)\n",
        "collection = mongodb_client[MONGODB_DB_NAME][MONGODB_COLLECTION]\n",
        "VECTOR_SEARCH_INDEX_NAME = \"vector_index\""
      ]
    },
    {
      "cell_type": "code",
      "execution_count": null,
      "metadata": {},
      "outputs": [],
      "source": [
        "# Create a vector search index\n",
        "model = {\n",
        "    \"name\": VECTOR_SEARCH_INDEX_NAME,\n",
        "    \"type\": \"vectorSearch\",\n",
        "    \"definition\": {\n",
        "        \"fields\": [\n",
        "            {\n",
        "                \"type\": \"vector\",\n",
        "                \"path\": \"embeddings\",\n",
        "                \"numDimensions\": 768,\n",
        "                \"similarity\": \"cosine\",\n",
        "            },\n",
        "            {\"type\": \"filter\", \"path\": \"metadata.custom_metadata.company\"},\n",
        "            {\"type\": \"filter\", \"path\": \"metadata.custom_metadata.year\"},\n",
        "        ]\n",
        "    },\n",
        "}\n",
        "collection.create_search_index(model=model)"
      ]
    },
    {
      "cell_type": "code",
      "execution_count": null,
      "metadata": {
        "id": "N7JWGig4uUUX"
      },
      "outputs": [],
      "source": [
        "def vector_search(state: Dict) -> Dict:\n",
        "    \"\"\"\n",
        "    Get relevant information using MongoDB Atlas Vector Search\n",
        "\n",
        "    Args:\n",
        "        state (Dict): The current graph state\n",
        "\n",
        "    Returns:\n",
        "        Dict: New key added to state i.e. documents.\n",
        "    \"\"\"\n",
        "    print(\"---PERFORMING VECTOR SEARCH---\")\n",
        "    question = state[\"question\"]\n",
        "    filter = state[\"filter\"]\n",
        "    # We always want a valid filter object\n",
        "    if not filter:\n",
        "        filter = {}\n",
        "    query_embedding = embedding_model.encode(question).tolist()\n",
        "    pipeline = [\n",
        "        {\n",
        "            \"$vectorSearch\": {\n",
        "                \"index\": VECTOR_SEARCH_INDEX_NAME,\n",
        "                \"path\": \"embeddings\",\n",
        "                \"queryVector\": query_embedding,\n",
        "                \"numCandidates\": 150,\n",
        "                \"limit\": 5,\n",
        "                \"filter\": filter,\n",
        "            }\n",
        "        },\n",
        "        {\n",
        "            \"$project\": {\n",
        "                \"_id\": 0,\n",
        "                \"text\": 1,\n",
        "                \"score\": {\"$meta\": \"vectorSearchScore\"},\n",
        "            }\n",
        "        },\n",
        "    ]\n",
        "    # Execute the aggregation pipeline\n",
        "    results = collection.aggregate(pipeline)\n",
        "    # Drop documents with cosine similarity score < 0.8\n",
        "    relevant_results = [doc[\"text\"] for doc in results if doc[\"score\"] >= 0.8]\n",
        "    context = \"\\n\\n\".join([doc for doc in relevant_results])\n",
        "    return {\"context\": context}"
      ]
    },
    {
      "cell_type": "markdown",
      "metadata": {
        "id": "xxOxaEpyuYhr"
      },
      "source": [
        "### Answer Generator"
      ]
    },
    {
      "cell_type": "code",
      "execution_count": null,
      "metadata": {
        "id": "YVLcD3Ajzaso"
      },
      "outputs": [],
      "source": [
        "from langchain_core.messages import AIMessage, HumanMessage"
      ]
    },
    {
      "cell_type": "code",
      "execution_count": null,
      "metadata": {
        "id": "032eyrshuoHD"
      },
      "outputs": [],
      "source": [
        "def generate_answer(state: Dict) -> Dict:\n",
        "    \"\"\"\n",
        "    Generate the final answer to the user query\n",
        "\n",
        "    Args:\n",
        "        state (Dict): The current graph state\n",
        "\n",
        "    Returns:\n",
        "        Dict: New key added to state i.e. generation.\n",
        "    \"\"\"\n",
        "    print(\"---GENERATING THE ANSWER---\")\n",
        "    question = state[\"question\"]\n",
        "    context = state[\"context\"]\n",
        "    memory = state[\"memory\"]\n",
        "    system = \"Answer the question based only on the following context. If the context is empty or if it doesn't provide enough information to answer the question, say I DON'T KNOW\"\n",
        "    completion = openai_client.chat.completions.create(\n",
        "        model=COMPLETION_MODEL_NAME,\n",
        "        temperature=0,\n",
        "        messages=[\n",
        "            {\"role\": \"system\", \"content\": system},\n",
        "            {\n",
        "                \"role\": \"user\",\n",
        "                \"content\": f\"Context:\\n{context}\\n\\n{memory}\\n\\nQuestion:{question}\",\n",
        "            },\n",
        "        ],\n",
        "    )\n",
        "    answer = completion.choices[0].message.content\n",
        "    return {\"memory\": [HumanMessage(content=context), AIMessage(content=answer)]}"
      ]
    },
    {
      "cell_type": "markdown",
      "metadata": {
        "id": "z_W0_wjmupb4"
      },
      "source": [
        "## Step 8: Define conditional edges\n",
        "\n",
        "Conditional edges in LangGraph decide which node in the graph to visit next. Here, we have a single conditional edge to skip filter generation and go directly to the vector search step if no metadata was extracted from the user query."
      ]
    },
    {
      "cell_type": "code",
      "execution_count": null,
      "metadata": {
        "id": "UyG52PLivGfc"
      },
      "outputs": [],
      "source": [
        "def check_metadata_extracted(state: Dict) -> str:\n",
        "    \"\"\"\n",
        "    Check if any metadata is extracted.\n",
        "\n",
        "    Args:\n",
        "        state (Dict): The current graph state\n",
        "\n",
        "    Returns:\n",
        "        str: Binary decision for next node to call\n",
        "    \"\"\"\n",
        "\n",
        "    print(\"---CHECK FOR METADATA---\")\n",
        "    metadata = state[\"metadata\"]\n",
        "    # If no metadata is extracted, skip the generate filter step\n",
        "    if not metadata:\n",
        "        print(\"---DECISION: SKIP TO VECTOR SEARCH---\")\n",
        "        return \"vector_search\"\n",
        "    # If metadata is extracted, generate filter definition\n",
        "    print(\"---DECISION: GENERATE FILTER---\")\n",
        "    return \"generate_filter\""
      ]
    },
    {
      "cell_type": "markdown",
      "metadata": {
        "id": "u4_Kx9X_vJ1m"
      },
      "source": [
        "## Step 9: Build the graph/flow\n",
        "\n",
        "This is where we actually define the flow of the graph by connecting nodes to edges."
      ]
    },
    {
      "cell_type": "code",
      "execution_count": null,
      "metadata": {
        "id": "LeEusekIvIXZ"
      },
      "outputs": [],
      "source": [
        "from IPython.display import Image, display\n",
        "from langgraph.checkpoint.memory import MemorySaver\n",
        "from langgraph.graph import END, START, StateGraph"
      ]
    },
    {
      "cell_type": "code",
      "execution_count": null,
      "metadata": {
        "id": "2fuGB9c7vZWp"
      },
      "outputs": [],
      "source": [
        "workflow = StateGraph(GraphState)\n",
        "# Adding memory to the graph\n",
        "memory = MemorySaver()"
      ]
    },
    {
      "cell_type": "code",
      "execution_count": null,
      "metadata": {
        "id": "6FG5Kb7Zva2r"
      },
      "outputs": [],
      "source": [
        "# Add nodes\n",
        "workflow.add_node(\"extract_metadata\", extract_metadata)\n",
        "workflow.add_node(\"generate_filter\", generate_filter)\n",
        "workflow.add_node(\"vector_search\", vector_search)\n",
        "workflow.add_node(\"generate_answer\", generate_answer)\n",
        "\n",
        "# Add edges\n",
        "workflow.add_edge(START, \"extract_metadata\")\n",
        "workflow.add_conditional_edges(\n",
        "    \"extract_metadata\",\n",
        "    check_metadata_extracted,\n",
        "    {\n",
        "        \"vector_search\": \"vector_search\",\n",
        "        \"generate_filter\": \"generate_filter\",\n",
        "    },\n",
        ")\n",
        "workflow.add_edge(\"generate_filter\", \"vector_search\")\n",
        "workflow.add_edge(\"vector_search\", \"generate_answer\")\n",
        "workflow.add_edge(\"generate_answer\", END)\n",
        "\n",
        "# Compile the graph\n",
        "app = workflow.compile(checkpointer=memory)"
      ]
    },
    {
      "cell_type": "code",
      "execution_count": 44,
      "metadata": {
        "id": "Q1DWV6davdvC",
        "outputId": "7f3517fd-571a-4cff-b895-917e6f861ab9"
      },
      "outputs": [
        {
          "data": {
            "image/jpeg": "[encoded data removed]",
            "text/plain": [
              "<IPython.core.display.Image object>"
            ]
          },
          "metadata": {},
          "output_type": "display_data"
        }
      ],
      "source": [
        "try:\n",
        "    display(Image(app.get_graph().draw_mermaid_png()))\n",
        "except Exception:\n",
        "    # This requires some extra dependencies and is optional\n",
        "    pass"
      ]
    },
    {
      "cell_type": "markdown",
      "metadata": {
        "id": "3-edfZVbzaso"
      },
      "source": [
        "## Step 10: Execute the graph"
      ]
    },
    {
      "cell_type": "code",
      "execution_count": null,
      "metadata": {
        "id": "5MUXBSpPvekk"
      },
      "outputs": [],
      "source": [
        "def execute_graph(thread_id: str, question: str) -> None:\n",
        "    \"\"\"\n",
        "    Execute the graph and stream its output\n",
        "\n",
        "    Args:\n",
        "        thread_id (str): Conversation thread ID\n",
        "        question (str): User question\n",
        "    \"\"\"\n",
        "    # Add question to the question and memory attributes of the graph state\n",
        "    inputs = {\"question\": question, \"memory\": [HumanMessage(content=question)]}\n",
        "    config = {\"configurable\": {\"thread_id\": thread_id}}\n",
        "    # Stream outputs as they come\n",
        "    for output in app.stream(inputs, config):\n",
        "        for key, value in output.items():\n",
        "            print(f\"Node {key}:\")\n",
        "            print(value)\n",
        "    print(\"---FINAL ANSWER---\")\n",
        "    print(value[\"memory\"][-1].content)"
      ]
    },
    {
      "cell_type": "code",
      "execution_count": 41,
      "metadata": {
        "id": "nG3VBRyTzaso",
        "outputId": "77bb5c56-f118-4bea-d5b9-7dcb9b038b25"
      },
      "outputs": [
        {
          "name": "stdout",
          "output_type": "stream",
          "text": [
            "---EXTRACTING METADATA---\n",
            "---CHECK FOR METADATA---\n",
            "---DECISION: GENERATE FILTER---\n",
            "Node extract_metadata:\n",
            "{'metadata': {'metadata.custom_metadata.company': ['WALMART INC.'], 'metadata.custom_metadata.year': ['2023']}}\n",
            "---GENERATING FILTER DEFINITION---\n",
            "Node generate_filter:\n",
            "{'filter': {'$and': [{'metadata.custom_metadata.company': {'$eq': 'WALMART INC.'}}, {'metadata.custom_metadata.year': {'$eq': 2023}}]}}\n",
            "---PERFORMING VECTOR SEARCH---\n",
            "Node vector_search:\n",
            "{'context': 'DOCUMENTS INCORPORATED BY REFERENCE\\n\\nDocument Portions of the registrant\\'s Proxy Statement for the Annual Meeting of Shareholders to be held May 31, 2023 (the \"Proxy Statement\")\\n\\nParts Into Which Incorporated Part III\\n\\nWalmart Inc. Form 10-K For the Fiscal Year Ended January 31, 2023\\n\\nTable of Contents\\n\\nWALMART INC. ANNUAL REPORT ON FORM 10-K FOR THE FISCAL YEAR ENDED JANUARY 31, 2023\\n\\nAll references in this Annual Report on Form 10-K, the information incorporated into this Annual Report on Form 10-K by reference to information in the Proxy Statement of Walmart Inc. for its Annual Shareholders\\' Meeting to be held on May 31, 2023 and in the exhibits to this Annual Report on Form 10-K to \"Walmart Inc.,\" \"Walmart,\" \"the Company,\" \"our Company,\" \"we,\" \"us\" and \"our\" are to the Delaware corporation named \"Walmart Inc.\" and, except where expressly noted otherwise or the context otherwise requires, that corporation\\'s consolidated subsidiaries.\\n\\nPART I\\n\\nWalmart International includes numerous formats divided into two major categories: retail and wholesale. These categories consist of many formats, including: supercenters, supermarkets, hypermarkets, warehouse clubs (including Sam\\'s Clubs) and cash & carry, as well as eCommerce through walmart.com.mx, walmart.ca, flipkart.com, walmart.cn and other sites. Walmart International had net sales of $101.0 billion for fiscal 2023, representing 17% of our fiscal 2023 consolidated net sales, and had net sales of $101.0 billion and $121.4 billion for fiscal 2022 and 2021, respectively. The gross profit rate is lower than that of Walmart U.S. primarily because of its format mix.\\n\\nWalmart International\\'s strategy is to create strong local businesses powered by Walmart which means being locally relevant and customer-focused in each of the markets it operates. We are being deliberate about where and how we choose to operate and continue to re-shape the portfolio to best enable long-term, sustainable and profitable growth. As such, we have taken certain strategic actions to strengthen our Walmart International portfolio for the long-term, which include the following highlights over the last three years:\\n\\nDivested of Walmart Argentina in November 2020.\\n\\nDivested of Asda Group Limited (\"Asda\"), our retail operations in the U.K., in February 2021.\\n\\nDivested of a majority stake in Seiyu, our retail operations in Japan, in March 2021.\\n\\nOmni-channel. Walmart U.S. provides an omni-channel experience to customers, integrating retail stores and eCommerce, through services such as pickup and delivery, in-home delivery, ship-from-store, and digital pharmacy fulfillment options. As of January 31, 2023, we had more than 4,600 pickup locations and more than 3,900 same-day delivery locations. Our Walmart+ membership offering provides enhanced omni-channel shopping benefits including unlimited free shipping on eligible items with no order minimum, unlimited delivery from store, fuel discounts, access to Paramount+ streaming service, and mobile scan & go for a streamlined in-store shopping experience. We have several eCommerce websites, the largest of which is walmart.com. We define eCommerce sales as sales initiated by customers digitally and fulfilled by a number of methods including our dedicated eCommerce fulfillment centers and leveraging our stores, as well as certain other business offerings that are part of our flywheel strategy, such as our Walmart Connect advertising business. The following table provides the approximate size of our retail stores as of January 31, 2023:\\n\\nOur strategy is to make every day easier for busy families, operate with discipline, sharpen our culture and become more digital, and make trust a competitive advantage. Making life easier for busy families includes our commitment to price leadership, which has been and will remain a cornerstone of our business, as well as increasing convenience to save our customers time. By leading on price, we earn the trust of our customers every day by providing a broad assortment of quality merchandise and services at everyday low prices (\"EDLP\"). EDLP is our pricing philosophy under which we price items at a low price every day so our customers trust that our prices will not change under frequent promotional activity. Everyday low cost (\"EDLC\") is our commitment to control expenses so our cost savings can be passed along to our customers.\\n\\nOur operations comprise three reportable segments: Walmart U.S., Walmart International and Sam\\'s Club. Our fiscal year ends on January 31 for our United States (\"U.S.\") and Canadian operations. We consolidate all other operations generally using a one-month lag and on a calendar year basis. Our discussion is as of and for the fiscal years ended January 31, 2023 (\"fiscal 2023\"), January 31, 2022 (\"fiscal 2022\") and January 31, 2021 (\"fiscal 2021\"). During fiscal 2023, we generated total revenues of $611.3 billion, which was comprised primarily of net sales of $605.9 billion.'}\n",
            "---GENERATING THE ANSWER---\n",
            "Node generate_answer:\n",
            "{'memory': [HumanMessage(content='DOCUMENTS INCORPORATED BY REFERENCE\\n\\nDocument Portions of the registrant\\'s Proxy Statement for the Annual Meeting of Shareholders to be held May 31, 2023 (the \"Proxy Statement\")\\n\\nParts Into Which Incorporated Part III\\n\\nWalmart Inc. Form 10-K For the Fiscal Year Ended January 31, 2023\\n\\nTable of Contents\\n\\nWALMART INC. ANNUAL REPORT ON FORM 10-K FOR THE FISCAL YEAR ENDED JANUARY 31, 2023\\n\\nAll references in this Annual Report on Form 10-K, the information incorporated into this Annual Report on Form 10-K by reference to information in the Proxy Statement of Walmart Inc. for its Annual Shareholders\\' Meeting to be held on May 31, 2023 and in the exhibits to this Annual Report on Form 10-K to \"Walmart Inc.,\" \"Walmart,\" \"the Company,\" \"our Company,\" \"we,\" \"us\" and \"our\" are to the Delaware corporation named \"Walmart Inc.\" and, except where expressly noted otherwise or the context otherwise requires, that corporation\\'s consolidated subsidiaries.\\n\\nPART I\\n\\nWalmart International includes numerous formats divided into two major categories: retail and wholesale. These categories consist of many formats, including: supercenters, supermarkets, hypermarkets, warehouse clubs (including Sam\\'s Clubs) and cash & carry, as well as eCommerce through walmart.com.mx, walmart.ca, flipkart.com, walmart.cn and other sites. Walmart International had net sales of $101.0 billion for fiscal 2023, representing 17% of our fiscal 2023 consolidated net sales, and had net sales of $101.0 billion and $121.4 billion for fiscal 2022 and 2021, respectively. The gross profit rate is lower than that of Walmart U.S. primarily because of its format mix.\\n\\nWalmart International\\'s strategy is to create strong local businesses powered by Walmart which means being locally relevant and customer-focused in each of the markets it operates. We are being deliberate about where and how we choose to operate and continue to re-shape the portfolio to best enable long-term, sustainable and profitable growth. As such, we have taken certain strategic actions to strengthen our Walmart International portfolio for the long-term, which include the following highlights over the last three years:\\n\\nDivested of Walmart Argentina in November 2020.\\n\\nDivested of Asda Group Limited (\"Asda\"), our retail operations in the U.K., in February 2021.\\n\\nDivested of a majority stake in Seiyu, our retail operations in Japan, in March 2021.\\n\\nOmni-channel. Walmart U.S. provides an omni-channel experience to customers, integrating retail stores and eCommerce, through services such as pickup and delivery, in-home delivery, ship-from-store, and digital pharmacy fulfillment options. As of January 31, 2023, we had more than 4,600 pickup locations and more than 3,900 same-day delivery locations. Our Walmart+ membership offering provides enhanced omni-channel shopping benefits including unlimited free shipping on eligible items with no order minimum, unlimited delivery from store, fuel discounts, access to Paramount+ streaming service, and mobile scan & go for a streamlined in-store shopping experience. We have several eCommerce websites, the largest of which is walmart.com. We define eCommerce sales as sales initiated by customers digitally and fulfilled by a number of methods including our dedicated eCommerce fulfillment centers and leveraging our stores, as well as certain other business offerings that are part of our flywheel strategy, such as our Walmart Connect advertising business. The following table provides the approximate size of our retail stores as of January 31, 2023:\\n\\nOur strategy is to make every day easier for busy families, operate with discipline, sharpen our culture and become more digital, and make trust a competitive advantage. Making life easier for busy families includes our commitment to price leadership, which has been and will remain a cornerstone of our business, as well as increasing convenience to save our customers time. By leading on price, we earn the trust of our customers every day by providing a broad assortment of quality merchandise and services at everyday low prices (\"EDLP\"). EDLP is our pricing philosophy under which we price items at a low price every day so our customers trust that our prices will not change under frequent promotional activity. Everyday low cost (\"EDLC\") is our commitment to control expenses so our cost savings can be passed along to our customers.\\n\\nOur operations comprise three reportable segments: Walmart U.S., Walmart International and Sam\\'s Club. Our fiscal year ends on January 31 for our United States (\"U.S.\") and Canadian operations. We consolidate all other operations generally using a one-month lag and on a calendar year basis. Our discussion is as of and for the fiscal years ended January 31, 2023 (\"fiscal 2023\"), January 31, 2022 (\"fiscal 2022\") and January 31, 2021 (\"fiscal 2021\"). During fiscal 2023, we generated total revenues of $611.3 billion, which was comprised primarily of net sales of $605.9 billion.'), AIMessage(content='During fiscal 2023, Walmart generated total revenues of $611.3 billion, primarily comprised of net sales of $605.9 billion. Walmart International had net sales of $101.0 billion, representing 17% of the fiscal 2023 consolidated net sales.')]}\n",
            "---FINAL ANSWER---\n",
            "During fiscal 2023, Walmart generated total revenues of $611.3 billion, primarily comprised of net sales of $605.9 billion. Walmart International had net sales of $101.0 billion, representing 17% of the fiscal 2023 consolidated net sales.\n"
          ]
        }
      ],
      "source": [
        "execute_graph(\"1\", \"Sales summary for Walmart for 2023.\")"
      ]
    },
    {
      "cell_type": "code",
      "execution_count": 42,
      "metadata": {
        "id": "bNpHPPdozaso",
        "outputId": "9f5af9a4-61b5-485b-ce77-2d9793dfbbda",
        "scrolled": true
      },
      "outputs": [
        {
          "name": "stdout",
          "output_type": "stream",
          "text": [
            "---EXTRACTING METADATA---\n",
            "---CHECK FOR METADATA---\n",
            "---DECISION: SKIP TO VECTOR SEARCH---\n",
            "Node extract_metadata:\n",
            "{'metadata': {}}\n",
            "---PERFORMING VECTOR SEARCH---\n",
            "Node vector_search:\n",
            "{'context': ''}\n",
            "---GENERATING THE ANSWER---\n",
            "Node generate_answer:\n",
            "{'memory': [HumanMessage(content=''), AIMessage(content='You asked for the sales summary for Walmart for 2023.')]}\n",
            "---FINAL ANSWER---\n",
            "You asked for the sales summary for Walmart for 2023.\n"
          ]
        }
      ],
      "source": [
        "execute_graph(\"1\", \"What did I just ask you?\")"
      ]
    },
    {
      "cell_type": "code",
      "execution_count": 43,
      "metadata": {
        "id": "h8zPMULbzaso",
        "outputId": "a6b6484b-fbf3-43d9-b6bc-dc51abc7038d"
      },
      "outputs": [
        {
          "name": "stdout",
          "output_type": "stream",
          "text": [
            "---EXTRACTING METADATA---\n",
            "---CHECK FOR METADATA---\n",
            "---DECISION: SKIP TO VECTOR SEARCH---\n",
            "Node extract_metadata:\n",
            "{'metadata': {}}\n",
            "---PERFORMING VECTOR SEARCH---\n",
            "Node vector_search:\n",
            "{'context': ''}\n",
            "---GENERATING THE ANSWER---\n",
            "Node generate_answer:\n",
            "{'memory': [HumanMessage(content=''), AIMessage(content=\"I DON'T KNOW\")]}\n",
            "---FINAL ANSWER---\n",
            "I DON'T KNOW\n"
          ]
        }
      ],
      "source": [
        "execute_graph(\"1\", \"What's my name?\")"
      ]
    }
  ],
  "metadata": {
    "colab": {
      "provenance": []
    },
    "kernelspec": {
      "display_name": "Python 3 (ipykernel)",
      "language": "python",
      "name": "python3"
    },
    "language_info": {
      "codemirror_mode": {
        "name": "ipython",
        "version": 3
      },
      "file_extension": ".py",
      "mimetype": "text/x-python",
      "name": "python",
      "nbconvert_exporter": "python",
      "pygments_lexer": "ipython3",
      "version": "3.12.1"
    },
    "widgets": {
      "application/vnd.jupyter.widget-state+json": {
        "state": {}
      }
    }
  },
  "nbformat": 4,
  "nbformat_minor": 4
}
