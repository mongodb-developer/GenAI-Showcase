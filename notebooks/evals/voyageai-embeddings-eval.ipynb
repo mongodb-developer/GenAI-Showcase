{
  "cells": [
    {
      "cell_type": "markdown",
      "id": "eb32f974",
      "metadata": {},
      "source": [
        "[![Open In Colab](https://colab.research.google.com/assets/colab-badge.svg)](https://colab.research.google.com/github/mongodb-developer/GenAI-Showcase/blob/main/notebooks/evals/voyageai-embeddings-eval.ipynb)\n",
        "\n",
        "[![View Article](https://img.shields.io/badge/View%20Article-blue)](https://www.mongodb.com/developer/products/atlas/choose-embedding-model-rag/?utm_campaign=devrel&utm_source=cross-post&utm_medium=organic_social&utm_content=https%3A%2F%2Fgithub.com%2Fmongodb-developer%2FGenAI-Showcase&utm_term=apoorva.joshi)"
      ]
    },
    {
      "cell_type": "markdown",
      "id": "39b4d49e-31a1-4093-9255-9cb8e6f96b0d",
      "metadata": {
        "tags": []
      },
      "source": [
        "# How to choose the right embedding model for your RAG application\n",
        "\n",
        "This notebook evaluates the [voyage-3-large](https://docs.voyageai.com/embeddings/) model.\n"
      ]
    },
    {
      "cell_type": "markdown",
      "id": "f3a115b9-68e5-44f7-9ea7-fff56bc9ee59",
      "metadata": {},
      "source": [
        "## Step 1: Install required libraries\n",
        "\n",
        "- **datasets**: Python library to get access to datasets available on Hugging Face Hub\n",
        "- **voyageai**: Python library to interact with Voyage AI's APIs\n",
        "- **numpy**: Python library that provides tools to perform mathematical operations on arrays\n",
        "- **pandas**: Python library for data analysis, exploration and manipulation\n",
        "- **tdqm**: Python module to show a progress bar for loops\n"
      ]
    },
    {
      "cell_type": "code",
      "execution_count": 19,
      "id": "a999fe13-3eee-4fd8-a9fd-0f2f37171ed3",
      "metadata": {
        "tags": []
      },
      "outputs": [],
      "source": [
        "! pip install -qU datasets voyageai numpy pandas tqdm"
      ]
    },
    {
      "cell_type": "markdown",
      "id": "87bd8b3e-984b-4dff-bd7f-615e577a9ef8",
      "metadata": {},
      "source": [
        "## Step 2: Setup pre-requisites\n",
        "\n",
        "Set the Voyage API key as an environment variable, and initialize the Voyage AI client.\n",
        "\n",
        "Steps to obtain a Voyage AI API Key can be found [here](https://docs.voyageai.com/docs/api-key-and-installation#authentication-with-api-keys).\n"
      ]
    },
    {
      "cell_type": "code",
      "execution_count": 2,
      "id": "f62e40d3-852c-4abf-9151-875a1d32e93e",
      "metadata": {},
      "outputs": [],
      "source": [
        "import getpass\n",
        "import os\n",
        "\n",
        "import voyageai"
      ]
    },
    {
      "cell_type": "code",
      "execution_count": 4,
      "id": "a8e8bcde-c242-4641-a7c8-5f69c60d021e",
      "metadata": {},
      "outputs": [
        {
          "name": "stdin",
          "output_type": "stream",
          "text": [
            "Voyage API Key: ········\n"
          ]
        }
      ],
      "source": [
        "os.environ[\"VOYAGE_API_KEY\"] = getpass.getpass(\"Voyage API Key:\")\n",
        "voyage_client = voyageai.Client()"
      ]
    },
    {
      "cell_type": "markdown",
      "id": "b5a99a68-a7d2-4657-8f05-ea75f19b6748",
      "metadata": {},
      "source": [
        "## Step 3: Download the evaluation dataset\n",
        "\n",
        "We will use MongoDB's [cosmopedia-wikihow-chunked](https://huggingface.co/datasets/MongoDB/cosmopedia-wikihow-chunked) dataset, which has chunked versions of WikiHow articles from the [Cosmopedia](https://huggingface.co/datasets/HuggingFaceTB/cosmopedia) dataset released by Hugging Face. The dataset is pretty large, so we will only grab the first 25k records for testing.\n"
      ]
    },
    {
      "cell_type": "code",
      "execution_count": 6,
      "id": "7862e2db-fec8-4294-ad75-9753e69adc1a",
      "metadata": {},
      "outputs": [],
      "source": [
        "import pandas as pd\n",
        "from datasets import load_dataset\n",
        "\n",
        "# Use streaming=True to load the dataset without downloading it fully\n",
        "data = load_dataset(\"MongoDB/cosmopedia-wikihow-chunked\", split=\"train\", streaming=True)\n",
        "# Get first 25k records from the dataset\n",
        "data_head = data.take(25000)\n",
        "df = pd.DataFrame(data_head)\n",
        "\n",
        "# Use this if you want the full dataset\n",
        "# data = load_dataset(\"AIatMongoDB/cosmopedia-wikihow-chunked\", split=\"train\")\n",
        "# df = pd.DataFrame(data)"
      ]
    },
    {
      "cell_type": "markdown",
      "id": "70d329bc-cdb7-4651-bef0-8d2ae09d9e4b",
      "metadata": {},
      "source": [
        "## Step 4: Data analysis\n",
        "\n",
        "Make sure the length of the dataset is what we expect (25k), preview the data, drop Nones etc.\n"
      ]
    },
    {
      "cell_type": "code",
      "execution_count": 7,
      "id": "39c0f32d-c6f7-4faa-92e1-fae25e9eb2ba",
      "metadata": {},
      "outputs": [
        {
          "data": {
            "text/plain": [
              "25000"
            ]
          },
          "execution_count": 7,
          "metadata": {},
          "output_type": "execute_result"
        }
      ],
      "source": [
        "# Ensuring length of dataset is what we expect i.e. 25k\n",
        "len(df)"
      ]
    },
    {
      "cell_type": "code",
      "execution_count": 8,
      "id": "6782ab49-3d9d-4f67-8b33-474f02b7e993",
      "metadata": {},
      "outputs": [
        {
          "data": {
            "text/html": [
              "<div>\n",
              "<style scoped>\n",
              "    .dataframe tbody tr th:only-of-type {\n",
              "        vertical-align: middle;\n",
              "    }\n",
              "\n",
              "    .dataframe tbody tr th {\n",
              "        vertical-align: top;\n",
              "    }\n",
              "\n",
              "    .dataframe thead th {\n",
              "        text-align: right;\n",
              "    }\n",
              "</style>\n",
              "<table border=\"1\" class=\"dataframe\">\n",
              "  <thead>\n",
              "    <tr style=\"text-align: right;\">\n",
              "      <th></th>\n",
              "      <th>doc_id</th>\n",
              "      <th>chunk_id</th>\n",
              "      <th>text_token_length</th>\n",
              "      <th>text</th>\n",
              "    </tr>\n",
              "  </thead>\n",
              "  <tbody>\n",
              "    <tr>\n",
              "      <th>0</th>\n",
              "      <td>0</td>\n",
              "      <td>0</td>\n",
              "      <td>180</td>\n",
              "      <td>Title: How to Create and Maintain a Compost Pi...</td>\n",
              "    </tr>\n",
              "    <tr>\n",
              "      <th>1</th>\n",
              "      <td>0</td>\n",
              "      <td>1</td>\n",
              "      <td>141</td>\n",
              "      <td>**Step 2: Gather Materials**\\nGather brown (ca...</td>\n",
              "    </tr>\n",
              "    <tr>\n",
              "      <th>2</th>\n",
              "      <td>0</td>\n",
              "      <td>2</td>\n",
              "      <td>182</td>\n",
              "      <td>_Key guideline:_ For every volume of green mat...</td>\n",
              "    </tr>\n",
              "    <tr>\n",
              "      <th>3</th>\n",
              "      <td>0</td>\n",
              "      <td>3</td>\n",
              "      <td>188</td>\n",
              "      <td>_Key tip:_ Chop large items like branches and ...</td>\n",
              "    </tr>\n",
              "    <tr>\n",
              "      <th>4</th>\n",
              "      <td>0</td>\n",
              "      <td>4</td>\n",
              "      <td>157</td>\n",
              "      <td>**Step 7: Maturation and Use**\\nAfter 3-4 mont...</td>\n",
              "    </tr>\n",
              "  </tbody>\n",
              "</table>\n",
              "</div>"
            ],
            "text/plain": [
              "   doc_id  chunk_id  text_token_length  \\\n",
              "0       0         0                180   \n",
              "1       0         1                141   \n",
              "2       0         2                182   \n",
              "3       0         3                188   \n",
              "4       0         4                157   \n",
              "\n",
              "                                                text  \n",
              "0  Title: How to Create and Maintain a Compost Pi...  \n",
              "1  **Step 2: Gather Materials**\\nGather brown (ca...  \n",
              "2  _Key guideline:_ For every volume of green mat...  \n",
              "3  _Key tip:_ Chop large items like branches and ...  \n",
              "4  **Step 7: Maturation and Use**\\nAfter 3-4 mont...  "
            ]
          },
          "execution_count": 8,
          "metadata": {},
          "output_type": "execute_result"
        }
      ],
      "source": [
        "# Previewing the contents of the data\n",
        "df.head()"
      ]
    },
    {
      "cell_type": "code",
      "execution_count": 9,
      "id": "04563eaf-bbd8-4969-9671-eb5312817402",
      "metadata": {},
      "outputs": [],
      "source": [
        "# Only keep records where the text field is not null\n",
        "df = df[df[\"text\"].notna()]"
      ]
    },
    {
      "cell_type": "code",
      "execution_count": 10,
      "id": "cd5a91c3-2f68-4157-a747-05bbc934d53a",
      "metadata": {},
      "outputs": [
        {
          "data": {
            "text/plain": [
              "4335"
            ]
          },
          "execution_count": 10,
          "metadata": {},
          "output_type": "execute_result"
        }
      ],
      "source": [
        "# Number of unique documents in the dataset\n",
        "df.doc_id.nunique()"
      ]
    },
    {
      "cell_type": "markdown",
      "id": "0400259f-65ca-4301-a245-7af0b746abf1",
      "metadata": {},
      "source": [
        "## Step 5: Creating embeddings\n",
        "\n",
        "Define the embedding function, and run a quick test.\n"
      ]
    },
    {
      "cell_type": "code",
      "execution_count": 11,
      "id": "3d936743-f18b-410e-8397-c0acf9c61a5e",
      "metadata": {},
      "outputs": [],
      "source": [
        "from typing import List"
      ]
    },
    {
      "cell_type": "code",
      "execution_count": 12,
      "id": "bda20d74-7296-40df-ab19-ea63a5b47e6d",
      "metadata": {},
      "outputs": [],
      "source": [
        "def get_embeddings(docs: List[str], input_type: str) -> List[List[float]]:\n",
        "    \"\"\"\n",
        "    Get embeddings using the Voyage AI API.\n",
        "\n",
        "    Args:\n",
        "        docs (List[str]): List of texts to embed\n",
        "        input_type (str): Type of input to embed. Can be \"document\" or \"query\".\n",
        "\n",
        "    Returns:\n",
        "        List[List[float]]: Array of embedddings\n",
        "    \"\"\"\n",
        "    response = voyage_client.embed(docs, model=\"voyage-3-large\", input_type=input_type)\n",
        "    return response.embeddings"
      ]
    },
    {
      "cell_type": "code",
      "execution_count": 13,
      "id": "0da5f1da-f4bd-4551-871e-350d44ed0d31",
      "metadata": {},
      "outputs": [],
      "source": [
        "# Generating a test embedding\n",
        "test_voyageai_embed = get_embeddings([df.iloc[0][\"text\"]], \"document\")"
      ]
    },
    {
      "cell_type": "code",
      "execution_count": 14,
      "id": "a3f8cd22-d3e7-45cb-abe1-4993208f1391",
      "metadata": {},
      "outputs": [
        {
          "data": {
            "text/plain": [
              "1024"
            ]
          },
          "execution_count": 14,
          "metadata": {},
          "output_type": "execute_result"
        }
      ],
      "source": [
        "# Sanity check to make sure embedding dimensions are as expected i.e. 1024\n",
        "len(test_voyageai_embed[0])"
      ]
    },
    {
      "cell_type": "markdown",
      "id": "17d7c15a-8d3e-4680-acf1-a61a5be5c998",
      "metadata": {},
      "source": [
        "## Step 6: Evaluation\n"
      ]
    },
    {
      "cell_type": "markdown",
      "id": "62b14e37",
      "metadata": {},
      "source": [
        "### Measuring embedding latency\n",
        "\n",
        "Create a local vector store (list) of embeddings for the entire dataset.\n"
      ]
    },
    {
      "cell_type": "code",
      "execution_count": 15,
      "id": "76e0e043-dea1-4fb7-a779-6aeba0c690e4",
      "metadata": {},
      "outputs": [],
      "source": [
        "from tqdm.auto import tqdm"
      ]
    },
    {
      "cell_type": "code",
      "execution_count": 16,
      "id": "9e0c475e-8f36-4183-997f-c13b2320b280",
      "metadata": {},
      "outputs": [],
      "source": [
        "texts = df[\"text\"].tolist()"
      ]
    },
    {
      "cell_type": "code",
      "execution_count": 29,
      "id": "d793b764-88ec-4bb6-ae71-52dd06791128",
      "metadata": {},
      "outputs": [],
      "source": [
        "batch_size = 100"
      ]
    },
    {
      "cell_type": "code",
      "execution_count": 30,
      "id": "501dc5a1-daed-4ae9-a246-b388b0698e22",
      "metadata": {},
      "outputs": [
        {
          "data": {
            "application/vnd.jupyter.widget-view+json": {
              "model_id": "e9c7f77f90614d11b1f3f8574ef8d763",
              "version_major": 2,
              "version_minor": 0
            },
            "text/plain": [
              "  0%|          | 0/250 [00:00<?, ?it/s]"
            ]
          },
          "metadata": {},
          "output_type": "display_data"
        }
      ],
      "source": [
        "embeddings = []\n",
        "# Generate embeddings in batches\n",
        "for i in tqdm(range(0, len(texts), batch_size)):\n",
        "    end = min(len(texts), i + batch_size)\n",
        "    batch = texts[i:end]\n",
        "    # Generate embeddings for current batch\n",
        "    batch_embeddings = get_embeddings(batch, \"document\")\n",
        "    # Add to the list of embeddings\n",
        "    embeddings.extend(batch_embeddings)"
      ]
    },
    {
      "cell_type": "markdown",
      "id": "3918f00e-b31f-4225-80fd-1761fbf3a3d2",
      "metadata": {},
      "source": [
        "### Measuring retrieval quality\n",
        "\n",
        "- Create embedding for the user query\n",
        "- Get the top 5 most similar documents from the local vector store using cosine similarity as the similarity metric\n"
      ]
    },
    {
      "cell_type": "code",
      "execution_count": 20,
      "id": "7fa4806b-7311-4516-aea2-a71230c4f571",
      "metadata": {},
      "outputs": [],
      "source": [
        "import numpy as np\n",
        "from sentence_transformers.util import cos_sim"
      ]
    },
    {
      "cell_type": "code",
      "execution_count": 21,
      "id": "ff11c827-5e24-481b-af48-8389b9963bda",
      "metadata": {},
      "outputs": [],
      "source": [
        "# Converting embeddings list to a Numpy array- required to calculate cosine similarity\n",
        "embeddings = np.asarray(embeddings)"
      ]
    },
    {
      "cell_type": "code",
      "execution_count": 22,
      "id": "f9d9c773-896b-4098-8234-fe77360820c9",
      "metadata": {},
      "outputs": [],
      "source": [
        "def query(query: str, top_k: int = 3) -> None:\n",
        "    \"\"\"\n",
        "    Query the local vector store for the top 3 most relevant documents.\n",
        "\n",
        "    Args:\n",
        "        query (str): User query\n",
        "        top_k (int, optional): Number of documents to return. Defaults to 3.\n",
        "    \"\"\"\n",
        "    # Generate embedding for the user query\n",
        "    query_emb = np.asarray(get_embeddings([query], \"query\"))\n",
        "    # Calculate cosine similarity\n",
        "    scores = cos_sim(query_emb, embeddings)[0]\n",
        "    # Get indices of the top k records\n",
        "    idxs = np.argsort(-scores)[:top_k]\n",
        "\n",
        "    print(f\"Query: {query}\")\n",
        "    for idx in idxs:\n",
        "        print(f\"Score: {scores[idx]:.4f}\")\n",
        "        print(texts[idx])\n",
        "        print(\"--------\")"
      ]
    },
    {
      "cell_type": "code",
      "execution_count": 23,
      "id": "ed8ad9ef-67ad-454d-8fa7-65b1e4a35e03",
      "metadata": {},
      "outputs": [
        {
          "name": "stdout",
          "output_type": "stream",
          "text": [
            "Query: Give me some tips to improve my mental health.\n",
            "Score: 0.7637\n",
            "Key Tip: Be honest with yourself about your feelings; acknowledging them is the first step toward addressing them.\n",
            "\n",
            "Step 2: Practice Self-Care\n",
            "Self-care is an essential aspect of maintaining mental wellbeing. Engage in activities that make you feel good about yourself, both physically and emotionally. Here are some self-care ideas:\n",
            "\n",
            "* Take a warm bath or shower\n",
            "* Put on comfortable clothes\n",
            "* Prepare a nutritious meal\n",
            "* Exercise (even a short walk can be beneficial)\n",
            "* Get enough sleep\n",
            "* Meditate or practice deep breathing exercises\n",
            "\n",
            "These activities can boost your mood by releasing endorphins, promoting relaxation, and improving overall health.\n",
            "\n",
            "Key Guideline: Make self-care a regular part of your routine, not just something you do when you're feeling low. Consistency is vital for reaping the benefits of self-care.\n",
            "--------\n",
            "Score: 0.7423\n",
            "* Engage in regular physical activity: Physical exercise releases endorphins, which improve mood and reduce anxiety.\n",
            "* Practice relaxation techniques: Techniques like deep breathing, progressive muscle relaxation, meditation, or yoga can help calm your mind and body.\n",
            "* Foster supportive relationships: Surround yourself with individuals who encourage positivity and offer constructive feedback.\n",
            "* Pursue hobbies and interests: Dedicate time to activities that bring you joy and fulfillment.\n",
            "* Set achievable goals: Establish short-term and long-term objectives that challenge you but remain within reach. Accomplishing these aims can boost self-confidence and discourage negative thinking.\n",
            "* Cultivate gratitude: Regularly reflect upon what you're grateful for—big or small. Gratitude fosters optimism and contentment.\n",
            "\n",
            "Key Tip: Schedule specific times during the day to practice these coping mechanisms, ensuring consistency and accountability.\n",
            "--------\n",
            "Score: 0.7402\n",
            "#### Suggestions:\n",
            "\n",
            "1. Exercise regularly to release endorphins and boost mood.\n",
            "2. Prioritize sleep to ensure adequate rest and recovery.\n",
            "3. Connect with friends, family members, or mental health professionals for support and encouragement.\n",
            "--------\n"
          ]
        }
      ],
      "source": [
        "query(\"Give me some tips to improve my mental health.\")"
      ]
    },
    {
      "cell_type": "code",
      "execution_count": 24,
      "id": "e0e9e8dc",
      "metadata": {},
      "outputs": [
        {
          "name": "stdout",
          "output_type": "stream",
          "text": [
            "Query: Give me some tips for writing good code.\n",
            "Score: 0.6608\n",
            "Step 6: Improve Code Quality\n",
            "Strive for clean, readable, maintainable code. Adopt consistent naming conventions, indentation styles, and formatting rules. Utilize version control systems like Git to track changes and collaborate effectively. Leverage linters and static analyzers to enforce style guides automatically. Document your work using comments and dedicated documentation tools. High-quality code facilitates collaboration, promotes longevity, and simplifies troubleshooting.\n",
            "\n",
            "Step 7: Embrace Best Practices\n",
            "Follow established best practices relevant to your chosen language and domain. Examples include Object-Oriented Design Principles, SOLID principles, Test-Driven Development (TDD), Dependency Injection, Asynchronous Programming, etc. While seemingly overwhelming initially, integrating them gradually enhances design patterns, scalability, and extensibility. Consult authoritative blogs, books, and articles to stay updated on current trends and recommendations.\n",
            "--------\n",
            "Score: 0.5904\n",
            "### Step 3: Establish consistent nomenclature\n",
            "\n",
            "Nomenclature refers to selecting meaningful terms when naming entities. Consistent nomenclature improves understanding and reduces cognitive load. Follow these guidelines when choosing names:\n",
            "\n",
            "* Be descriptive: Names should convey their purpose without requiring additional explanation. For instance, name a function that calculates total sales as `calculateTotalSales()` rather than simply `calcSum()`.\n",
            "* Avoid abbreviations: Unless widely accepted within your industry or organization, avoid abbreviations. If necessary, define them clearly at the beginning of your document or source code.\n",
            "* Use domain-specific terminology: Adopt terms familiar to your target audience. For example, if working on web development projects, use terms like 'router', 'controller', 'view', and so forth.\n",
            "* Reflect hierarchy: When naming nested objects, indicate relationships between parent and child entities. For example, name a folder containing all CSS files as `stylesheets` instead of just `css`.\n",
            "--------\n",
            "Score: 0.5891\n",
            "### Step 5: Enforce naming length restrictions\n",
            "\n",
            "Establish rules governing minimum and maximum character limits for different types of entities. Lengthy names might exhaust visual space, whereas excessively short ones may lack sufficient context. Balance both aspects adhering to the subsequent advice:\n",
            "\n",
            "* Classes and modules: Typically longer, ranging from two to four words. They must provide ample context regarding functionality. Example: `UserAuthenticationService`.\n",
            "* Methods and functions: Generally shorter than classes but still informative. One to three words suffice in most cases. Exceptions exist for complex algorithms demanding elaborate descriptions. Instance: `parseXMLDocument()`.\n",
            "* Variables and parameters: Concise yet expressive monikers work best here. Opt for single words whenever feasible, extending up to two words if needed. Illustration: `userID` or `databaseConnection`.\n",
            "\n",
            "### Step 6: Leverage documentation tools\n",
            "--------\n"
          ]
        }
      ],
      "source": [
        "query(\"Give me some tips for writing good code.\")"
      ]
    },
    {
      "cell_type": "code",
      "execution_count": 25,
      "id": "087fed97",
      "metadata": {},
      "outputs": [
        {
          "name": "stdout",
          "output_type": "stream",
          "text": [
            "Query: How to create a basic webpage?\n",
            "Score: 0.7428\n",
            "Creating a simple webpage with HTML\n",
            "\n",
            "Step 1: Understand What HTML Is\n",
            "HTML (HyperText Markup Language) is the standard markup language used to create web pages. It provides the structure of a webpage, while CSS (Cascading Style Sheets) and JavaScript handle the presentation and functionality respectively.\n",
            "\n",
            "Key Tips and Guidelines:\n",
            "\n",
            "* Familiarize yourself with basic HTML tags such as `<html>`, `<head>`, `<body>`, `<h1>` through `<h6>`, `<p>`, `<a>`, `<img>`, `<div>`, and `<span>`.\n",
            "* Always start an HTML document with a doctype declaration, which informs the browser about the version of HTML being used. For example: `<!DOCTYPE html>`.\n",
            "--------\n",
            "Score: 0.7241\n",
            "Creating a webpage with basic HTML is an exciting endeavor that allows you to share information, showcase your creativity, or build the foundation for a more complex website. This comprehensive guide will walk you through each step required to create a simple yet effective static webpage using HTML (HyperText Markup Language), the standard language used to structure content on the World Wide Web.\n",
            "\n",
            "**Step 1: Choose a Text Editor**\n",
            "\n",
            "Before diving into coding, select a suitable text editor for writing your HTML code. Popular choices include Notepad++ (Windows), Visual Studio Code (cross-platform), Atom (cross-platform), and Sublime Text (cross-platform). These editors offer features such as syntax highlighting, auto-completion, and error detection, making them ideal for beginners and professionals alike.\n",
            "\n",
            "Key tip: Avoid using word processors like Microsoft Word or Google Docs, as they may add unnecessary formatting codes that can interfere with your HTML.\n",
            "\n",
            "**Step 2: Create an HTML Document**\n",
            "--------\n",
            "Score: 0.7095\n",
            "Step 3: Create an HTML Document Skeleton\n",
            "Start by creating the basic structure of your web page. Add the following lines to your new file:\n",
            "```html\n",
            "<!DOCTYPE html>\n",
            "<html lang=\"en\">\n",
            "<head>\n",
            "    <meta charset=\"UTF-8\">\n",
            "    <meta name=\"viewport\" content=\"width=device-width, initial-scale=1.0\">\n",
            "    <title>Document Title</title>\n",
            "</head>\n",
            "<body>\n",
            "    <!-- Content goes here -->\n",
            "</body>\n",
            "</html>\n",
            "```\n",
            "Explanation:\n",
            "--------\n"
          ]
        }
      ],
      "source": [
        "query(\"How to create a basic webpage?\")"
      ]
    },
    {
      "cell_type": "code",
      "execution_count": 26,
      "id": "e48d2fa4",
      "metadata": {},
      "outputs": [
        {
          "name": "stdout",
          "output_type": "stream",
          "text": [
            "Query: What are some environment-friendly practices I can incorporate in everyday life?\n",
            "Score: 0.6941\n",
            "a) Bring reusable bags, containers, utensils, and water bottles when shopping or dining out.\n",
            "b) Purchase items with minimal packaging, prioritize products made from recycled materials, and avoid single-use plastics.\n",
            "c) Participate in composting programs or start composting at home to turn organic waste into nutrient-rich soil amendments.\n",
            "d) Donate unwanted items rather than discarding them, and repurpose household goods when possible.\n",
            "e) Learn about local recycling rules and sort waste accordingly.\n",
            "\n",
            "Key Tip: Familiarize yourself with your city's waste management system to optimize recycling efforts and divert waste from landfills.\n",
            "\n",
            "Step 4: Protect Biodiversity\n",
            "Biodiversity underpins the health and resilience of ecosystems, providing vital services such as pollination, decomposition, pest control, and nutrient cycling. Safeguard biodiversity through the following actions:\n",
            "--------\n",
            "Score: 0.6824\n",
            "Step 6: Conserve Water\n",
            "Install low-flow faucets and showerheads, fix leaks promptly, and turn off taps when not in use. Collect rainwater for gardening. Key tip: Limit showers to five minutes or less and wash full loads of laundry. Guideline: Check local regulations regarding rainwater collection systems.\n",
            "\n",
            "Step 7: Compost Kitchen Scraps\n",
            "Composting reduces landfill waste and enriches soil. Set up a compost bin indoors or outdoors. Key tip: Avoid adding meat, dairy, grease, or diseased plants to prevent pests and odor issues. Guideline: Turn compost regularly to speed decomposition.\n",
            "\n",
            "Step 8: Shop Locally\n",
            "Support farmers markets, community gardens, and CSAs (Community Supported Agriculture) to reduce transportation emissions and promote local economies. Key tip: Bring reusable bags and cash. Guideline: Visit multiple vendors to diversify your purchases.\n",
            "--------\n",
            "Score: 0.6751\n",
            "* **Carry Reusable Bags**: Keep cloth or other reusable shopping bags handy for grocery trips and errands. Store extra bags in your car, purse, or backpack for convenience.\n",
            "* **Choose Sustainable Alternatives**: Opt for reusable water bottles, coffee cups, straws, and cutlery made from eco-friendly materials like stainless steel, glass, silicone, or bamboo.\n",
            "* **Support Businesses that Minimize Packaging**: Patronize establishments that prioritize sustainable practices, such as using biodegradable packaging or offering package-free options.\n",
            "\n",
            "Step 3: Conserve Energy and Water\n",
            "Explanation: Efficient energy and water usage help decrease reliance on nonrenewable resources and lower greenhouse gas emissions.\n",
            "--------\n"
          ]
        }
      ],
      "source": [
        "query(\n",
        "    \"What are some environment-friendly practices I can incorporate in everyday life?\"\n",
        ")"
      ]
    }
  ],
  "metadata": {
    "kernelspec": {
      "display_name": "conda_python3",
      "language": "python",
      "name": "conda_python3"
    },
    "language_info": {
      "codemirror_mode": {
        "name": "ipython",
        "version": 3
      },
      "file_extension": ".py",
      "mimetype": "text/x-python",
      "name": "python",
      "nbconvert_exporter": "python",
      "pygments_lexer": "ipython3",
      "version": "3.10.18"
    },
    "widgets": {
      "application/vnd.jupyter.widget-state+json": {
        "state": {}
      }
    }
  },
  "nbformat": 4,
  "nbformat_minor": 5
}
