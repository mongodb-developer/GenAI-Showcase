{
  "cells": [
    {
      "cell_type": "markdown",
      "id": "1ae07b50",
      "metadata": {},
      "source": [
        "[![Open In Colab](https://colab.research.google.com/assets/colab-badge.svg)](https://colab.research.google.com/github/mongodb-developer/GenAI-Showcase/blob/main/notebooks/evals/ragas-evaluation.ipynb)\n",
        "\n",
        "[![View Article](https://img.shields.io/badge/View%20Article-blue)](https://www.mongodb.com/developer/products/atlas/evaluate-llm-applications-rag/?utm_campaign=devrel&utm_source=cross-post&utm_medium=organic_social&utm_content=https%3A%2F%2Fgithub.com%2Fmongodb-developer%2FGenAI-Showcase&utm_term=apoorva.joshi)\n"
      ]
    },
    {
      "cell_type": "markdown",
      "id": "705420ac",
      "metadata": {},
      "source": [
        "# RAG Series Part 2: How to evaluate your RAG application\n",
        "\n",
        "This notebook shows how to evaluate a RAG application using the [RAGAS](https://docs.ragas.io/en/stable/index.html) framework.\n"
      ]
    },
    {
      "cell_type": "markdown",
      "id": "c666fbf2",
      "metadata": {},
      "source": [
        "## Step 1: Install required libraries\n",
        "\n",
        "- **datasets**: Python library to get access to datasets available on Hugging Face Hub\n",
        "<p>\n",
        "- **ragas**: Python library for the RAGAS framework\n",
        "<p>\n",
        "- **langchain**: Python library to develop LLM applications using LangChain\n",
        "<p>\n",
        "- **langchain-mongodb**: Python package to use MongoDB Atlas vector Search with LangChain\n",
        "<p>\n",
        "- **langchain-openai**: Python package to use OpenAI models in LangChain\n",
        "<p>\n",
        "- **pymongo**: Python driver to interacting with MongoDB\n",
        "<p>\n",
        "- **pandas**: Python library for data analysis, exploration and manipulation\n",
        "<p>\n",
        "- **tdqm**: Python module to show a progress meter for loops\n",
        "<p>\n",
        "- **matplotlib, seaborn**: Python libraries for data visualization\n"
      ]
    },
    {
      "cell_type": "code",
      "execution_count": 13,
      "id": "f973db17",
      "metadata": {},
      "outputs": [],
      "source": [
        "! pip install -qU datasets ragas langchain langchain-mongodb langchain-openai \\\n",
        "pymongo pandas tqdm matplotlib seaborn"
      ]
    },
    {
      "cell_type": "markdown",
      "id": "9e2e9a15",
      "metadata": {},
      "source": [
        "## Step 2: Setup pre-requisites\n"
      ]
    },
    {
      "cell_type": "markdown",
      "id": "5f98e464",
      "metadata": {},
      "source": [
        "- Set the MongoDB connection string. Follow the steps [here](https://www.mongodb.com/docs/manual/reference/connection-string/) to get the connection string from the Atlas UI.\n",
        "\n",
        "- Set the OpenAI API key. Steps to obtain an API key as [here](https://help.openai.com/en/articles/4936850-where-do-i-find-my-openai-api-key)\n"
      ]
    },
    {
      "cell_type": "code",
      "execution_count": 11,
      "id": "5740a5cd",
      "metadata": {},
      "outputs": [],
      "source": [
        "import getpass\n",
        "import os\n",
        "\n",
        "from openai import OpenAI"
      ]
    },
    {
      "cell_type": "code",
      "execution_count": 28,
      "id": "e5c0c3bf",
      "metadata": {},
      "outputs": [
        {
          "name": "stdout",
          "output_type": "stream",
          "text": [
            "Enter your OpenAI API Key:········\n"
          ]
        }
      ],
      "source": [
        "os.environ[\"OPENAI_API_KEY\"] = getpass.getpass(\"Enter your OpenAI API Key:\")\n",
        "openai_client = OpenAI()"
      ]
    },
    {
      "cell_type": "code",
      "execution_count": 12,
      "id": "195b4d1c",
      "metadata": {},
      "outputs": [
        {
          "name": "stdout",
          "output_type": "stream",
          "text": [
            "Enter your MongoDB connection string:········\n"
          ]
        }
      ],
      "source": [
        "MONGODB_URI = getpass.getpass(\"Enter your MongoDB connection string:\")"
      ]
    },
    {
      "cell_type": "markdown",
      "id": "44deb05f",
      "metadata": {},
      "source": [
        "## Step 3: Download the evaluation dataset\n"
      ]
    },
    {
      "cell_type": "code",
      "execution_count": 30,
      "id": "88f1cb10",
      "metadata": {},
      "outputs": [],
      "source": [
        "import pandas as pd\n",
        "from datasets import load_dataset"
      ]
    },
    {
      "cell_type": "code",
      "execution_count": 31,
      "id": "180f3174",
      "metadata": {},
      "outputs": [],
      "source": [
        "data = load_dataset(\"explodinggradients/ragas-wikiqa\", split=\"train\")\n",
        "df = pd.DataFrame(data)"
      ]
    },
    {
      "cell_type": "code",
      "execution_count": 32,
      "id": "7c8a4c61",
      "metadata": {},
      "outputs": [
        {
          "data": {
            "text/html": [
              "<div>\n",
              "<style scoped>\n",
              "    .dataframe tbody tr th:only-of-type {\n",
              "        vertical-align: middle;\n",
              "    }\n",
              "\n",
              "    .dataframe tbody tr th {\n",
              "        vertical-align: top;\n",
              "    }\n",
              "\n",
              "    .dataframe thead th {\n",
              "        text-align: right;\n",
              "    }\n",
              "</style>\n",
              "<table border=\"1\" class=\"dataframe\">\n",
              "  <thead>\n",
              "    <tr style=\"text-align: right;\">\n",
              "      <th></th>\n",
              "      <th>question</th>\n",
              "      <th>correct_answer</th>\n",
              "      <th>incorrect_answer</th>\n",
              "      <th>question_id</th>\n",
              "      <th>generated_with_rag</th>\n",
              "      <th>context</th>\n",
              "      <th>generated_without_rag</th>\n",
              "    </tr>\n",
              "  </thead>\n",
              "  <tbody>\n",
              "    <tr>\n",
              "      <th>0</th>\n",
              "      <td>HOW AFRICAN AMERICANS WERE IMMIGRATED TO THE US</td>\n",
              "      <td>As such, African immigrants are to be distingu...</td>\n",
              "      <td>From the Immigration and Nationality Act of 19...</td>\n",
              "      <td>Q0</td>\n",
              "      <td>\\nAfrican Americans were immigrated to the Uni...</td>\n",
              "      <td>[African immigration to the United States refe...</td>\n",
              "      <td>African Americans were immigrated to the US in...</td>\n",
              "    </tr>\n",
              "  </tbody>\n",
              "</table>\n",
              "</div>"
            ],
            "text/plain": [
              "                                          question  \\\n",
              "0  HOW AFRICAN AMERICANS WERE IMMIGRATED TO THE US   \n",
              "\n",
              "                                      correct_answer  \\\n",
              "0  As such, African immigrants are to be distingu...   \n",
              "\n",
              "                                    incorrect_answer question_id  \\\n",
              "0  From the Immigration and Nationality Act of 19...          Q0   \n",
              "\n",
              "                                  generated_with_rag  \\\n",
              "0  \\nAfrican Americans were immigrated to the Uni...   \n",
              "\n",
              "                                             context  \\\n",
              "0  [African immigration to the United States refe...   \n",
              "\n",
              "                               generated_without_rag  \n",
              "0  African Americans were immigrated to the US in...  "
            ]
          },
          "execution_count": 32,
          "metadata": {},
          "output_type": "execute_result"
        }
      ],
      "source": [
        "df.head(1)"
      ]
    },
    {
      "cell_type": "code",
      "execution_count": 33,
      "id": "7e2228b7",
      "metadata": {},
      "outputs": [
        {
          "data": {
            "text/plain": [
              "232"
            ]
          },
          "execution_count": 33,
          "metadata": {},
          "output_type": "execute_result"
        }
      ],
      "source": [
        "len(df)"
      ]
    },
    {
      "cell_type": "markdown",
      "id": "8abfa781",
      "metadata": {},
      "source": [
        "## Step 4: Create reference document chunks\n"
      ]
    },
    {
      "cell_type": "code",
      "execution_count": 21,
      "id": "fc218dab",
      "metadata": {},
      "outputs": [],
      "source": [
        "from typing import List\n",
        "\n",
        "from langchain.text_splitter import RecursiveCharacterTextSplitter"
      ]
    },
    {
      "cell_type": "code",
      "execution_count": 22,
      "id": "ceed4f01",
      "metadata": {},
      "outputs": [],
      "source": [
        "# Split text by tokens using the tiktoken tokenizer\n",
        "text_splitter = RecursiveCharacterTextSplitter.from_tiktoken_encoder(\n",
        "    encoding_name=\"cl100k_base\", keep_separator=False, chunk_size=200, chunk_overlap=30\n",
        ")"
      ]
    },
    {
      "cell_type": "code",
      "execution_count": 23,
      "id": "417f79e6",
      "metadata": {},
      "outputs": [],
      "source": [
        "def split_texts(texts: List[str]) -> List[str]:\n",
        "    \"\"\"\n",
        "    Split large texts into chunks\n",
        "\n",
        "    Args:\n",
        "        texts (List[str]): List of reference texts\n",
        "\n",
        "    Returns:\n",
        "        List[str]: List of chunked texts\n",
        "    \"\"\"\n",
        "    chunked_texts = []\n",
        "    for text in texts:\n",
        "        chunks = text_splitter.create_documents([text])\n",
        "        chunked_texts.extend([chunk.page_content for chunk in chunks])\n",
        "    return chunked_texts"
      ]
    },
    {
      "cell_type": "code",
      "execution_count": 24,
      "id": "b3116297",
      "metadata": {},
      "outputs": [],
      "source": [
        "# Split the context field into chunks\n",
        "df[\"chunks\"] = df[\"context\"].apply(lambda x: split_texts(x))"
      ]
    },
    {
      "cell_type": "code",
      "execution_count": 25,
      "id": "bc620e35",
      "metadata": {},
      "outputs": [],
      "source": [
        "# Aggregate list of all chunks\n",
        "all_chunks = df[\"chunks\"].tolist()\n",
        "docs = [item for chunk in all_chunks for item in chunk]"
      ]
    },
    {
      "cell_type": "code",
      "execution_count": 29,
      "id": "9c1b9b66",
      "metadata": {},
      "outputs": [
        {
          "data": {
            "text/plain": [
              "3795"
            ]
          },
          "execution_count": 29,
          "metadata": {},
          "output_type": "execute_result"
        }
      ],
      "source": [
        "len(docs)"
      ]
    },
    {
      "cell_type": "code",
      "execution_count": 40,
      "id": "19fed721",
      "metadata": {},
      "outputs": [
        {
          "data": {
            "text/plain": [
              "'Figgis had problems because permits were not issued for some street scenes. This caused him to film some scenes on the Las Vegas strip in one take to avoid the police, which Figgis said benefited production and the authenticity of the acting, remarking \"I\\'ve always hated the convention of shooting on a street, and then having to stop the traffic, and then having to tell the actors, \\'Well, there\\'s meant to be traffic here, so you\\'re going to have to shout.\\' And they\\'re shouting, but it\\'s quiet and they feel really stupid, because it\\'s unnatural. You put them up against a couple of trucks, with it all happening around them, and their voices become great\". Filming took place over 28 days.'"
            ]
          },
          "execution_count": 40,
          "metadata": {},
          "output_type": "execute_result"
        }
      ],
      "source": [
        "docs[100]"
      ]
    },
    {
      "cell_type": "markdown",
      "id": "116fd2b3",
      "metadata": {},
      "source": [
        "## Step 5: Create embeddings and ingest them into MongoDB\n"
      ]
    },
    {
      "cell_type": "code",
      "execution_count": 14,
      "id": "bd6128ba",
      "metadata": {},
      "outputs": [],
      "source": [
        "from pymongo import MongoClient\n",
        "from tqdm.auto import tqdm"
      ]
    },
    {
      "cell_type": "code",
      "execution_count": 42,
      "id": "3810090d",
      "metadata": {},
      "outputs": [],
      "source": [
        "def get_embeddings(docs: List[str], model: str) -> List[List[float]]:\n",
        "    \"\"\"\n",
        "    Generate embeddings using the OpenAI API.\n",
        "\n",
        "    Args:\n",
        "        docs (List[str]): List of texts to embed\n",
        "        model (str, optional): Model name. Defaults to \"text-embedding-3-large\".\n",
        "\n",
        "    Returns:\n",
        "        List[float]: Array of embeddings\n",
        "    \"\"\"\n",
        "    # replace newlines, which can negatively affect performance.\n",
        "    docs = [doc.replace(\"\\n\", \" \") for doc in docs]\n",
        "    response = openai_client.embeddings.create(input=docs, model=model)\n",
        "    response = [r.embedding for r in response.data]\n",
        "    return response"
      ]
    },
    {
      "cell_type": "code",
      "execution_count": null,
      "id": "8f1a433a",
      "metadata": {},
      "outputs": [],
      "source": [
        "client = MongoClient(MONGODB_URI, appname=\"devrel.showcase.ragas_eval\")\n",
        "DB_NAME = \"ragas_evals\"\n",
        "db = client[DB_NAME]"
      ]
    },
    {
      "cell_type": "code",
      "execution_count": 44,
      "id": "284c00dd",
      "metadata": {},
      "outputs": [],
      "source": [
        "batch_size = 128"
      ]
    },
    {
      "cell_type": "code",
      "execution_count": 45,
      "id": "ccbce870",
      "metadata": {},
      "outputs": [],
      "source": [
        "EVAL_EMBEDDING_MODELS = [\"text-embedding-ada-002\", \"text-embedding-3-small\"]"
      ]
    },
    {
      "cell_type": "code",
      "execution_count": 46,
      "id": "b604a706",
      "metadata": {},
      "outputs": [
        {
          "name": "stdout",
          "output_type": "stream",
          "text": [
            "Getting embeddings for the text-embedding-ada-002 model\n"
          ]
        },
        {
          "data": {
            "application/vnd.jupyter.widget-view+json": {
              "model_id": "57464acec4674b439109fabeda7c3f57",
              "version_major": 2,
              "version_minor": 0
            },
            "text/plain": [
              "  0%|          | 0/30 [00:00<?, ?it/s]"
            ]
          },
          "metadata": {},
          "output_type": "display_data"
        },
        {
          "name": "stdout",
          "output_type": "stream",
          "text": [
            "Finished getting embeddings for the text-embedding-ada-002 model\n",
            "Inserting embeddings for the text-embedding-ada-002 model\n",
            "Finished inserting embeddings for the text-embedding-ada-002 model\n",
            "Getting embeddings for the text-embedding-3-small model\n"
          ]
        },
        {
          "data": {
            "application/vnd.jupyter.widget-view+json": {
              "model_id": "681f975707ec4476a7cf2c0bb213047d",
              "version_major": 2,
              "version_minor": 0
            },
            "text/plain": [
              "  0%|          | 0/30 [00:00<?, ?it/s]"
            ]
          },
          "metadata": {},
          "output_type": "display_data"
        },
        {
          "name": "stdout",
          "output_type": "stream",
          "text": [
            "Finished getting embeddings for the text-embedding-3-small model\n",
            "Inserting embeddings for the text-embedding-3-small model\n",
            "Finished inserting embeddings for the text-embedding-3-small model\n"
          ]
        }
      ],
      "source": [
        "for model in EVAL_EMBEDDING_MODELS:\n",
        "    embedded_docs = []\n",
        "    print(f\"Getting embeddings for the {model} model\")\n",
        "    for i in tqdm(range(0, len(docs), batch_size)):\n",
        "        end = min(len(docs), i + batch_size)\n",
        "        batch = docs[i:end]\n",
        "        # Generate embeddings for current batch\n",
        "        batch_embeddings = get_embeddings(batch, model)\n",
        "        # Creating the documents to ingest into MongoDB for current batch\n",
        "        batch_embedded_docs = [\n",
        "            {\"text\": batch[i], \"embedding\": batch_embeddings[i]}\n",
        "            for i in range(len(batch))\n",
        "        ]\n",
        "        embedded_docs.extend(batch_embedded_docs)\n",
        "    print(f\"Finished getting embeddings for the {model} model\")\n",
        "\n",
        "    # Bulk insert documents into a MongoDB collection\n",
        "    print(f\"Inserting embeddings for the {model} model\")\n",
        "    collection = db[model]\n",
        "    collection.delete_many({})\n",
        "    collection.insert_many(embedded_docs)\n",
        "    print(f\"Finished inserting embeddings for the {model} model\")"
      ]
    },
    {
      "cell_type": "markdown",
      "id": "3a038b19",
      "metadata": {},
      "source": [
        "## Step 6: Compare embedding models for retrieval\n"
      ]
    },
    {
      "cell_type": "code",
      "execution_count": 47,
      "id": "ad8c421f",
      "metadata": {},
      "outputs": [],
      "source": [
        "import nest_asyncio\n",
        "from datasets import Dataset\n",
        "from langchain_core.vectorstores import VectorStoreRetriever\n",
        "from langchain_mongodb import MongoDBAtlasVectorSearch\n",
        "from langchain_openai import OpenAIEmbeddings\n",
        "from ragas import RunConfig, evaluate\n",
        "from ragas.metrics import context_precision, context_recall\n",
        "\n",
        "# Allow nested use of asyncio (used by RAGAS)\n",
        "nest_asyncio.apply()"
      ]
    },
    {
      "cell_type": "code",
      "execution_count": 48,
      "id": "6fbdb607",
      "metadata": {},
      "outputs": [],
      "source": [
        "def get_retriever(model: str, k: int) -> VectorStoreRetriever:\n",
        "    \"\"\"\n",
        "    Given an embedding model and top k, get a vector store retriever object\n",
        "\n",
        "    Args:\n",
        "        model (str): Embedding model to use\n",
        "        k (int): Number of results to retrieve\n",
        "\n",
        "    Returns:\n",
        "        VectorStoreRetriever: A vector store retriever object\n",
        "    \"\"\"\n",
        "    embeddings = OpenAIEmbeddings(model=model)\n",
        "\n",
        "    vector_store = MongoDBAtlasVectorSearch.from_connection_string(\n",
        "        connection_string=MONGODB_URI,\n",
        "        namespace=f\"{DB_NAME}.{model}\",\n",
        "        embedding=embeddings,\n",
        "        index_name=\"vector_index\",\n",
        "        text_key=\"text\",\n",
        "    )\n",
        "\n",
        "    retriever = vector_store.as_retriever(\n",
        "        search_type=\"similarity\", search_kwargs={\"k\": k}\n",
        "    )\n",
        "    return retriever"
      ]
    },
    {
      "cell_type": "code",
      "execution_count": 49,
      "id": "2733c6c5",
      "metadata": {},
      "outputs": [],
      "source": [
        "QUESTIONS = df[\"question\"].to_list()\n",
        "GROUND_TRUTH = df[\"correct_answer\"].tolist()"
      ]
    },
    {
      "cell_type": "code",
      "execution_count": 50,
      "id": "64d1f50a",
      "metadata": {},
      "outputs": [
        {
          "data": {
            "application/vnd.jupyter.widget-view+json": {
              "model_id": "f4c3aa6ff87745e4acb54617fe390221",
              "version_major": 2,
              "version_minor": 0
            },
            "text/plain": [
              "  0%|          | 0/232 [00:00<?, ?it/s]"
            ]
          },
          "metadata": {},
          "output_type": "display_data"
        },
        {
          "data": {
            "application/vnd.jupyter.widget-view+json": {
              "model_id": "28a1370738a8460f8e8d8d50f359313b",
              "version_major": 2,
              "version_minor": 0
            },
            "text/plain": [
              "Evaluating:   0%|          | 0/464 [00:00<?, ?it/s]"
            ]
          },
          "metadata": {},
          "output_type": "display_data"
        },
        {
          "name": "stderr",
          "output_type": "stream",
          "text": [
            "Failed to parse output. Returning None.\n"
          ]
        },
        {
          "name": "stdout",
          "output_type": "stream",
          "text": [
            "Result for the text-embedding-ada-002 model: {'context_precision': 0.9310, 'context_recall': 0.8561}\n"
          ]
        },
        {
          "data": {
            "application/vnd.jupyter.widget-view+json": {
              "model_id": "6193f91e3cec4cf8aae243dcec7b0af5",
              "version_major": 2,
              "version_minor": 0
            },
            "text/plain": [
              "  0%|          | 0/232 [00:00<?, ?it/s]"
            ]
          },
          "metadata": {},
          "output_type": "display_data"
        },
        {
          "data": {
            "application/vnd.jupyter.widget-view+json": {
              "model_id": "b320fdc87b9d4878b583918cd51f7889",
              "version_major": 2,
              "version_minor": 0
            },
            "text/plain": [
              "Evaluating:   0%|          | 0/464 [00:00<?, ?it/s]"
            ]
          },
          "metadata": {},
          "output_type": "display_data"
        },
        {
          "name": "stdout",
          "output_type": "stream",
          "text": [
            "Result for the text-embedding-3-small model: {'context_precision': 0.9116, 'context_recall': 0.8826}\n"
          ]
        }
      ],
      "source": [
        "for model in EVAL_EMBEDDING_MODELS:\n",
        "    data = {\"question\": [], \"ground_truth\": [], \"contexts\": []}\n",
        "    data[\"question\"] = QUESTIONS\n",
        "    data[\"ground_truth\"] = GROUND_TRUTH\n",
        "\n",
        "    retriever = get_retriever(model, 2)\n",
        "    # Getting relevant documents for the evaluation dataset\n",
        "    for question in tqdm(QUESTIONS):\n",
        "        data[\"contexts\"].append(\n",
        "            [doc.page_content for doc in retriever.get_relevant_documents(question)]\n",
        "        )\n",
        "    # RAGAS expects a Dataset object\n",
        "    dataset = Dataset.from_dict(data)\n",
        "    # RAGAS runtime settings to avoid hitting OpenAI rate limits\n",
        "    run_config = RunConfig(max_workers=4, max_wait=180)\n",
        "    result = evaluate(\n",
        "        dataset=dataset,\n",
        "        metrics=[context_precision, context_recall],\n",
        "        run_config=run_config,\n",
        "        raise_exceptions=False,\n",
        "    )\n",
        "    print(f\"Result for the {model} model: {result}\")"
      ]
    },
    {
      "cell_type": "markdown",
      "id": "a01417f5",
      "metadata": {},
      "source": [
        "## Step 7: Compare completion models for generation\n"
      ]
    },
    {
      "cell_type": "code",
      "execution_count": 51,
      "id": "7920a58f",
      "metadata": {},
      "outputs": [],
      "source": [
        "from langchain_core.output_parsers import StrOutputParser\n",
        "from langchain_core.prompts import ChatPromptTemplate\n",
        "from langchain_core.runnables import RunnablePassthrough\n",
        "from langchain_core.runnables.base import RunnableSequence\n",
        "from langchain_openai import ChatOpenAI\n",
        "from ragas.metrics import answer_relevancy, faithfulness"
      ]
    },
    {
      "cell_type": "code",
      "execution_count": 52,
      "id": "44221aa4",
      "metadata": {},
      "outputs": [],
      "source": [
        "def get_rag_chain(retriever: VectorStoreRetriever, model: str) -> RunnableSequence:\n",
        "    \"\"\"\n",
        "    Create a basic RAG chain\n",
        "\n",
        "    Args:\n",
        "        retriever (VectorStoreRetriever): Vector store retriever object\n",
        "        model (str): Chat completion model to use\n",
        "\n",
        "    Returns:\n",
        "        RunnableSequence: A RAG chain\n",
        "    \"\"\"\n",
        "    # Generate context using the retriever, and pass the user question through\n",
        "    retrieve = {\n",
        "        \"context\": retriever\n",
        "        | (lambda docs: \"\\n\\n\".join([d.page_content for d in docs])),\n",
        "        \"question\": RunnablePassthrough(),\n",
        "    }\n",
        "    template = \"\"\"Answer the question based only on the following context: \\\n",
        "    {context}\n",
        "\n",
        "    Question: {question}\n",
        "    \"\"\"\n",
        "    # Defining the chat prompt\n",
        "    prompt = ChatPromptTemplate.from_template(template)\n",
        "    # Defining the model to be used for chat completion\n",
        "    llm = ChatOpenAI(temperature=0, model=model)\n",
        "    # Parse output as a string\n",
        "    parse_output = StrOutputParser()\n",
        "\n",
        "    # Naive RAG chain\n",
        "    rag_chain = retrieve | prompt | llm | parse_output\n",
        "    return rag_chain"
      ]
    },
    {
      "cell_type": "code",
      "execution_count": 54,
      "id": "81b685ba",
      "metadata": {},
      "outputs": [
        {
          "data": {
            "application/vnd.jupyter.widget-view+json": {
              "model_id": "8e0dbbc8da9a4e7bae2f8b891833c5f1",
              "version_major": 2,
              "version_minor": 0
            },
            "text/plain": [
              "  0%|          | 0/232 [00:00<?, ?it/s]"
            ]
          },
          "metadata": {},
          "output_type": "display_data"
        },
        {
          "data": {
            "application/vnd.jupyter.widget-view+json": {
              "model_id": "c2831fa2ae464fcdabc90642ee4e46b8",
              "version_major": 2,
              "version_minor": 0
            },
            "text/plain": [
              "Evaluating:   0%|          | 0/464 [00:00<?, ?it/s]"
            ]
          },
          "metadata": {},
          "output_type": "display_data"
        },
        {
          "name": "stderr",
          "output_type": "stream",
          "text": [
            "No statements were generated from the answer.\n",
            "No statements were generated from the answer.\n",
            "No statements were generated from the answer.\n"
          ]
        },
        {
          "name": "stdout",
          "output_type": "stream",
          "text": [
            "Result for the gpt-3.5-turbo-1106 model: {'faithfulness': 0.9671, 'answer_relevancy': 0.9105}\n"
          ]
        },
        {
          "data": {
            "application/vnd.jupyter.widget-view+json": {
              "model_id": "79f5f67fabc94832ba448a36fe12f725",
              "version_major": 2,
              "version_minor": 0
            },
            "text/plain": [
              "  0%|          | 0/232 [00:00<?, ?it/s]"
            ]
          },
          "metadata": {},
          "output_type": "display_data"
        },
        {
          "data": {
            "application/vnd.jupyter.widget-view+json": {
              "model_id": "e628a1af3a614c90ac0a11746f996187",
              "version_major": 2,
              "version_minor": 0
            },
            "text/plain": [
              "Evaluating:   0%|          | 0/464 [00:00<?, ?it/s]"
            ]
          },
          "metadata": {},
          "output_type": "display_data"
        },
        {
          "name": "stderr",
          "output_type": "stream",
          "text": [
            "No statements were generated from the answer.\n",
            "No statements were generated from the answer.\n",
            "No statements were generated from the answer.\n",
            "No statements were generated from the answer.\n",
            "No statements were generated from the answer.\n"
          ]
        },
        {
          "name": "stdout",
          "output_type": "stream",
          "text": [
            "Result for the gpt-3.5-turbo model: {'faithfulness': 0.9714, 'answer_relevancy': 0.9087}\n"
          ]
        }
      ],
      "source": [
        "for model in [\"gpt-3.5-turbo-1106\", \"gpt-3.5-turbo\"]:\n",
        "    data = {\"question\": [], \"ground_truth\": [], \"contexts\": [], \"answer\": []}\n",
        "    data[\"question\"] = QUESTIONS\n",
        "    data[\"ground_truth\"] = GROUND_TRUTH\n",
        "    # Using the best embedding model from the retriever evaluation\n",
        "    retriever = get_retriever(\"text-embedding-3-small\", 2)\n",
        "    rag_chain = get_rag_chain(retriever, model)\n",
        "    for question in tqdm(QUESTIONS):\n",
        "        data[\"answer\"].append(rag_chain.invoke(question))\n",
        "        data[\"contexts\"].append(\n",
        "            [doc.page_content for doc in retriever.get_relevant_documents(question)]\n",
        "        )\n",
        "    # RAGAS expects a Dataset object\n",
        "    dataset = Dataset.from_dict(data)\n",
        "    # RAGAS runtime settings to avoid hitting OpenAI rate limits\n",
        "    run_config = RunConfig(max_workers=4, max_wait=180)\n",
        "    result = evaluate(\n",
        "        dataset=dataset,\n",
        "        metrics=[faithfulness, answer_relevancy],\n",
        "        run_config=run_config,\n",
        "        raise_exceptions=False,\n",
        "    )\n",
        "    print(f\"Result for the {model} model: {result}\")"
      ]
    },
    {
      "cell_type": "markdown",
      "id": "fa0987b0",
      "metadata": {},
      "source": [
        "## Step 8: Measure overall performance of the RAG application\n"
      ]
    },
    {
      "cell_type": "code",
      "execution_count": 55,
      "id": "d2634bef",
      "metadata": {},
      "outputs": [],
      "source": [
        "from ragas.metrics import answer_correctness, answer_similarity"
      ]
    },
    {
      "cell_type": "code",
      "execution_count": 56,
      "id": "2df51425",
      "metadata": {},
      "outputs": [
        {
          "data": {
            "application/vnd.jupyter.widget-view+json": {
              "model_id": "213c0d9e4690497a830a31bc0f235a4a",
              "version_major": 2,
              "version_minor": 0
            },
            "text/plain": [
              "  0%|          | 0/232 [00:00<?, ?it/s]"
            ]
          },
          "metadata": {},
          "output_type": "display_data"
        },
        {
          "data": {
            "application/vnd.jupyter.widget-view+json": {
              "model_id": "df0b655529e345d982aa017057c5b55d",
              "version_major": 2,
              "version_minor": 0
            },
            "text/plain": [
              "Evaluating:   0%|          | 0/464 [00:00<?, ?it/s]"
            ]
          },
          "metadata": {},
          "output_type": "display_data"
        },
        {
          "name": "stdout",
          "output_type": "stream",
          "text": [
            "Overall metrics: {'answer_similarity': 0.8873, 'answer_correctness': 0.5922}\n"
          ]
        }
      ],
      "source": [
        "data = {\"question\": [], \"ground_truth\": [], \"answer\": []}\n",
        "data[\"question\"] = QUESTIONS\n",
        "data[\"ground_truth\"] = GROUND_TRUTH\n",
        "# Using the best embedding model from the retriever evaluation\n",
        "retriever = get_retriever(\"text-embedding-3-small\", 2)\n",
        "# Using the best completion model from the generator evaluation\n",
        "rag_chain = get_rag_chain(retriever, \"gpt-3.5-turbo\")\n",
        "for question in tqdm(QUESTIONS):\n",
        "    data[\"answer\"].append(rag_chain.invoke(question))\n",
        "\n",
        "dataset = Dataset.from_dict(data)\n",
        "run_config = RunConfig(max_workers=4, max_wait=180)\n",
        "result = evaluate(\n",
        "    dataset=dataset,\n",
        "    metrics=[answer_similarity, answer_correctness],\n",
        "    run_config=run_config,\n",
        "    raise_exceptions=False,\n",
        ")\n",
        "print(f\"Overall metrics: {result}\")"
      ]
    },
    {
      "cell_type": "code",
      "execution_count": 57,
      "id": "693d6962",
      "metadata": {},
      "outputs": [],
      "source": [
        "result_df = result.to_pandas()"
      ]
    },
    {
      "cell_type": "code",
      "execution_count": 58,
      "id": "fc41aaf4",
      "metadata": {},
      "outputs": [
        {
          "data": {
            "text/html": [
              "<div>\n",
              "<style scoped>\n",
              "    .dataframe tbody tr th:only-of-type {\n",
              "        vertical-align: middle;\n",
              "    }\n",
              "\n",
              "    .dataframe tbody tr th {\n",
              "        vertical-align: top;\n",
              "    }\n",
              "\n",
              "    .dataframe thead th {\n",
              "        text-align: right;\n",
              "    }\n",
              "</style>\n",
              "<table border=\"1\" class=\"dataframe\">\n",
              "  <thead>\n",
              "    <tr style=\"text-align: right;\">\n",
              "      <th></th>\n",
              "      <th>question</th>\n",
              "      <th>ground_truth</th>\n",
              "      <th>answer</th>\n",
              "      <th>answer_similarity</th>\n",
              "      <th>answer_correctness</th>\n",
              "    </tr>\n",
              "  </thead>\n",
              "  <tbody>\n",
              "    <tr>\n",
              "      <th>0</th>\n",
              "      <td>HOW AFRICAN AMERICANS WERE IMMIGRATED TO THE US</td>\n",
              "      <td>As such, African immigrants are to be distingu...</td>\n",
              "      <td>African Americans were involuntarily brought f...</td>\n",
              "      <td>0.913499</td>\n",
              "      <td>0.603375</td>\n",
              "    </tr>\n",
              "    <tr>\n",
              "      <th>1</th>\n",
              "      <td>what are points on a mortgage</td>\n",
              "      <td>Points, sometimes also called a \"discount poin...</td>\n",
              "      <td>Points on a mortgage are a form of pre-paid in...</td>\n",
              "      <td>0.914100</td>\n",
              "      <td>0.528525</td>\n",
              "    </tr>\n",
              "    <tr>\n",
              "      <th>2</th>\n",
              "      <td>how does interlibrary loan work</td>\n",
              "      <td>The user makes a request with their local libr...</td>\n",
              "      <td>Interlibrary loan works by allowing patrons of...</td>\n",
              "      <td>0.885328</td>\n",
              "      <td>0.864189</td>\n",
              "    </tr>\n",
              "    <tr>\n",
              "      <th>3</th>\n",
              "      <td>WHAT IS A FY QUARTER</td>\n",
              "      <td>A fiscal year (or financial year, or sometimes...</td>\n",
              "      <td>A FY quarter is a three-month period within a ...</td>\n",
              "      <td>0.872582</td>\n",
              "      <td>0.718120</td>\n",
              "    </tr>\n",
              "    <tr>\n",
              "      <th>4</th>\n",
              "      <td>who wrote a rose is a rose is a rose</td>\n",
              "      <td>The sentence \"Rose is a rose is a rose is a ro...</td>\n",
              "      <td>Gertrude Stein</td>\n",
              "      <td>0.868273</td>\n",
              "      <td>0.592068</td>\n",
              "    </tr>\n",
              "  </tbody>\n",
              "</table>\n",
              "</div>"
            ],
            "text/plain": [
              "                                          question  \\\n",
              "0  HOW AFRICAN AMERICANS WERE IMMIGRATED TO THE US   \n",
              "1                    what are points on a mortgage   \n",
              "2                  how does interlibrary loan work   \n",
              "3                             WHAT IS A FY QUARTER   \n",
              "4             who wrote a rose is a rose is a rose   \n",
              "\n",
              "                                        ground_truth  \\\n",
              "0  As such, African immigrants are to be distingu...   \n",
              "1  Points, sometimes also called a \"discount poin...   \n",
              "2  The user makes a request with their local libr...   \n",
              "3  A fiscal year (or financial year, or sometimes...   \n",
              "4  The sentence \"Rose is a rose is a rose is a ro...   \n",
              "\n",
              "                                              answer  answer_similarity  \\\n",
              "0  African Americans were involuntarily brought f...           0.913499   \n",
              "1  Points on a mortgage are a form of pre-paid in...           0.914100   \n",
              "2  Interlibrary loan works by allowing patrons of...           0.885328   \n",
              "3  A FY quarter is a three-month period within a ...           0.872582   \n",
              "4                                     Gertrude Stein           0.868273   \n",
              "\n",
              "   answer_correctness  \n",
              "0            0.603375  \n",
              "1            0.528525  \n",
              "2            0.864189  \n",
              "3            0.718120  \n",
              "4            0.592068  "
            ]
          },
          "execution_count": 58,
          "metadata": {},
          "output_type": "execute_result"
        }
      ],
      "source": [
        "result_df.head(5)"
      ]
    },
    {
      "cell_type": "code",
      "execution_count": 60,
      "id": "5c981019",
      "metadata": {},
      "outputs": [
        {
          "data": {
            "text/html": [
              "<div>\n",
              "<style scoped>\n",
              "    .dataframe tbody tr th:only-of-type {\n",
              "        vertical-align: middle;\n",
              "    }\n",
              "\n",
              "    .dataframe tbody tr th {\n",
              "        vertical-align: top;\n",
              "    }\n",
              "\n",
              "    .dataframe thead th {\n",
              "        text-align: right;\n",
              "    }\n",
              "</style>\n",
              "<table border=\"1\" class=\"dataframe\">\n",
              "  <thead>\n",
              "    <tr style=\"text-align: right;\">\n",
              "      <th></th>\n",
              "      <th>question</th>\n",
              "      <th>ground_truth</th>\n",
              "      <th>answer</th>\n",
              "      <th>answer_similarity</th>\n",
              "      <th>answer_correctness</th>\n",
              "    </tr>\n",
              "  </thead>\n",
              "  <tbody>\n",
              "    <tr>\n",
              "      <th>0</th>\n",
              "      <td>HOW AFRICAN AMERICANS WERE IMMIGRATED TO THE US</td>\n",
              "      <td>As such, African immigrants are to be distingu...</td>\n",
              "      <td>African Americans were involuntarily brought f...</td>\n",
              "      <td>0.913499</td>\n",
              "      <td>0.603375</td>\n",
              "    </tr>\n",
              "    <tr>\n",
              "      <th>1</th>\n",
              "      <td>what are points on a mortgage</td>\n",
              "      <td>Points, sometimes also called a \"discount poin...</td>\n",
              "      <td>Points on a mortgage are a form of pre-paid in...</td>\n",
              "      <td>0.914100</td>\n",
              "      <td>0.528525</td>\n",
              "    </tr>\n",
              "    <tr>\n",
              "      <th>4</th>\n",
              "      <td>who wrote a rose is a rose is a rose</td>\n",
              "      <td>The sentence \"Rose is a rose is a rose is a ro...</td>\n",
              "      <td>Gertrude Stein</td>\n",
              "      <td>0.868273</td>\n",
              "      <td>0.592068</td>\n",
              "    </tr>\n",
              "    <tr>\n",
              "      <th>6</th>\n",
              "      <td>what bacteria grow on macconkey agar</td>\n",
              "      <td>MacConkey agar is a culture medium designed to...</td>\n",
              "      <td>Gram-negative and enteric bacteria grow on Mac...</td>\n",
              "      <td>0.905663</td>\n",
              "      <td>0.526416</td>\n",
              "    </tr>\n",
              "    <tr>\n",
              "      <th>10</th>\n",
              "      <td>what is a day care for?</td>\n",
              "      <td>Child care or day care is the care of a child ...</td>\n",
              "      <td>A day care is for the care and supervision of ...</td>\n",
              "      <td>0.945214</td>\n",
              "      <td>0.536303</td>\n",
              "    </tr>\n",
              "    <tr>\n",
              "      <th>...</th>\n",
              "      <td>...</td>\n",
              "      <td>...</td>\n",
              "      <td>...</td>\n",
              "      <td>...</td>\n",
              "      <td>...</td>\n",
              "    </tr>\n",
              "    <tr>\n",
              "      <th>224</th>\n",
              "      <td>how many asian indians live in usa</td>\n",
              "      <td>Indian Americans are citizens of the United St...</td>\n",
              "      <td>Approximately 4.5 million Indian Americans liv...</td>\n",
              "      <td>0.888910</td>\n",
              "      <td>0.597227</td>\n",
              "    </tr>\n",
              "    <tr>\n",
              "      <th>225</th>\n",
              "      <td>what happened to george o'malley on grey's ana...</td>\n",
              "      <td>In 2007, Knight's co-star Isaiah Washington ( ...</td>\n",
              "      <td>George O'Malley died on Grey's Anatomy.</td>\n",
              "      <td>0.805490</td>\n",
              "      <td>0.201374</td>\n",
              "    </tr>\n",
              "    <tr>\n",
              "      <th>226</th>\n",
              "      <td>how much did yankee stadium cost</td>\n",
              "      <td>Also controversial was the price tag of $1.5 b...</td>\n",
              "      <td>$2.3 billion</td>\n",
              "      <td>0.773524</td>\n",
              "      <td>0.193381</td>\n",
              "    </tr>\n",
              "    <tr>\n",
              "      <th>229</th>\n",
              "      <td>how kimberlite pipes form</td>\n",
              "      <td>Volcanic pipes are relatively rare.</td>\n",
              "      <td>Kimberlite pipes form when an eruption ejects ...</td>\n",
              "      <td>0.818068</td>\n",
              "      <td>0.204517</td>\n",
              "    </tr>\n",
              "    <tr>\n",
              "      <th>230</th>\n",
              "      <td>what county is coatesville indiana located in</td>\n",
              "      <td>Coatesville is a town in Clay Township , Hendr...</td>\n",
              "      <td>Hendricks County</td>\n",
              "      <td>0.799358</td>\n",
              "      <td>0.699839</td>\n",
              "    </tr>\n",
              "  </tbody>\n",
              "</table>\n",
              "<p>112 rows × 5 columns</p>\n",
              "</div>"
            ],
            "text/plain": [
              "                                              question  \\\n",
              "0      HOW AFRICAN AMERICANS WERE IMMIGRATED TO THE US   \n",
              "1                        what are points on a mortgage   \n",
              "4                 who wrote a rose is a rose is a rose   \n",
              "6                 what bacteria grow on macconkey agar   \n",
              "10                             what is a day care for?   \n",
              "..                                                 ...   \n",
              "224                 how many asian indians live in usa   \n",
              "225  what happened to george o'malley on grey's ana...   \n",
              "226                   how much did yankee stadium cost   \n",
              "229                          how kimberlite pipes form   \n",
              "230      what county is coatesville indiana located in   \n",
              "\n",
              "                                          ground_truth  \\\n",
              "0    As such, African immigrants are to be distingu...   \n",
              "1    Points, sometimes also called a \"discount poin...   \n",
              "4    The sentence \"Rose is a rose is a rose is a ro...   \n",
              "6    MacConkey agar is a culture medium designed to...   \n",
              "10   Child care or day care is the care of a child ...   \n",
              "..                                                 ...   \n",
              "224  Indian Americans are citizens of the United St...   \n",
              "225  In 2007, Knight's co-star Isaiah Washington ( ...   \n",
              "226  Also controversial was the price tag of $1.5 b...   \n",
              "229                Volcanic pipes are relatively rare.   \n",
              "230  Coatesville is a town in Clay Township , Hendr...   \n",
              "\n",
              "                                                answer  answer_similarity  \\\n",
              "0    African Americans were involuntarily brought f...           0.913499   \n",
              "1    Points on a mortgage are a form of pre-paid in...           0.914100   \n",
              "4                                       Gertrude Stein           0.868273   \n",
              "6    Gram-negative and enteric bacteria grow on Mac...           0.905663   \n",
              "10   A day care is for the care and supervision of ...           0.945214   \n",
              "..                                                 ...                ...   \n",
              "224  Approximately 4.5 million Indian Americans liv...           0.888910   \n",
              "225            George O'Malley died on Grey's Anatomy.           0.805490   \n",
              "226                                       $2.3 billion           0.773524   \n",
              "229  Kimberlite pipes form when an eruption ejects ...           0.818068   \n",
              "230                                   Hendricks County           0.799358   \n",
              "\n",
              "     answer_correctness  \n",
              "0              0.603375  \n",
              "1              0.528525  \n",
              "4              0.592068  \n",
              "6              0.526416  \n",
              "10             0.536303  \n",
              "..                  ...  \n",
              "224            0.597227  \n",
              "225            0.201374  \n",
              "226            0.193381  \n",
              "229            0.204517  \n",
              "230            0.699839  \n",
              "\n",
              "[112 rows x 5 columns]"
            ]
          },
          "execution_count": 60,
          "metadata": {},
          "output_type": "execute_result"
        }
      ],
      "source": [
        "result_df[result_df[\"answer_correctness\"] < 0.7]"
      ]
    },
    {
      "cell_type": "code",
      "execution_count": 59,
      "id": "9ad440d0",
      "metadata": {},
      "outputs": [
        {
          "data": {
            "image/png": "[encoded data removed]",
            "text/plain": [
              "<Figure size 1000x800 with 2 Axes>"
            ]
          },
          "metadata": {},
          "output_type": "display_data"
        }
      ],
      "source": [
        "import matplotlib.pyplot as plt\n",
        "import seaborn as sns\n",
        "\n",
        "plt.figure(figsize=(10, 8))\n",
        "sns.heatmap(\n",
        "    result_df[1:10].set_index(\"question\")[[\"answer_similarity\", \"answer_correctness\"]],\n",
        "    annot=True,\n",
        "    cmap=\"flare\",\n",
        ")\n",
        "plt.show()"
      ]
    },
    {
      "cell_type": "markdown",
      "id": "3594fb81",
      "metadata": {},
      "source": [
        "## Step 9: Tracking performance over time\n"
      ]
    },
    {
      "cell_type": "code",
      "execution_count": 2,
      "id": "ce96abfe",
      "metadata": {},
      "outputs": [],
      "source": [
        "from datetime import datetime"
      ]
    },
    {
      "cell_type": "code",
      "execution_count": 6,
      "id": "6460ac25",
      "metadata": {},
      "outputs": [],
      "source": [
        "result[\"timestamp\"] = datetime.now()"
      ]
    },
    {
      "cell_type": "code",
      "execution_count": 22,
      "id": "06c2361e",
      "metadata": {},
      "outputs": [
        {
          "data": {
            "text/plain": [
              "InsertOneResult(ObjectId('66132f1305da5dc970ad919c'), acknowledged=True)"
            ]
          },
          "execution_count": 22,
          "metadata": {},
          "output_type": "execute_result"
        }
      ],
      "source": [
        "collection = db[\"metrics\"]\n",
        "collection.insert_one(result)"
      ]
    }
  ],
  "metadata": {
    "kernelspec": {
      "display_name": ".venv",
      "language": "python",
      "name": "python3"
    },
    "language_info": {
      "codemirror_mode": {
        "name": "ipython",
        "version": 3
      },
      "file_extension": ".py",
      "mimetype": "text/x-python",
      "name": "python",
      "nbconvert_exporter": "python",
      "pygments_lexer": "ipython3",
      "version": "3.12.1"
    },
    "widgets": {
      "application/vnd.jupyter.widget-state+json": {
        "state": {}
      }
    }
  },
  "nbformat": 4,
  "nbformat_minor": 5
}
